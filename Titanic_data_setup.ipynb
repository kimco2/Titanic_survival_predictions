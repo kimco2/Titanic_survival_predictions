{
 "cells": [
  {
   "attachments": {},
   "cell_type": "markdown",
   "metadata": {},
   "source": [
    "# Titanic - data setup"
   ]
  },
  {
   "cell_type": "code",
   "execution_count": 64,
   "metadata": {},
   "outputs": [],
   "source": [
    "import pandas as pd\n",
    "import numpy as np\n",
    "import matplotlib.pyplot as plt\n",
    "import seaborn as sns\n",
    "import missingno as msno"
   ]
  },
  {
   "cell_type": "code",
   "execution_count": 65,
   "metadata": {},
   "outputs": [
    {
     "data": {
      "text/html": [
       "<div>\n",
       "<style scoped>\n",
       "    .dataframe tbody tr th:only-of-type {\n",
       "        vertical-align: middle;\n",
       "    }\n",
       "\n",
       "    .dataframe tbody tr th {\n",
       "        vertical-align: top;\n",
       "    }\n",
       "\n",
       "    .dataframe thead th {\n",
       "        text-align: right;\n",
       "    }\n",
       "</style>\n",
       "<table border=\"1\" class=\"dataframe\">\n",
       "  <thead>\n",
       "    <tr style=\"text-align: right;\">\n",
       "      <th></th>\n",
       "      <th>pclass</th>\n",
       "      <th>survived</th>\n",
       "      <th>name</th>\n",
       "      <th>sex</th>\n",
       "      <th>age</th>\n",
       "      <th>sibsp</th>\n",
       "      <th>parch</th>\n",
       "      <th>ticket</th>\n",
       "      <th>fare</th>\n",
       "      <th>cabin</th>\n",
       "      <th>embarked</th>\n",
       "      <th>boat</th>\n",
       "      <th>body</th>\n",
       "      <th>home.dest</th>\n",
       "    </tr>\n",
       "  </thead>\n",
       "  <tbody>\n",
       "    <tr>\n",
       "      <th>0</th>\n",
       "      <td>1</td>\n",
       "      <td>1</td>\n",
       "      <td>Allen, Miss. Elisabeth Walton</td>\n",
       "      <td>female</td>\n",
       "      <td>29.0000</td>\n",
       "      <td>0</td>\n",
       "      <td>0</td>\n",
       "      <td>24160</td>\n",
       "      <td>211.3375</td>\n",
       "      <td>B5</td>\n",
       "      <td>S</td>\n",
       "      <td>2</td>\n",
       "      <td>NaN</td>\n",
       "      <td>St Louis, MO</td>\n",
       "    </tr>\n",
       "    <tr>\n",
       "      <th>1</th>\n",
       "      <td>1</td>\n",
       "      <td>1</td>\n",
       "      <td>Allison, Master. Hudson Trevor</td>\n",
       "      <td>male</td>\n",
       "      <td>0.9167</td>\n",
       "      <td>1</td>\n",
       "      <td>2</td>\n",
       "      <td>113781</td>\n",
       "      <td>151.5500</td>\n",
       "      <td>C22 C26</td>\n",
       "      <td>S</td>\n",
       "      <td>11</td>\n",
       "      <td>NaN</td>\n",
       "      <td>Montreal, PQ / Chesterville, ON</td>\n",
       "    </tr>\n",
       "    <tr>\n",
       "      <th>2</th>\n",
       "      <td>1</td>\n",
       "      <td>0</td>\n",
       "      <td>Allison, Miss. Helen Loraine</td>\n",
       "      <td>female</td>\n",
       "      <td>2.0000</td>\n",
       "      <td>1</td>\n",
       "      <td>2</td>\n",
       "      <td>113781</td>\n",
       "      <td>151.5500</td>\n",
       "      <td>C22 C26</td>\n",
       "      <td>S</td>\n",
       "      <td>NaN</td>\n",
       "      <td>NaN</td>\n",
       "      <td>Montreal, PQ / Chesterville, ON</td>\n",
       "    </tr>\n",
       "    <tr>\n",
       "      <th>3</th>\n",
       "      <td>1</td>\n",
       "      <td>0</td>\n",
       "      <td>Allison, Mr. Hudson Joshua Creighton</td>\n",
       "      <td>male</td>\n",
       "      <td>30.0000</td>\n",
       "      <td>1</td>\n",
       "      <td>2</td>\n",
       "      <td>113781</td>\n",
       "      <td>151.5500</td>\n",
       "      <td>C22 C26</td>\n",
       "      <td>S</td>\n",
       "      <td>NaN</td>\n",
       "      <td>135.0</td>\n",
       "      <td>Montreal, PQ / Chesterville, ON</td>\n",
       "    </tr>\n",
       "    <tr>\n",
       "      <th>4</th>\n",
       "      <td>1</td>\n",
       "      <td>0</td>\n",
       "      <td>Allison, Mrs. Hudson J C (Bessie Waldo Daniels)</td>\n",
       "      <td>female</td>\n",
       "      <td>25.0000</td>\n",
       "      <td>1</td>\n",
       "      <td>2</td>\n",
       "      <td>113781</td>\n",
       "      <td>151.5500</td>\n",
       "      <td>C22 C26</td>\n",
       "      <td>S</td>\n",
       "      <td>NaN</td>\n",
       "      <td>NaN</td>\n",
       "      <td>Montreal, PQ / Chesterville, ON</td>\n",
       "    </tr>\n",
       "  </tbody>\n",
       "</table>\n",
       "</div>"
      ],
      "text/plain": [
       "   pclass  survived                                             name     sex  \\\n",
       "0       1         1                    Allen, Miss. Elisabeth Walton  female   \n",
       "1       1         1                   Allison, Master. Hudson Trevor    male   \n",
       "2       1         0                     Allison, Miss. Helen Loraine  female   \n",
       "3       1         0             Allison, Mr. Hudson Joshua Creighton    male   \n",
       "4       1         0  Allison, Mrs. Hudson J C (Bessie Waldo Daniels)  female   \n",
       "\n",
       "       age  sibsp  parch  ticket      fare    cabin embarked boat   body  \\\n",
       "0  29.0000      0      0   24160  211.3375       B5        S    2    NaN   \n",
       "1   0.9167      1      2  113781  151.5500  C22 C26        S   11    NaN   \n",
       "2   2.0000      1      2  113781  151.5500  C22 C26        S  NaN    NaN   \n",
       "3  30.0000      1      2  113781  151.5500  C22 C26        S  NaN  135.0   \n",
       "4  25.0000      1      2  113781  151.5500  C22 C26        S  NaN    NaN   \n",
       "\n",
       "                         home.dest  \n",
       "0                     St Louis, MO  \n",
       "1  Montreal, PQ / Chesterville, ON  \n",
       "2  Montreal, PQ / Chesterville, ON  \n",
       "3  Montreal, PQ / Chesterville, ON  \n",
       "4  Montreal, PQ / Chesterville, ON  "
      ]
     },
     "execution_count": 65,
     "metadata": {},
     "output_type": "execute_result"
    }
   ],
   "source": [
    "# Read in the dataset - data sourced from https://www.kaggle.com/datasets/vinicius150987/titanic3\n",
    "titanic_df = pd.read_excel('data_files/titanic3.xls')\n",
    "titanic_df.head()"
   ]
  },
  {
   "cell_type": "code",
   "execution_count": 66,
   "metadata": {},
   "outputs": [
    {
     "name": "stdout",
     "output_type": "stream",
     "text": [
      "<class 'pandas.core.frame.DataFrame'>\n",
      "RangeIndex: 1309 entries, 0 to 1308\n",
      "Data columns (total 14 columns):\n",
      " #   Column     Non-Null Count  Dtype  \n",
      "---  ------     --------------  -----  \n",
      " 0   pclass     1309 non-null   int64  \n",
      " 1   survived   1309 non-null   int64  \n",
      " 2   name       1309 non-null   object \n",
      " 3   sex        1309 non-null   object \n",
      " 4   age        1046 non-null   float64\n",
      " 5   sibsp      1309 non-null   int64  \n",
      " 6   parch      1309 non-null   int64  \n",
      " 7   ticket     1309 non-null   object \n",
      " 8   fare       1308 non-null   float64\n",
      " 9   cabin      295 non-null    object \n",
      " 10  embarked   1307 non-null   object \n",
      " 11  boat       486 non-null    object \n",
      " 12  body       121 non-null    float64\n",
      " 13  home.dest  745 non-null    object \n",
      "dtypes: float64(3), int64(4), object(7)\n",
      "memory usage: 143.3+ KB\n"
     ]
    }
   ],
   "source": [
    "# Review the data\n",
    "titanic_df.info()"
   ]
  },
  {
   "cell_type": "code",
   "execution_count": 67,
   "metadata": {},
   "outputs": [
    {
     "name": "stdout",
     "output_type": "stream",
     "text": [
      "pclass          0\n",
      "survived        0\n",
      "name            0\n",
      "sex             0\n",
      "age           263\n",
      "sibsp           0\n",
      "parch           0\n",
      "ticket          0\n",
      "fare            1\n",
      "cabin        1014\n",
      "embarked        2\n",
      "boat          823\n",
      "body         1188\n",
      "home.dest     564\n",
      "dtype: int64\n"
     ]
    },
    {
     "data": {
      "image/png": "[encoded data removed]",
      "text/plain": [
       "<Figure size 648x360 with 1 Axes>"
      ]
     },
     "metadata": {
      "needs_background": "light"
     },
     "output_type": "display_data"
    }
   ],
   "source": [
    "# Looking at amount of missing data\n",
    "print(titanic_df.isna().sum())\n",
    "fig, ax = plt.subplots(figsize=(9,5))\n",
    "sns.heatmap(titanic_df.isnull(), cbar=False, cmap=\"YlGnBu_r\")\n",
    "plt.show()"
   ]
  },
  {
   "attachments": {},
   "cell_type": "markdown",
   "metadata": {},
   "source": [
    "# Exploring the data"
   ]
  },
  {
   "cell_type": "code",
   "execution_count": 68,
   "metadata": {},
   "outputs": [],
   "source": [
    "# Creating a copy of the dataframe\n",
    "graph_df = titanic_df.copy()"
   ]
  },
  {
   "cell_type": "code",
   "execution_count": 69,
   "metadata": {},
   "outputs": [],
   "source": [
    "# Defining colour palette for graphs\n",
    "palette = 'YlGnBu'"
   ]
  },
  {
   "attachments": {},
   "cell_type": "markdown",
   "metadata": {},
   "source": [
    "### Who was onboard?"
   ]
  },
  {
   "attachments": {},
   "cell_type": "markdown",
   "metadata": {},
   "source": [
    "<h7> Passengers by sex"
   ]
  },
  {
   "cell_type": "code",
   "execution_count": 70,
   "metadata": {},
   "outputs": [
    {
     "data": {
      "text/plain": [
       "Text(0.5, 1.0, 'Sex by survival')"
      ]
     },
     "execution_count": 70,
     "metadata": {},
     "output_type": "execute_result"
    },
    {
     "data": {
      "image/png": "[encoded data removed]",
      "text/plain": [
       "<Figure size 1296x360 with 3 Axes>"
      ]
     },
     "metadata": {
      "needs_background": "light"
     },
     "output_type": "display_data"
    }
   ],
   "source": [
    "# Charting sex data\n",
    "fig, axes = plt.subplots(1, 3, figsize=(18, 5))\n",
    "sns.countplot(ax=axes[0], data=graph_df, x='sex', palette=palette).set_title(\"Number of males and females onboard\", fontsize=14, fontweight='bold')\n",
    "sns.countplot(ax=axes[1], data=graph_df, x='sex', hue='pclass',  palette=palette).set_title(\"Sex by passenger class\", fontsize=14, fontweight='bold')\n",
    "sns.countplot(ax=axes[2], data=graph_df, x='sex', hue='survived',  palette=palette).set_title(\"Sex by survival\", fontsize=14, fontweight='bold')"
   ]
  },
  {
   "attachments": {},
   "cell_type": "markdown",
   "metadata": {},
   "source": [
    "<h7> Age of passengers"
   ]
  },
  {
   "cell_type": "code",
   "execution_count": 71,
   "metadata": {},
   "outputs": [
    {
     "data": {
      "text/plain": [
       "Text(0.5, 1.0, 'Age by survival')"
      ]
     },
     "execution_count": 71,
     "metadata": {},
     "output_type": "execute_result"
    },
    {
     "data": {
      "image/png": "[encoded data removed]",
      "text/plain": [
       "<Figure size 1296x360 with 3 Axes>"
      ]
     },
     "metadata": {
      "needs_background": "light"
     },
     "output_type": "display_data"
    }
   ],
   "source": [
    "# Charting age of passengers\n",
    "fig, axes = plt.subplots(1, 3, figsize=(18, 5))\n",
    "sns.histplot(ax=axes[0], data=graph_df, x='age', bins=10, alpha=1).set_title(\"Age of passengers onboard\", fontsize=14, fontweight='bold')\n",
    "sns.histplot(ax=axes[1], data=graph_df, x='age', hue='sex',  palette=palette, bins=10, alpha=1).set_title(\"Age of passengers by gender\", fontsize=14, fontweight='bold')\n",
    "sns.histplot(ax=axes[2], data=graph_df, x='age', hue='survived',  palette=palette, bins=10, alpha=0.3).set_title(\"Age by survival\", fontsize=14, fontweight='bold')"
   ]
  },
  {
   "attachments": {},
   "cell_type": "markdown",
   "metadata": {},
   "source": [
    "<h7> Passenger class"
   ]
  },
  {
   "cell_type": "code",
   "execution_count": 72,
   "metadata": {},
   "outputs": [],
   "source": [
    "# Creating a function to recode pcalss with complete name\n",
    "def pclass_name(pclass):\n",
    "    if pclass == 1:\n",
    "        return \"First class\"\n",
    "    elif pclass == 2:\n",
    "        return \"Second class\"\n",
    "    elif pclass == 3:\n",
    "        return \"Third class\"\n",
    "    else:\n",
    "        return pclass"
   ]
  },
  {
   "cell_type": "code",
   "execution_count": 125,
   "metadata": {},
   "outputs": [
    {
     "data": {
      "text/plain": [
       "Third class     709\n",
       "First class     323\n",
       "Second class    277\n",
       "Name: pclass, dtype: int64"
      ]
     },
     "execution_count": 125,
     "metadata": {},
     "output_type": "execute_result"
    }
   ],
   "source": [
    "# Calling the function\n",
    "graph_df['pclass'] = graph_df['pclass'].apply(pclass_name)\n",
    "graph_df['pclass'].value_counts(dropna=False)"
   ]
  },
  {
   "cell_type": "code",
   "execution_count": 74,
   "metadata": {},
   "outputs": [
    {
     "data": {
      "text/plain": [
       "Text(0.5, 1.0, 'Passenger class by survival')"
      ]
     },
     "execution_count": 74,
     "metadata": {},
     "output_type": "execute_result"
    },
    {
     "data": {
      "image/png": "[encoded data removed]",
      "text/plain": [
       "<Figure size 1296x360 with 3 Axes>"
      ]
     },
     "metadata": {
      "needs_background": "light"
     },
     "output_type": "display_data"
    }
   ],
   "source": [
    "# Charting passenger class data\n",
    "fig, axes = plt.subplots(1, 3, figsize=(18, 5))\n",
    "sns.countplot(ax=axes[0], data=graph_df, x='pclass', palette=palette).set_title(\"Passenger class\", fontsize=14, fontweight='bold')\n",
    "sns.countplot(ax=axes[1], data=graph_df, x='pclass', hue='sex',  palette=palette).set_title(\"Passenger class by sex\", fontsize=14, fontweight='bold')\n",
    "sns.countplot(ax=axes[2], data=graph_df, x='pclass', hue='survived',  palette=palette).set_title(\"Passenger class by survival\", fontsize=14, fontweight='bold')"
   ]
  },
  {
   "attachments": {},
   "cell_type": "markdown",
   "metadata": {},
   "source": [
    "<h7> Looking at whether passengers were travelling alone or with family"
   ]
  },
  {
   "cell_type": "code",
   "execution_count": 75,
   "metadata": {},
   "outputs": [],
   "source": [
    "# Creating a new column that sums together the number of family members they were travelling with\n",
    "graph_df['family_members'] = graph_df['sibsp'] + graph_df['parch']"
   ]
  },
  {
   "cell_type": "code",
   "execution_count": 76,
   "metadata": {},
   "outputs": [],
   "source": [
    "# Creating a fucntion to recode whether they were travelling with family\n",
    "def family_members(count):\n",
    "    if count > 0:\n",
    "        return 'with family'\n",
    "    elif count == 0:\n",
    "        return 'alone'\n",
    "    else:\n",
    "        return count"
   ]
  },
  {
   "cell_type": "code",
   "execution_count": 77,
   "metadata": {},
   "outputs": [],
   "source": [
    "# Calling the family_members function\n",
    "graph_df['with_family'] = graph_df['family_members'].apply(family_members)"
   ]
  },
  {
   "cell_type": "code",
   "execution_count": 78,
   "metadata": {},
   "outputs": [
    {
     "data": {
      "text/plain": [
       "Text(0.5, 1.0, 'Travel companions by sex')"
      ]
     },
     "execution_count": 78,
     "metadata": {},
     "output_type": "execute_result"
    },
    {
     "data": {
      "image/png": "[encoded data removed]",
      "text/plain": [
       "<Figure size 1296x360 with 4 Axes>"
      ]
     },
     "metadata": {
      "needs_background": "light"
     },
     "output_type": "display_data"
    }
   ],
   "source": [
    "# Charting travel companion data\n",
    "fig, axes = plt.subplots(1, 4, figsize=(18, 5))\n",
    "sns.countplot(ax=axes[0], data=graph_df, x='with_family', palette=palette).set_title(\"Travel companions\", fontsize=14, fontweight='bold')\n",
    "sns.countplot(ax=axes[1], data=graph_df, x='with_family', hue='pclass',  palette=palette).set_title(\"Travel companions by class\", fontsize=14, fontweight='bold')\n",
    "sns.countplot(ax=axes[2], data=graph_df, x='with_family', hue='survived',  palette=palette).set_title(\"Travel companions by survival\", fontsize=14, fontweight='bold')\n",
    "sns.countplot(ax=axes[3], data=graph_df, x='with_family', hue='sex',  palette=palette).set_title(\"Travel companions by sex\", fontsize=14, fontweight='bold')"
   ]
  },
  {
   "attachments": {},
   "cell_type": "markdown",
   "metadata": {},
   "source": [
    "<h7> Looking at passenger class and port of embarkment"
   ]
  },
  {
   "cell_type": "code",
   "execution_count": 79,
   "metadata": {},
   "outputs": [],
   "source": [
    "# Creating a function to recode embarkment points with full names\n",
    "def embarked_name(embarked):\n",
    "    if embarked == 'S':\n",
    "        return \"Southampton (UK)\"\n",
    "    elif embarked == 'C':\n",
    "        return \"Cherbourg (FR)\"\n",
    "    elif embarked == 'Q':\n",
    "        return \"Queenstown (IE)\"\n",
    "    else:\n",
    "        return embarked"
   ]
  },
  {
   "cell_type": "code",
   "execution_count": 126,
   "metadata": {},
   "outputs": [
    {
     "data": {
      "text/plain": [
       "Southampton (UK)    914\n",
       "Cherbourg (FR)      270\n",
       "Queenstown (IE)     123\n",
       "NaN                   2\n",
       "Name: embarked, dtype: int64"
      ]
     },
     "execution_count": 126,
     "metadata": {},
     "output_type": "execute_result"
    }
   ],
   "source": [
    "# Recoding embarked field\n",
    "graph_df['embarked'] = graph_df['embarked'].apply(embarked_name)\n",
    "graph_df['embarked'].value_counts(dropna=False)\n"
   ]
  },
  {
   "cell_type": "code",
   "execution_count": 81,
   "metadata": {},
   "outputs": [
    {
     "data": {
      "text/plain": [
       "Text(0.5, 1.0, 'Point of embarkment by survival')"
      ]
     },
     "execution_count": 81,
     "metadata": {},
     "output_type": "execute_result"
    },
    {
     "data": {
      "image/png": "[encoded data removed]",
      "text/plain": [
       "<Figure size 1296x360 with 3 Axes>"
      ]
     },
     "metadata": {
      "needs_background": "light"
     },
     "output_type": "display_data"
    }
   ],
   "source": [
    "# Charting point of embarkment data\n",
    "fig, axes = plt.subplots(1, 3, figsize=(18, 5))\n",
    "sns.countplot(ax=axes[0], data=graph_df, x='embarked', palette=palette).set_title(\"Point of embarkment\", fontsize=14, fontweight='bold')\n",
    "sns.countplot(ax=axes[1], data=graph_df, x='embarked', hue='pclass',  palette=palette).set_title(\"Point of embarkment by class\", fontsize=14, fontweight='bold')\n",
    "sns.countplot(ax=axes[2], data=graph_df, x='embarked', hue='survived',  palette=palette).set_title(\"Point of embarkment by survival\", fontsize=14, fontweight='bold')"
   ]
  },
  {
   "attachments": {},
   "cell_type": "markdown",
   "metadata": {},
   "source": [
    "<h7> Looking at title and surival"
   ]
  },
  {
   "cell_type": "code",
   "execution_count": 82,
   "metadata": {},
   "outputs": [],
   "source": [
    "# Extracting titles from passenger name and assigning them to a new column\n",
    "name_split = graph_df['name'].str.split(',', expand=True)[1] # splitting name in two based on the ',' and taking the second column which contains the title\n",
    "title = name_split.str.split('.', expand=True)[0] # splitting name in two based on the full stop and taking the first column that contains only the title\n",
    "title = title.str.strip() # removing the additional space at the start of the title\n",
    "graph_df['title'] = title # adding title as a new column in the data frame"
   ]
  },
  {
   "cell_type": "code",
   "execution_count": 83,
   "metadata": {},
   "outputs": [
    {
     "data": {
      "text/plain": [
       "Mr              757\n",
       "Miss            260\n",
       "Mrs             197\n",
       "Master           61\n",
       "Dr                8\n",
       "Rev               8\n",
       "Col               4\n",
       "Major             2\n",
       "Mlle              2\n",
       "Ms                2\n",
       "Sir               1\n",
       "Jonkheer          1\n",
       "Capt              1\n",
       "Mme               1\n",
       "Dona              1\n",
       "Don               1\n",
       "Lady              1\n",
       "the Countess      1\n",
       "Name: title, dtype: int64"
      ]
     },
     "execution_count": 83,
     "metadata": {},
     "output_type": "execute_result"
    }
   ],
   "source": [
    "graph_df['title'].value_counts(dropna=False)"
   ]
  },
  {
   "cell_type": "code",
   "execution_count": 84,
   "metadata": {},
   "outputs": [],
   "source": [
    "# Creating a function to classify the titles into different groups\n",
    "def title_grouped(title):\n",
    "        if title == 'Miss' or title == 'Mlle' or title == 'Ms':\n",
    "            return \"Miss\"\n",
    "        elif title == 'Mrs' or title =='Mme':\n",
    "            return \"Mrs\"\n",
    "        elif title == \"Mr\" or title == 'Rev':\n",
    "            return \"Mr\"\n",
    "        elif title == \"Master\":\n",
    "            return \"male_child\"\n",
    "        elif title == \"Col\" or title == \"Major\" or title == \"Capt\" or title == 'Dr':\n",
    "            return \"Professional\"\n",
    "        elif title == \"Don\" or title == \"Jonkheer\" or title == \"Sir\":\n",
    "            return \"Noblility\"\n",
    "        elif title == \"the Countess\" or title == \"Lady\" or title == \"Dona\":\n",
    "            return \"Noblility\"\n",
    "        else:\n",
    "            return title"
   ]
  },
  {
   "cell_type": "code",
   "execution_count": 85,
   "metadata": {},
   "outputs": [
    {
     "data": {
      "text/plain": [
       "Mr              765\n",
       "Miss            264\n",
       "Mrs             198\n",
       "male_child       61\n",
       "Professional     15\n",
       "Noblility         6\n",
       "Name: title_grouped, dtype: int64"
      ]
     },
     "execution_count": 85,
     "metadata": {},
     "output_type": "execute_result"
    }
   ],
   "source": [
    "# Calling that function and assigning results to new column in dataframe\n",
    "graph_df['title_grouped'] = graph_df['title'].apply(title_grouped)\n",
    "graph_df['title_grouped'].value_counts(dropna=False)"
   ]
  },
  {
   "cell_type": "code",
   "execution_count": 86,
   "metadata": {},
   "outputs": [
    {
     "data": {
      "text/plain": [
       "Text(0.5, 1.0, 'Passenger titles by survival')"
      ]
     },
     "execution_count": 86,
     "metadata": {},
     "output_type": "execute_result"
    },
    {
     "data": {
      "image/png": "[encoded data removed]",
      "text/plain": [
       "<Figure size 1296x360 with 3 Axes>"
      ]
     },
     "metadata": {
      "needs_background": "light"
     },
     "output_type": "display_data"
    }
   ],
   "source": [
    "# Charting point of embarkment data\n",
    "fig, axes = plt.subplots(1, 3, figsize=(18, 5))\n",
    "sns.countplot(ax=axes[0], data=graph_df, x='title_grouped', palette=palette).set_title(\"Passenger titles\", fontsize=14, fontweight='bold')\n",
    "sns.countplot(ax=axes[1], data=graph_df, x='title_grouped', hue='pclass',  palette=palette).set_title(\"Passenger titles by class\", fontsize=14, fontweight='bold')\n",
    "sns.countplot(ax=axes[2], data=graph_df, x='title_grouped', hue='survived',  palette=palette).set_title(\"Passenger titles by survival\", fontsize=14, fontweight='bold')"
   ]
  },
  {
   "attachments": {},
   "cell_type": "markdown",
   "metadata": {},
   "source": [
    "<h7> Whether adult or child"
   ]
  },
  {
   "cell_type": "code",
   "execution_count": 87,
   "metadata": {},
   "outputs": [],
   "source": [
    "# Defining if adult or child\n",
    "def male_female_child(passenger):\n",
    "    age, sex = passenger\n",
    "\n",
    "    if age < 16:\n",
    "        return 'child'\n",
    "    else:\n",
    "        return sex"
   ]
  },
  {
   "cell_type": "code",
   "execution_count": 88,
   "metadata": {},
   "outputs": [
    {
     "data": {
      "text/plain": [
       "male      784\n",
       "female    410\n",
       "child     115\n",
       "Name: person, dtype: int64"
      ]
     },
     "execution_count": 88,
     "metadata": {},
     "output_type": "execute_result"
    }
   ],
   "source": [
    "# Applying the function\n",
    "graph_df['person'] = graph_df[['age', 'sex']].apply(male_female_child, axis=1)\n",
    "graph_df['person'].value_counts(dropna=False)"
   ]
  },
  {
   "cell_type": "code",
   "execution_count": 89,
   "metadata": {},
   "outputs": [
    {
     "data": {
      "text/plain": [
       "Text(0.5, 1.0, 'Passenger composition by survival')"
      ]
     },
     "execution_count": 89,
     "metadata": {},
     "output_type": "execute_result"
    },
    {
     "data": {
      "image/png": "[encoded data removed]",
      "text/plain": [
       "<Figure size 1296x360 with 3 Axes>"
      ]
     },
     "metadata": {
      "needs_background": "light"
     },
     "output_type": "display_data"
    }
   ],
   "source": [
    "# Charting whether adult or child\n",
    "fig, axes = plt.subplots(1, 3, figsize=(18, 5))\n",
    "sns.countplot(ax=axes[0], data=graph_df, x='person', palette=palette).set_title(\"Passenger composition\", fontsize=14, fontweight='bold')\n",
    "sns.countplot(ax=axes[1], data=graph_df, x='person', hue='pclass',  palette=palette).set_title(\"Passenger composition by class\", fontsize=14, fontweight='bold')\n",
    "sns.countplot(ax=axes[2], data=graph_df, x='person', hue='survived',  palette=palette).set_title(\"Passenger composition by survival\", fontsize=14, fontweight='bold')"
   ]
  },
  {
   "attachments": {},
   "cell_type": "markdown",
   "metadata": {},
   "source": [
    "<h7> Defining adult or child"
   ]
  },
  {
   "cell_type": "code",
   "execution_count": 90,
   "metadata": {},
   "outputs": [],
   "source": [
    "# Defining if adult or child\n",
    "def adult_with_child(passenger):\n",
    "    person, parch = passenger\n",
    "\n",
    "    if person == 'male' and parch > 0:\n",
    "        return 'male_with_child'\n",
    "    elif person == 'male' and parch == 0:\n",
    "        return 'male_no_children'\n",
    "    elif person == 'female' and parch > 0:\n",
    "        return 'female_with_child'\n",
    "    elif person == 'female' and parch == 0:\n",
    "        return 'female_no_children'\n",
    "    elif person == 'child':\n",
    "        return person\n",
    "    else:\n",
    "        return 'person'"
   ]
  },
  {
   "cell_type": "code",
   "execution_count": 91,
   "metadata": {},
   "outputs": [
    {
     "data": {
      "text/plain": [
       "male_no_children      705\n",
       "female_no_children    283\n",
       "female_with_child     127\n",
       "child                 115\n",
       "male_with_child        79\n",
       "Name: with_child, dtype: int64"
      ]
     },
     "execution_count": 91,
     "metadata": {},
     "output_type": "execute_result"
    }
   ],
   "source": [
    "# Applying the function\n",
    "graph_df['with_child'] = graph_df[['person', 'parch']].apply(adult_with_child, axis=1)\n",
    "graph_df['with_child'].value_counts(dropna=False)"
   ]
  },
  {
   "cell_type": "code",
   "execution_count": 92,
   "metadata": {},
   "outputs": [
    {
     "data": {
      "text/plain": [
       "Text(0.5, 1.0, 'Passenger composition by survival')"
      ]
     },
     "execution_count": 92,
     "metadata": {},
     "output_type": "execute_result"
    },
    {
     "data": {
      "image/png": "[encoded data removed]",
      "text/plain": [
       "<Figure size 2160x360 with 3 Axes>"
      ]
     },
     "metadata": {
      "needs_background": "light"
     },
     "output_type": "display_data"
    }
   ],
   "source": [
    "# Charting whether adult or child\n",
    "fig, axes = plt.subplots(1, 3, figsize=(30, 5))\n",
    "sns.countplot(ax=axes[0], data=graph_df, x='with_child', palette=palette).set_title(\"Passenger composition\", fontsize=14, fontweight='bold')\n",
    "sns.countplot(ax=axes[1], data=graph_df, x='with_child', hue='pclass',  palette=palette).set_title(\"Passenger composition by class\", fontsize=14, fontweight='bold')\n",
    "sns.countplot(ax=axes[2], data=graph_df, x='with_child', hue='survived',  palette=palette).set_title(\"Passenger composition by survival\", fontsize=14, fontweight='bold')"
   ]
  },
  {
   "attachments": {},
   "cell_type": "markdown",
   "metadata": {},
   "source": [
    "## Summary of survival"
   ]
  },
  {
   "cell_type": "code",
   "execution_count": 93,
   "metadata": {},
   "outputs": [
    {
     "data": {
      "text/plain": [
       "Text(0.5, 1.0, 'Embarked')"
      ]
     },
     "execution_count": 93,
     "metadata": {},
     "output_type": "execute_result"
    },
    {
     "data": {
      "image/png": "[encoded data removed]",
      "text/plain": [
       "<Figure size 1584x1152 with 9 Axes>"
      ]
     },
     "metadata": {
      "needs_background": "light"
     },
     "output_type": "display_data"
    }
   ],
   "source": [
    "# Charting the data of survival\n",
    "\n",
    "fig, axes = plt.subplots(3, 3, figsize=(22, 16))\n",
    "\n",
    "fig.suptitle('Summary of survival on the Titanic', fontsize=18, fontweight='bold')\n",
    "\n",
    "sns.countplot(ax=axes[0, 0], data=graph_df, x='survived', palette=palette).set_title(\"Survived\", fontsize=14, fontweight='bold')\n",
    "sns.countplot(ax=axes[0, 1], data=graph_df, x='person', hue='survived',  palette=palette).set_title(\"Passenger composition\", fontsize=14, fontweight='bold')\n",
    "sns.countplot(ax=axes[0, 2], data=graph_df, x='pclass', hue='survived',  palette=palette).set_title(\"Passenger class\", fontsize=14, fontweight='bold')\n",
    "sns.countplot(ax=axes[1, 0], data=graph_df, x='sibsp', hue='survived',  palette=palette).set_title(\"Sibsp\", fontsize=14, fontweight='bold')\n",
    "sns.countplot(ax=axes[1, 1], data=graph_df, x='parch', hue='survived',  palette=palette).set_title(\"Parch\", fontsize=14, fontweight='bold')\n",
    "sns.countplot(ax=axes[1, 2], data=graph_df, x='with_family', hue='survived',  palette=palette).set_title(\"Travelling with family\", fontsize=14, fontweight='bold')\n",
    "sns.countplot(ax=axes[2, 0], data=graph_df, x='with_child', hue='survived',  palette=palette).set_title(\"Travelling with children\", fontsize=14, fontweight='bold')\n",
    "sns.countplot(ax=axes[2, 1], data=graph_df, x='title_grouped', hue='survived',  palette=palette).set_title(\"Passenger titles\", fontsize=14, fontweight='bold')\n",
    "sns.countplot(ax=axes[2, 2], data=graph_df, x='embarked', hue='survived',  palette=palette).set_title(\"Embarked\", fontsize=14, fontweight='bold')\n",
    "\n"
   ]
  },
  {
   "attachments": {},
   "cell_type": "markdown",
   "metadata": {},
   "source": [
    "# Cleaning the data"
   ]
  },
  {
   "cell_type": "code",
   "execution_count": 94,
   "metadata": {},
   "outputs": [
    {
     "name": "stdout",
     "output_type": "stream",
     "text": [
      "pclass          0\n",
      "survived        0\n",
      "name            0\n",
      "sex             0\n",
      "age           263\n",
      "sibsp           0\n",
      "parch           0\n",
      "ticket          0\n",
      "fare            1\n",
      "cabin        1014\n",
      "embarked        2\n",
      "boat          823\n",
      "body         1188\n",
      "home.dest     564\n",
      "dtype: int64\n"
     ]
    }
   ],
   "source": [
    "# Looking at the amount of missing data\n",
    "print(titanic_df.isna().sum())"
   ]
  },
  {
   "attachments": {},
   "cell_type": "markdown",
   "metadata": {},
   "source": [
    "### Age - updating null values"
   ]
  },
  {
   "cell_type": "code",
   "execution_count": 95,
   "metadata": {},
   "outputs": [
    {
     "data": {
      "text/html": [
       "<div>\n",
       "<style scoped>\n",
       "    .dataframe tbody tr th:only-of-type {\n",
       "        vertical-align: middle;\n",
       "    }\n",
       "\n",
       "    .dataframe tbody tr th {\n",
       "        vertical-align: top;\n",
       "    }\n",
       "\n",
       "    .dataframe thead th {\n",
       "        text-align: right;\n",
       "    }\n",
       "</style>\n",
       "<table border=\"1\" class=\"dataframe\">\n",
       "  <thead>\n",
       "    <tr style=\"text-align: right;\">\n",
       "      <th></th>\n",
       "      <th>count</th>\n",
       "      <th>mean</th>\n",
       "      <th>std</th>\n",
       "      <th>min</th>\n",
       "      <th>25%</th>\n",
       "      <th>50%</th>\n",
       "      <th>75%</th>\n",
       "      <th>max</th>\n",
       "    </tr>\n",
       "    <tr>\n",
       "      <th>pclass</th>\n",
       "      <th></th>\n",
       "      <th></th>\n",
       "      <th></th>\n",
       "      <th></th>\n",
       "      <th></th>\n",
       "      <th></th>\n",
       "      <th></th>\n",
       "      <th></th>\n",
       "    </tr>\n",
       "  </thead>\n",
       "  <tbody>\n",
       "    <tr>\n",
       "      <th>1</th>\n",
       "      <td>284.0</td>\n",
       "      <td>39.159918</td>\n",
       "      <td>14.548059</td>\n",
       "      <td>0.9167</td>\n",
       "      <td>28.0</td>\n",
       "      <td>39.0</td>\n",
       "      <td>50.0</td>\n",
       "      <td>80.0</td>\n",
       "    </tr>\n",
       "    <tr>\n",
       "      <th>2</th>\n",
       "      <td>261.0</td>\n",
       "      <td>29.506705</td>\n",
       "      <td>13.638628</td>\n",
       "      <td>0.6667</td>\n",
       "      <td>22.0</td>\n",
       "      <td>29.0</td>\n",
       "      <td>36.0</td>\n",
       "      <td>70.0</td>\n",
       "    </tr>\n",
       "    <tr>\n",
       "      <th>3</th>\n",
       "      <td>501.0</td>\n",
       "      <td>24.816367</td>\n",
       "      <td>11.958202</td>\n",
       "      <td>0.1667</td>\n",
       "      <td>18.0</td>\n",
       "      <td>24.0</td>\n",
       "      <td>32.0</td>\n",
       "      <td>74.0</td>\n",
       "    </tr>\n",
       "  </tbody>\n",
       "</table>\n",
       "</div>"
      ],
      "text/plain": [
       "        count       mean        std     min   25%   50%   75%   max\n",
       "pclass                                                             \n",
       "1       284.0  39.159918  14.548059  0.9167  28.0  39.0  50.0  80.0\n",
       "2       261.0  29.506705  13.638628  0.6667  22.0  29.0  36.0  70.0\n",
       "3       501.0  24.816367  11.958202  0.1667  18.0  24.0  32.0  74.0"
      ]
     },
     "execution_count": 95,
     "metadata": {},
     "output_type": "execute_result"
    }
   ],
   "source": [
    "# Looking at average age grouped by sex and pclass\n",
    "grouped = titanic_df.groupby(['pclass'])\n",
    "grouped['age'].describe()"
   ]
  },
  {
   "cell_type": "code",
   "execution_count": 96,
   "metadata": {},
   "outputs": [
    {
     "data": {
      "text/html": [
       "<div>\n",
       "<style scoped>\n",
       "    .dataframe tbody tr th:only-of-type {\n",
       "        vertical-align: middle;\n",
       "    }\n",
       "\n",
       "    .dataframe tbody tr th {\n",
       "        vertical-align: top;\n",
       "    }\n",
       "\n",
       "    .dataframe thead th {\n",
       "        text-align: right;\n",
       "    }\n",
       "</style>\n",
       "<table border=\"1\" class=\"dataframe\">\n",
       "  <thead>\n",
       "    <tr style=\"text-align: right;\">\n",
       "      <th></th>\n",
       "      <th></th>\n",
       "      <th>count</th>\n",
       "      <th>mean</th>\n",
       "      <th>std</th>\n",
       "      <th>min</th>\n",
       "      <th>25%</th>\n",
       "      <th>50%</th>\n",
       "      <th>75%</th>\n",
       "      <th>max</th>\n",
       "    </tr>\n",
       "    <tr>\n",
       "      <th>pclass</th>\n",
       "      <th>sex</th>\n",
       "      <th></th>\n",
       "      <th></th>\n",
       "      <th></th>\n",
       "      <th></th>\n",
       "      <th></th>\n",
       "      <th></th>\n",
       "      <th></th>\n",
       "      <th></th>\n",
       "    </tr>\n",
       "  </thead>\n",
       "  <tbody>\n",
       "    <tr>\n",
       "      <th rowspan=\"2\" valign=\"top\">1</th>\n",
       "      <th>female</th>\n",
       "      <td>133.0</td>\n",
       "      <td>37.037594</td>\n",
       "      <td>14.272460</td>\n",
       "      <td>2.0000</td>\n",
       "      <td>24.0</td>\n",
       "      <td>36.0</td>\n",
       "      <td>48.00</td>\n",
       "      <td>76.0</td>\n",
       "    </tr>\n",
       "    <tr>\n",
       "      <th>male</th>\n",
       "      <td>151.0</td>\n",
       "      <td>41.029250</td>\n",
       "      <td>14.578590</td>\n",
       "      <td>0.9167</td>\n",
       "      <td>30.0</td>\n",
       "      <td>42.0</td>\n",
       "      <td>50.00</td>\n",
       "      <td>80.0</td>\n",
       "    </tr>\n",
       "    <tr>\n",
       "      <th rowspan=\"2\" valign=\"top\">2</th>\n",
       "      <th>female</th>\n",
       "      <td>103.0</td>\n",
       "      <td>27.499191</td>\n",
       "      <td>12.911813</td>\n",
       "      <td>0.9167</td>\n",
       "      <td>20.0</td>\n",
       "      <td>28.0</td>\n",
       "      <td>34.00</td>\n",
       "      <td>60.0</td>\n",
       "    </tr>\n",
       "    <tr>\n",
       "      <th>male</th>\n",
       "      <td>158.0</td>\n",
       "      <td>30.815401</td>\n",
       "      <td>13.977355</td>\n",
       "      <td>0.6667</td>\n",
       "      <td>23.0</td>\n",
       "      <td>29.5</td>\n",
       "      <td>38.75</td>\n",
       "      <td>70.0</td>\n",
       "    </tr>\n",
       "    <tr>\n",
       "      <th rowspan=\"2\" valign=\"top\">3</th>\n",
       "      <th>female</th>\n",
       "      <td>152.0</td>\n",
       "      <td>22.185307</td>\n",
       "      <td>12.205294</td>\n",
       "      <td>0.1667</td>\n",
       "      <td>16.0</td>\n",
       "      <td>22.0</td>\n",
       "      <td>30.00</td>\n",
       "      <td>63.0</td>\n",
       "    </tr>\n",
       "    <tr>\n",
       "      <th>male</th>\n",
       "      <td>349.0</td>\n",
       "      <td>25.962273</td>\n",
       "      <td>11.682395</td>\n",
       "      <td>0.3333</td>\n",
       "      <td>20.0</td>\n",
       "      <td>25.0</td>\n",
       "      <td>32.00</td>\n",
       "      <td>74.0</td>\n",
       "    </tr>\n",
       "  </tbody>\n",
       "</table>\n",
       "</div>"
      ],
      "text/plain": [
       "               count       mean        std     min   25%   50%    75%   max\n",
       "pclass sex                                                                 \n",
       "1      female  133.0  37.037594  14.272460  2.0000  24.0  36.0  48.00  76.0\n",
       "       male    151.0  41.029250  14.578590  0.9167  30.0  42.0  50.00  80.0\n",
       "2      female  103.0  27.499191  12.911813  0.9167  20.0  28.0  34.00  60.0\n",
       "       male    158.0  30.815401  13.977355  0.6667  23.0  29.5  38.75  70.0\n",
       "3      female  152.0  22.185307  12.205294  0.1667  16.0  22.0  30.00  63.0\n",
       "       male    349.0  25.962273  11.682395  0.3333  20.0  25.0  32.00  74.0"
      ]
     },
     "execution_count": 96,
     "metadata": {},
     "output_type": "execute_result"
    }
   ],
   "source": [
    "# Looking at average age grouped by sex and pclass\n",
    "grouped = titanic_df.groupby(['pclass', 'sex'])\n",
    "grouped['age'].describe()"
   ]
  },
  {
   "cell_type": "code",
   "execution_count": 97,
   "metadata": {},
   "outputs": [],
   "source": [
    "# Creating function to code null age values based on the average age associated with passenger sex and pclass\n",
    "def recode_age_nulls(cols):\n",
    "    age = cols[0]\n",
    "    pclass = cols[1]\n",
    "    sex = cols[2]\n",
    "  \n",
    "    if pd.isnull(age):\n",
    "        if pclass == 1 and sex == 'female':\n",
    "            return 37\n",
    "        elif pclass == 1 and sex == 'male':\n",
    "            return 41\n",
    "        elif pclass == 2 and sex == 'female':\n",
    "            return 27\n",
    "        elif pclass == 2 and sex == 'male':\n",
    "            return 30\n",
    "        elif pclass == 3 and sex == 'female':\n",
    "            return 22\n",
    "        else:\n",
    "            return 25\n",
    "    else:\n",
    "        return age   "
   ]
  },
  {
   "cell_type": "code",
   "execution_count": 98,
   "metadata": {},
   "outputs": [
    {
     "data": {
      "text/html": [
       "<div>\n",
       "<style scoped>\n",
       "    .dataframe tbody tr th:only-of-type {\n",
       "        vertical-align: middle;\n",
       "    }\n",
       "\n",
       "    .dataframe tbody tr th {\n",
       "        vertical-align: top;\n",
       "    }\n",
       "\n",
       "    .dataframe thead th {\n",
       "        text-align: right;\n",
       "    }\n",
       "</style>\n",
       "<table border=\"1\" class=\"dataframe\">\n",
       "  <thead>\n",
       "    <tr style=\"text-align: right;\">\n",
       "      <th></th>\n",
       "      <th>pclass</th>\n",
       "      <th>survived</th>\n",
       "      <th>name</th>\n",
       "      <th>sex</th>\n",
       "      <th>age</th>\n",
       "      <th>sibsp</th>\n",
       "      <th>parch</th>\n",
       "      <th>ticket</th>\n",
       "      <th>fare</th>\n",
       "      <th>cabin</th>\n",
       "      <th>embarked</th>\n",
       "      <th>boat</th>\n",
       "      <th>body</th>\n",
       "      <th>home.dest</th>\n",
       "      <th>age_updated</th>\n",
       "    </tr>\n",
       "  </thead>\n",
       "  <tbody>\n",
       "    <tr>\n",
       "      <th>15</th>\n",
       "      <td>1</td>\n",
       "      <td>0</td>\n",
       "      <td>Baumann, Mr. John D</td>\n",
       "      <td>male</td>\n",
       "      <td>NaN</td>\n",
       "      <td>0</td>\n",
       "      <td>0</td>\n",
       "      <td>PC 17318</td>\n",
       "      <td>25.9250</td>\n",
       "      <td>NaN</td>\n",
       "      <td>S</td>\n",
       "      <td>NaN</td>\n",
       "      <td>NaN</td>\n",
       "      <td>New York, NY</td>\n",
       "      <td>41.0</td>\n",
       "    </tr>\n",
       "    <tr>\n",
       "      <th>37</th>\n",
       "      <td>1</td>\n",
       "      <td>1</td>\n",
       "      <td>Bradley, Mr. George (\"George Arthur Brayton\")</td>\n",
       "      <td>male</td>\n",
       "      <td>NaN</td>\n",
       "      <td>0</td>\n",
       "      <td>0</td>\n",
       "      <td>111427</td>\n",
       "      <td>26.5500</td>\n",
       "      <td>NaN</td>\n",
       "      <td>S</td>\n",
       "      <td>9</td>\n",
       "      <td>NaN</td>\n",
       "      <td>Los Angeles, CA</td>\n",
       "      <td>41.0</td>\n",
       "    </tr>\n",
       "    <tr>\n",
       "      <th>40</th>\n",
       "      <td>1</td>\n",
       "      <td>0</td>\n",
       "      <td>Brewe, Dr. Arthur Jackson</td>\n",
       "      <td>male</td>\n",
       "      <td>NaN</td>\n",
       "      <td>0</td>\n",
       "      <td>0</td>\n",
       "      <td>112379</td>\n",
       "      <td>39.6000</td>\n",
       "      <td>NaN</td>\n",
       "      <td>C</td>\n",
       "      <td>NaN</td>\n",
       "      <td>NaN</td>\n",
       "      <td>Philadelphia, PA</td>\n",
       "      <td>41.0</td>\n",
       "    </tr>\n",
       "    <tr>\n",
       "      <th>46</th>\n",
       "      <td>1</td>\n",
       "      <td>0</td>\n",
       "      <td>Cairns, Mr. Alexander</td>\n",
       "      <td>male</td>\n",
       "      <td>NaN</td>\n",
       "      <td>0</td>\n",
       "      <td>0</td>\n",
       "      <td>113798</td>\n",
       "      <td>31.0000</td>\n",
       "      <td>NaN</td>\n",
       "      <td>S</td>\n",
       "      <td>NaN</td>\n",
       "      <td>NaN</td>\n",
       "      <td>NaN</td>\n",
       "      <td>41.0</td>\n",
       "    </tr>\n",
       "    <tr>\n",
       "      <th>59</th>\n",
       "      <td>1</td>\n",
       "      <td>1</td>\n",
       "      <td>Cassebeer, Mrs. Henry Arthur Jr (Eleanor Genev...</td>\n",
       "      <td>female</td>\n",
       "      <td>NaN</td>\n",
       "      <td>0</td>\n",
       "      <td>0</td>\n",
       "      <td>17770</td>\n",
       "      <td>27.7208</td>\n",
       "      <td>NaN</td>\n",
       "      <td>C</td>\n",
       "      <td>5</td>\n",
       "      <td>NaN</td>\n",
       "      <td>New York, NY</td>\n",
       "      <td>37.0</td>\n",
       "    </tr>\n",
       "    <tr>\n",
       "      <th>...</th>\n",
       "      <td>...</td>\n",
       "      <td>...</td>\n",
       "      <td>...</td>\n",
       "      <td>...</td>\n",
       "      <td>...</td>\n",
       "      <td>...</td>\n",
       "      <td>...</td>\n",
       "      <td>...</td>\n",
       "      <td>...</td>\n",
       "      <td>...</td>\n",
       "      <td>...</td>\n",
       "      <td>...</td>\n",
       "      <td>...</td>\n",
       "      <td>...</td>\n",
       "      <td>...</td>\n",
       "    </tr>\n",
       "    <tr>\n",
       "      <th>1293</th>\n",
       "      <td>3</td>\n",
       "      <td>0</td>\n",
       "      <td>Williams, Mr. Howard Hugh \"Harry\"</td>\n",
       "      <td>male</td>\n",
       "      <td>NaN</td>\n",
       "      <td>0</td>\n",
       "      <td>0</td>\n",
       "      <td>A/5 2466</td>\n",
       "      <td>8.0500</td>\n",
       "      <td>NaN</td>\n",
       "      <td>S</td>\n",
       "      <td>NaN</td>\n",
       "      <td>NaN</td>\n",
       "      <td>NaN</td>\n",
       "      <td>25.0</td>\n",
       "    </tr>\n",
       "    <tr>\n",
       "      <th>1297</th>\n",
       "      <td>3</td>\n",
       "      <td>0</td>\n",
       "      <td>Wiseman, Mr. Phillippe</td>\n",
       "      <td>male</td>\n",
       "      <td>NaN</td>\n",
       "      <td>0</td>\n",
       "      <td>0</td>\n",
       "      <td>A/4. 34244</td>\n",
       "      <td>7.2500</td>\n",
       "      <td>NaN</td>\n",
       "      <td>S</td>\n",
       "      <td>NaN</td>\n",
       "      <td>NaN</td>\n",
       "      <td>NaN</td>\n",
       "      <td>25.0</td>\n",
       "    </tr>\n",
       "    <tr>\n",
       "      <th>1302</th>\n",
       "      <td>3</td>\n",
       "      <td>0</td>\n",
       "      <td>Yousif, Mr. Wazli</td>\n",
       "      <td>male</td>\n",
       "      <td>NaN</td>\n",
       "      <td>0</td>\n",
       "      <td>0</td>\n",
       "      <td>2647</td>\n",
       "      <td>7.2250</td>\n",
       "      <td>NaN</td>\n",
       "      <td>C</td>\n",
       "      <td>NaN</td>\n",
       "      <td>NaN</td>\n",
       "      <td>NaN</td>\n",
       "      <td>25.0</td>\n",
       "    </tr>\n",
       "    <tr>\n",
       "      <th>1303</th>\n",
       "      <td>3</td>\n",
       "      <td>0</td>\n",
       "      <td>Yousseff, Mr. Gerious</td>\n",
       "      <td>male</td>\n",
       "      <td>NaN</td>\n",
       "      <td>0</td>\n",
       "      <td>0</td>\n",
       "      <td>2627</td>\n",
       "      <td>14.4583</td>\n",
       "      <td>NaN</td>\n",
       "      <td>C</td>\n",
       "      <td>NaN</td>\n",
       "      <td>NaN</td>\n",
       "      <td>NaN</td>\n",
       "      <td>25.0</td>\n",
       "    </tr>\n",
       "    <tr>\n",
       "      <th>1305</th>\n",
       "      <td>3</td>\n",
       "      <td>0</td>\n",
       "      <td>Zabour, Miss. Thamine</td>\n",
       "      <td>female</td>\n",
       "      <td>NaN</td>\n",
       "      <td>1</td>\n",
       "      <td>0</td>\n",
       "      <td>2665</td>\n",
       "      <td>14.4542</td>\n",
       "      <td>NaN</td>\n",
       "      <td>C</td>\n",
       "      <td>NaN</td>\n",
       "      <td>NaN</td>\n",
       "      <td>NaN</td>\n",
       "      <td>22.0</td>\n",
       "    </tr>\n",
       "  </tbody>\n",
       "</table>\n",
       "<p>263 rows × 15 columns</p>\n",
       "</div>"
      ],
      "text/plain": [
       "      pclass  survived                                               name  \\\n",
       "15         1         0                                Baumann, Mr. John D   \n",
       "37         1         1      Bradley, Mr. George (\"George Arthur Brayton\")   \n",
       "40         1         0                          Brewe, Dr. Arthur Jackson   \n",
       "46         1         0                              Cairns, Mr. Alexander   \n",
       "59         1         1  Cassebeer, Mrs. Henry Arthur Jr (Eleanor Genev...   \n",
       "...      ...       ...                                                ...   \n",
       "1293       3         0                  Williams, Mr. Howard Hugh \"Harry\"   \n",
       "1297       3         0                             Wiseman, Mr. Phillippe   \n",
       "1302       3         0                                  Yousif, Mr. Wazli   \n",
       "1303       3         0                              Yousseff, Mr. Gerious   \n",
       "1305       3         0                              Zabour, Miss. Thamine   \n",
       "\n",
       "         sex  age  sibsp  parch      ticket     fare cabin embarked boat  \\\n",
       "15      male  NaN      0      0    PC 17318  25.9250   NaN        S  NaN   \n",
       "37      male  NaN      0      0      111427  26.5500   NaN        S    9   \n",
       "40      male  NaN      0      0      112379  39.6000   NaN        C  NaN   \n",
       "46      male  NaN      0      0      113798  31.0000   NaN        S  NaN   \n",
       "59    female  NaN      0      0       17770  27.7208   NaN        C    5   \n",
       "...      ...  ...    ...    ...         ...      ...   ...      ...  ...   \n",
       "1293    male  NaN      0      0    A/5 2466   8.0500   NaN        S  NaN   \n",
       "1297    male  NaN      0      0  A/4. 34244   7.2500   NaN        S  NaN   \n",
       "1302    male  NaN      0      0        2647   7.2250   NaN        C  NaN   \n",
       "1303    male  NaN      0      0        2627  14.4583   NaN        C  NaN   \n",
       "1305  female  NaN      1      0        2665  14.4542   NaN        C  NaN   \n",
       "\n",
       "      body         home.dest  age_updated  \n",
       "15     NaN      New York, NY         41.0  \n",
       "37     NaN   Los Angeles, CA         41.0  \n",
       "40     NaN  Philadelphia, PA         41.0  \n",
       "46     NaN               NaN         41.0  \n",
       "59     NaN      New York, NY         37.0  \n",
       "...    ...               ...          ...  \n",
       "1293   NaN               NaN         25.0  \n",
       "1297   NaN               NaN         25.0  \n",
       "1302   NaN               NaN         25.0  \n",
       "1303   NaN               NaN         25.0  \n",
       "1305   NaN               NaN         22.0  \n",
       "\n",
       "[263 rows x 15 columns]"
      ]
     },
     "execution_count": 98,
     "metadata": {},
     "output_type": "execute_result"
    }
   ],
   "source": [
    "# Applying the age function and checking dataframe\n",
    "titanic_df['age_updated'] = titanic_df[['age', 'pclass', 'sex']].apply(recode_age_nulls, axis=1)\n",
    "titanic_df[titanic_df.age.isnull()]"
   ]
  },
  {
   "attachments": {},
   "cell_type": "markdown",
   "metadata": {},
   "source": [
    "### embarked - missing data"
   ]
  },
  {
   "cell_type": "code",
   "execution_count": 99,
   "metadata": {},
   "outputs": [
    {
     "data": {
      "text/plain": [
       "S      914\n",
       "C      270\n",
       "Q      123\n",
       "NaN      2\n",
       "Name: embarked, dtype: int64"
      ]
     },
     "execution_count": 99,
     "metadata": {},
     "output_type": "execute_result"
    }
   ],
   "source": [
    "# Looking at values for embarked\n",
    "titanic_df['embarked'].value_counts(dropna=False)"
   ]
  },
  {
   "cell_type": "code",
   "execution_count": 100,
   "metadata": {},
   "outputs": [
    {
     "data": {
      "text/html": [
       "<div>\n",
       "<style scoped>\n",
       "    .dataframe tbody tr th:only-of-type {\n",
       "        vertical-align: middle;\n",
       "    }\n",
       "\n",
       "    .dataframe tbody tr th {\n",
       "        vertical-align: top;\n",
       "    }\n",
       "\n",
       "    .dataframe thead th {\n",
       "        text-align: right;\n",
       "    }\n",
       "</style>\n",
       "<table border=\"1\" class=\"dataframe\">\n",
       "  <thead>\n",
       "    <tr style=\"text-align: right;\">\n",
       "      <th></th>\n",
       "      <th>pclass</th>\n",
       "      <th>survived</th>\n",
       "      <th>name</th>\n",
       "      <th>sex</th>\n",
       "      <th>age</th>\n",
       "      <th>sibsp</th>\n",
       "      <th>parch</th>\n",
       "      <th>ticket</th>\n",
       "      <th>fare</th>\n",
       "      <th>cabin</th>\n",
       "      <th>embarked</th>\n",
       "      <th>boat</th>\n",
       "      <th>body</th>\n",
       "      <th>home.dest</th>\n",
       "      <th>age_updated</th>\n",
       "    </tr>\n",
       "  </thead>\n",
       "  <tbody>\n",
       "    <tr>\n",
       "      <th>168</th>\n",
       "      <td>1</td>\n",
       "      <td>1</td>\n",
       "      <td>Icard, Miss. Amelie</td>\n",
       "      <td>female</td>\n",
       "      <td>38.0</td>\n",
       "      <td>0</td>\n",
       "      <td>0</td>\n",
       "      <td>113572</td>\n",
       "      <td>80.0</td>\n",
       "      <td>B28</td>\n",
       "      <td>NaN</td>\n",
       "      <td>6</td>\n",
       "      <td>NaN</td>\n",
       "      <td>NaN</td>\n",
       "      <td>38.0</td>\n",
       "    </tr>\n",
       "    <tr>\n",
       "      <th>284</th>\n",
       "      <td>1</td>\n",
       "      <td>1</td>\n",
       "      <td>Stone, Mrs. George Nelson (Martha Evelyn)</td>\n",
       "      <td>female</td>\n",
       "      <td>62.0</td>\n",
       "      <td>0</td>\n",
       "      <td>0</td>\n",
       "      <td>113572</td>\n",
       "      <td>80.0</td>\n",
       "      <td>B28</td>\n",
       "      <td>NaN</td>\n",
       "      <td>6</td>\n",
       "      <td>NaN</td>\n",
       "      <td>Cincinatti, OH</td>\n",
       "      <td>62.0</td>\n",
       "    </tr>\n",
       "  </tbody>\n",
       "</table>\n",
       "</div>"
      ],
      "text/plain": [
       "     pclass  survived                                       name     sex  \\\n",
       "168       1         1                        Icard, Miss. Amelie  female   \n",
       "284       1         1  Stone, Mrs. George Nelson (Martha Evelyn)  female   \n",
       "\n",
       "      age  sibsp  parch  ticket  fare cabin embarked boat  body  \\\n",
       "168  38.0      0      0  113572  80.0   B28      NaN    6   NaN   \n",
       "284  62.0      0      0  113572  80.0   B28      NaN    6   NaN   \n",
       "\n",
       "          home.dest  age_updated  \n",
       "168             NaN         38.0  \n",
       "284  Cincinatti, OH         62.0  "
      ]
     },
     "execution_count": 100,
     "metadata": {},
     "output_type": "execute_result"
    }
   ],
   "source": [
    "# identifying the two rows with missing values\n",
    "titanic_df[titanic_df.embarked.isnull()]"
   ]
  },
  {
   "attachments": {},
   "cell_type": "markdown",
   "metadata": {},
   "source": [
    "Online research found that both passengers with missing embarked data embarked at Southampton\n",
    " - https://www.encyclopedia-titanica.org/titanic-survivor/amelia-icard.html\n",
    " - https://www.encyclopedia-titanica.org/titanic-survivor/martha-evelyn-stone.html"
   ]
  },
  {
   "cell_type": "code",
   "execution_count": 101,
   "metadata": {},
   "outputs": [
    {
     "data": {
      "text/html": [
       "<div>\n",
       "<style scoped>\n",
       "    .dataframe tbody tr th:only-of-type {\n",
       "        vertical-align: middle;\n",
       "    }\n",
       "\n",
       "    .dataframe tbody tr th {\n",
       "        vertical-align: top;\n",
       "    }\n",
       "\n",
       "    .dataframe thead th {\n",
       "        text-align: right;\n",
       "    }\n",
       "</style>\n",
       "<table border=\"1\" class=\"dataframe\">\n",
       "  <thead>\n",
       "    <tr style=\"text-align: right;\">\n",
       "      <th></th>\n",
       "      <th>pclass</th>\n",
       "      <th>survived</th>\n",
       "      <th>name</th>\n",
       "      <th>sex</th>\n",
       "      <th>age</th>\n",
       "      <th>sibsp</th>\n",
       "      <th>parch</th>\n",
       "      <th>ticket</th>\n",
       "      <th>fare</th>\n",
       "      <th>cabin</th>\n",
       "      <th>embarked</th>\n",
       "      <th>boat</th>\n",
       "      <th>body</th>\n",
       "      <th>home.dest</th>\n",
       "      <th>age_updated</th>\n",
       "      <th>embarked_updated</th>\n",
       "    </tr>\n",
       "  </thead>\n",
       "  <tbody>\n",
       "    <tr>\n",
       "      <th>168</th>\n",
       "      <td>1</td>\n",
       "      <td>1</td>\n",
       "      <td>Icard, Miss. Amelie</td>\n",
       "      <td>female</td>\n",
       "      <td>38.0</td>\n",
       "      <td>0</td>\n",
       "      <td>0</td>\n",
       "      <td>113572</td>\n",
       "      <td>80.0</td>\n",
       "      <td>B28</td>\n",
       "      <td>NaN</td>\n",
       "      <td>6</td>\n",
       "      <td>NaN</td>\n",
       "      <td>NaN</td>\n",
       "      <td>38.0</td>\n",
       "      <td>S</td>\n",
       "    </tr>\n",
       "    <tr>\n",
       "      <th>284</th>\n",
       "      <td>1</td>\n",
       "      <td>1</td>\n",
       "      <td>Stone, Mrs. George Nelson (Martha Evelyn)</td>\n",
       "      <td>female</td>\n",
       "      <td>62.0</td>\n",
       "      <td>0</td>\n",
       "      <td>0</td>\n",
       "      <td>113572</td>\n",
       "      <td>80.0</td>\n",
       "      <td>B28</td>\n",
       "      <td>NaN</td>\n",
       "      <td>6</td>\n",
       "      <td>NaN</td>\n",
       "      <td>Cincinatti, OH</td>\n",
       "      <td>62.0</td>\n",
       "      <td>S</td>\n",
       "    </tr>\n",
       "  </tbody>\n",
       "</table>\n",
       "</div>"
      ],
      "text/plain": [
       "     pclass  survived                                       name     sex  \\\n",
       "168       1         1                        Icard, Miss. Amelie  female   \n",
       "284       1         1  Stone, Mrs. George Nelson (Martha Evelyn)  female   \n",
       "\n",
       "      age  sibsp  parch  ticket  fare cabin embarked boat  body  \\\n",
       "168  38.0      0      0  113572  80.0   B28      NaN    6   NaN   \n",
       "284  62.0      0      0  113572  80.0   B28      NaN    6   NaN   \n",
       "\n",
       "          home.dest  age_updated embarked_updated  \n",
       "168             NaN         38.0                S  \n",
       "284  Cincinatti, OH         62.0                S  "
      ]
     },
     "execution_count": 101,
     "metadata": {},
     "output_type": "execute_result"
    }
   ],
   "source": [
    "# Updating the two missing values\n",
    "\n",
    "# Creating a copy of the embarked column to append new data to\n",
    "titanic_df['embarked_updated'] = titanic_df['embarked'].copy()\n",
    "\n",
    "# Updating missing values for embarked based off the above research\n",
    "titanic_df.at[168, 'embarked_updated'] = 'S'\n",
    "titanic_df.at[284, 'embarked_updated'] = 'S'\n",
    "\n",
    "# Checking change occured\n",
    "titanic_df.loc[(titanic_df['name'] == 'Icard, Miss. Amelie' ) |\n",
    "               (titanic_df['name'] == 'Stone, Mrs. George Nelson (Martha Evelyn)'), :]\n"
   ]
  },
  {
   "cell_type": "code",
   "execution_count": 102,
   "metadata": {},
   "outputs": [
    {
     "data": {
      "text/html": [
       "<div>\n",
       "<style scoped>\n",
       "    .dataframe tbody tr th:only-of-type {\n",
       "        vertical-align: middle;\n",
       "    }\n",
       "\n",
       "    .dataframe tbody tr th {\n",
       "        vertical-align: top;\n",
       "    }\n",
       "\n",
       "    .dataframe thead th {\n",
       "        text-align: right;\n",
       "    }\n",
       "</style>\n",
       "<table border=\"1\" class=\"dataframe\">\n",
       "  <thead>\n",
       "    <tr style=\"text-align: right;\">\n",
       "      <th></th>\n",
       "      <th>pclass</th>\n",
       "      <th>survived</th>\n",
       "      <th>name</th>\n",
       "      <th>sex</th>\n",
       "      <th>age</th>\n",
       "      <th>sibsp</th>\n",
       "      <th>parch</th>\n",
       "      <th>ticket</th>\n",
       "      <th>fare</th>\n",
       "      <th>cabin</th>\n",
       "      <th>embarked</th>\n",
       "      <th>boat</th>\n",
       "      <th>body</th>\n",
       "      <th>home.dest</th>\n",
       "      <th>age_updated</th>\n",
       "      <th>embarked_updated</th>\n",
       "    </tr>\n",
       "  </thead>\n",
       "  <tbody>\n",
       "    <tr>\n",
       "      <th>0</th>\n",
       "      <td>1</td>\n",
       "      <td>1</td>\n",
       "      <td>Allen, Miss. Elisabeth Walton</td>\n",
       "      <td>female</td>\n",
       "      <td>29.0000</td>\n",
       "      <td>0</td>\n",
       "      <td>0</td>\n",
       "      <td>24160</td>\n",
       "      <td>211.3375</td>\n",
       "      <td>B5</td>\n",
       "      <td>S</td>\n",
       "      <td>2</td>\n",
       "      <td>NaN</td>\n",
       "      <td>St Louis, MO</td>\n",
       "      <td>29.0000</td>\n",
       "      <td>Southampton (UK)</td>\n",
       "    </tr>\n",
       "    <tr>\n",
       "      <th>1</th>\n",
       "      <td>1</td>\n",
       "      <td>1</td>\n",
       "      <td>Allison, Master. Hudson Trevor</td>\n",
       "      <td>male</td>\n",
       "      <td>0.9167</td>\n",
       "      <td>1</td>\n",
       "      <td>2</td>\n",
       "      <td>113781</td>\n",
       "      <td>151.5500</td>\n",
       "      <td>C22 C26</td>\n",
       "      <td>S</td>\n",
       "      <td>11</td>\n",
       "      <td>NaN</td>\n",
       "      <td>Montreal, PQ / Chesterville, ON</td>\n",
       "      <td>0.9167</td>\n",
       "      <td>Southampton (UK)</td>\n",
       "    </tr>\n",
       "    <tr>\n",
       "      <th>2</th>\n",
       "      <td>1</td>\n",
       "      <td>0</td>\n",
       "      <td>Allison, Miss. Helen Loraine</td>\n",
       "      <td>female</td>\n",
       "      <td>2.0000</td>\n",
       "      <td>1</td>\n",
       "      <td>2</td>\n",
       "      <td>113781</td>\n",
       "      <td>151.5500</td>\n",
       "      <td>C22 C26</td>\n",
       "      <td>S</td>\n",
       "      <td>NaN</td>\n",
       "      <td>NaN</td>\n",
       "      <td>Montreal, PQ / Chesterville, ON</td>\n",
       "      <td>2.0000</td>\n",
       "      <td>Southampton (UK)</td>\n",
       "    </tr>\n",
       "    <tr>\n",
       "      <th>3</th>\n",
       "      <td>1</td>\n",
       "      <td>0</td>\n",
       "      <td>Allison, Mr. Hudson Joshua Creighton</td>\n",
       "      <td>male</td>\n",
       "      <td>30.0000</td>\n",
       "      <td>1</td>\n",
       "      <td>2</td>\n",
       "      <td>113781</td>\n",
       "      <td>151.5500</td>\n",
       "      <td>C22 C26</td>\n",
       "      <td>S</td>\n",
       "      <td>NaN</td>\n",
       "      <td>135.0</td>\n",
       "      <td>Montreal, PQ / Chesterville, ON</td>\n",
       "      <td>30.0000</td>\n",
       "      <td>Southampton (UK)</td>\n",
       "    </tr>\n",
       "    <tr>\n",
       "      <th>4</th>\n",
       "      <td>1</td>\n",
       "      <td>0</td>\n",
       "      <td>Allison, Mrs. Hudson J C (Bessie Waldo Daniels)</td>\n",
       "      <td>female</td>\n",
       "      <td>25.0000</td>\n",
       "      <td>1</td>\n",
       "      <td>2</td>\n",
       "      <td>113781</td>\n",
       "      <td>151.5500</td>\n",
       "      <td>C22 C26</td>\n",
       "      <td>S</td>\n",
       "      <td>NaN</td>\n",
       "      <td>NaN</td>\n",
       "      <td>Montreal, PQ / Chesterville, ON</td>\n",
       "      <td>25.0000</td>\n",
       "      <td>Southampton (UK)</td>\n",
       "    </tr>\n",
       "  </tbody>\n",
       "</table>\n",
       "</div>"
      ],
      "text/plain": [
       "   pclass  survived                                             name     sex  \\\n",
       "0       1         1                    Allen, Miss. Elisabeth Walton  female   \n",
       "1       1         1                   Allison, Master. Hudson Trevor    male   \n",
       "2       1         0                     Allison, Miss. Helen Loraine  female   \n",
       "3       1         0             Allison, Mr. Hudson Joshua Creighton    male   \n",
       "4       1         0  Allison, Mrs. Hudson J C (Bessie Waldo Daniels)  female   \n",
       "\n",
       "       age  sibsp  parch  ticket      fare    cabin embarked boat   body  \\\n",
       "0  29.0000      0      0   24160  211.3375       B5        S    2    NaN   \n",
       "1   0.9167      1      2  113781  151.5500  C22 C26        S   11    NaN   \n",
       "2   2.0000      1      2  113781  151.5500  C22 C26        S  NaN    NaN   \n",
       "3  30.0000      1      2  113781  151.5500  C22 C26        S  NaN  135.0   \n",
       "4  25.0000      1      2  113781  151.5500  C22 C26        S  NaN    NaN   \n",
       "\n",
       "                         home.dest  age_updated  embarked_updated  \n",
       "0                     St Louis, MO      29.0000  Southampton (UK)  \n",
       "1  Montreal, PQ / Chesterville, ON       0.9167  Southampton (UK)  \n",
       "2  Montreal, PQ / Chesterville, ON       2.0000  Southampton (UK)  \n",
       "3  Montreal, PQ / Chesterville, ON      30.0000  Southampton (UK)  \n",
       "4  Montreal, PQ / Chesterville, ON      25.0000  Southampton (UK)  "
      ]
     },
     "execution_count": 102,
     "metadata": {},
     "output_type": "execute_result"
    }
   ],
   "source": [
    "# Calling the function and saving it to a new column\n",
    "titanic_df['embarked_updated'] = titanic_df['embarked_updated'].apply(embarked_name)\n",
    "titanic_df.head()"
   ]
  },
  {
   "attachments": {},
   "cell_type": "markdown",
   "metadata": {},
   "source": [
    "### fare - missing data"
   ]
  },
  {
   "cell_type": "code",
   "execution_count": 103,
   "metadata": {},
   "outputs": [
    {
     "data": {
      "text/html": [
       "<div>\n",
       "<style scoped>\n",
       "    .dataframe tbody tr th:only-of-type {\n",
       "        vertical-align: middle;\n",
       "    }\n",
       "\n",
       "    .dataframe tbody tr th {\n",
       "        vertical-align: top;\n",
       "    }\n",
       "\n",
       "    .dataframe thead th {\n",
       "        text-align: right;\n",
       "    }\n",
       "</style>\n",
       "<table border=\"1\" class=\"dataframe\">\n",
       "  <thead>\n",
       "    <tr style=\"text-align: right;\">\n",
       "      <th></th>\n",
       "      <th>pclass</th>\n",
       "      <th>survived</th>\n",
       "      <th>name</th>\n",
       "      <th>sex</th>\n",
       "      <th>age</th>\n",
       "      <th>sibsp</th>\n",
       "      <th>parch</th>\n",
       "      <th>ticket</th>\n",
       "      <th>fare</th>\n",
       "      <th>cabin</th>\n",
       "      <th>embarked</th>\n",
       "      <th>boat</th>\n",
       "      <th>body</th>\n",
       "      <th>home.dest</th>\n",
       "      <th>age_updated</th>\n",
       "      <th>embarked_updated</th>\n",
       "    </tr>\n",
       "  </thead>\n",
       "  <tbody>\n",
       "    <tr>\n",
       "      <th>1225</th>\n",
       "      <td>3</td>\n",
       "      <td>0</td>\n",
       "      <td>Storey, Mr. Thomas</td>\n",
       "      <td>male</td>\n",
       "      <td>60.5</td>\n",
       "      <td>0</td>\n",
       "      <td>0</td>\n",
       "      <td>3701</td>\n",
       "      <td>NaN</td>\n",
       "      <td>NaN</td>\n",
       "      <td>S</td>\n",
       "      <td>NaN</td>\n",
       "      <td>261.0</td>\n",
       "      <td>NaN</td>\n",
       "      <td>60.5</td>\n",
       "      <td>Southampton (UK)</td>\n",
       "    </tr>\n",
       "  </tbody>\n",
       "</table>\n",
       "</div>"
      ],
      "text/plain": [
       "      pclass  survived                name   sex   age  sibsp  parch ticket  \\\n",
       "1225       3         0  Storey, Mr. Thomas  male  60.5      0      0   3701   \n",
       "\n",
       "      fare cabin embarked boat   body home.dest  age_updated  embarked_updated  \n",
       "1225   NaN   NaN        S  NaN  261.0       NaN         60.5  Southampton (UK)  "
      ]
     },
     "execution_count": 103,
     "metadata": {},
     "output_type": "execute_result"
    }
   ],
   "source": [
    "# identifying the passenger with who is missing a value for fare\n",
    "titanic_df[titanic_df['fare'].isnull()]"
   ]
  },
  {
   "cell_type": "code",
   "execution_count": 104,
   "metadata": {},
   "outputs": [
    {
     "data": {
      "text/html": [
       "<div>\n",
       "<style scoped>\n",
       "    .dataframe tbody tr th:only-of-type {\n",
       "        vertical-align: middle;\n",
       "    }\n",
       "\n",
       "    .dataframe tbody tr th {\n",
       "        vertical-align: top;\n",
       "    }\n",
       "\n",
       "    .dataframe thead th {\n",
       "        text-align: right;\n",
       "    }\n",
       "</style>\n",
       "<table border=\"1\" class=\"dataframe\">\n",
       "  <thead>\n",
       "    <tr style=\"text-align: right;\">\n",
       "      <th></th>\n",
       "      <th></th>\n",
       "      <th>count</th>\n",
       "      <th>mean</th>\n",
       "      <th>std</th>\n",
       "      <th>min</th>\n",
       "      <th>25%</th>\n",
       "      <th>50%</th>\n",
       "      <th>75%</th>\n",
       "      <th>max</th>\n",
       "    </tr>\n",
       "    <tr>\n",
       "      <th>pclass</th>\n",
       "      <th>sex</th>\n",
       "      <th></th>\n",
       "      <th></th>\n",
       "      <th></th>\n",
       "      <th></th>\n",
       "      <th></th>\n",
       "      <th></th>\n",
       "      <th></th>\n",
       "      <th></th>\n",
       "    </tr>\n",
       "  </thead>\n",
       "  <tbody>\n",
       "    <tr>\n",
       "      <th rowspan=\"2\" valign=\"top\">1</th>\n",
       "      <th>female</th>\n",
       "      <td>144.0</td>\n",
       "      <td>109.412385</td>\n",
       "      <td>82.885854</td>\n",
       "      <td>25.70</td>\n",
       "      <td>55.4417</td>\n",
       "      <td>80.92915</td>\n",
       "      <td>135.919775</td>\n",
       "      <td>512.3292</td>\n",
       "    </tr>\n",
       "    <tr>\n",
       "      <th>male</th>\n",
       "      <td>179.0</td>\n",
       "      <td>69.888385</td>\n",
       "      <td>74.079427</td>\n",
       "      <td>0.00</td>\n",
       "      <td>27.7208</td>\n",
       "      <td>49.50420</td>\n",
       "      <td>79.200000</td>\n",
       "      <td>512.3292</td>\n",
       "    </tr>\n",
       "    <tr>\n",
       "      <th rowspan=\"2\" valign=\"top\">2</th>\n",
       "      <th>female</th>\n",
       "      <td>106.0</td>\n",
       "      <td>23.234827</td>\n",
       "      <td>11.239817</td>\n",
       "      <td>10.50</td>\n",
       "      <td>13.0000</td>\n",
       "      <td>23.00000</td>\n",
       "      <td>26.250000</td>\n",
       "      <td>65.0000</td>\n",
       "    </tr>\n",
       "    <tr>\n",
       "      <th>male</th>\n",
       "      <td>171.0</td>\n",
       "      <td>19.904946</td>\n",
       "      <td>14.775149</td>\n",
       "      <td>0.00</td>\n",
       "      <td>12.3500</td>\n",
       "      <td>13.00000</td>\n",
       "      <td>26.000000</td>\n",
       "      <td>73.5000</td>\n",
       "    </tr>\n",
       "    <tr>\n",
       "      <th rowspan=\"2\" valign=\"top\">3</th>\n",
       "      <th>female</th>\n",
       "      <td>216.0</td>\n",
       "      <td>15.324250</td>\n",
       "      <td>11.786512</td>\n",
       "      <td>6.75</td>\n",
       "      <td>7.7750</td>\n",
       "      <td>10.48960</td>\n",
       "      <td>17.850000</td>\n",
       "      <td>69.5500</td>\n",
       "    </tr>\n",
       "    <tr>\n",
       "      <th>male</th>\n",
       "      <td>492.0</td>\n",
       "      <td>12.415462</td>\n",
       "      <td>11.261638</td>\n",
       "      <td>0.00</td>\n",
       "      <td>7.7500</td>\n",
       "      <td>7.89580</td>\n",
       "      <td>9.586450</td>\n",
       "      <td>69.5500</td>\n",
       "    </tr>\n",
       "  </tbody>\n",
       "</table>\n",
       "</div>"
      ],
      "text/plain": [
       "               count        mean        std    min      25%       50%  \\\n",
       "pclass sex                                                              \n",
       "1      female  144.0  109.412385  82.885854  25.70  55.4417  80.92915   \n",
       "       male    179.0   69.888385  74.079427   0.00  27.7208  49.50420   \n",
       "2      female  106.0   23.234827  11.239817  10.50  13.0000  23.00000   \n",
       "       male    171.0   19.904946  14.775149   0.00  12.3500  13.00000   \n",
       "3      female  216.0   15.324250  11.786512   6.75   7.7750  10.48960   \n",
       "       male    492.0   12.415462  11.261638   0.00   7.7500   7.89580   \n",
       "\n",
       "                      75%       max  \n",
       "pclass sex                           \n",
       "1      female  135.919775  512.3292  \n",
       "       male     79.200000  512.3292  \n",
       "2      female   26.250000   65.0000  \n",
       "       male     26.000000   73.5000  \n",
       "3      female   17.850000   69.5500  \n",
       "       male      9.586450   69.5500  "
      ]
     },
     "execution_count": 104,
     "metadata": {},
     "output_type": "execute_result"
    }
   ],
   "source": [
    "# finding out the average fare by sex and class\n",
    "grouped = titanic_df.groupby(['pclass', 'sex'])\n",
    "grouped['fare'].describe()"
   ]
  },
  {
   "cell_type": "code",
   "execution_count": 105,
   "metadata": {},
   "outputs": [
    {
     "data": {
      "text/html": [
       "<div>\n",
       "<style scoped>\n",
       "    .dataframe tbody tr th:only-of-type {\n",
       "        vertical-align: middle;\n",
       "    }\n",
       "\n",
       "    .dataframe tbody tr th {\n",
       "        vertical-align: top;\n",
       "    }\n",
       "\n",
       "    .dataframe thead th {\n",
       "        text-align: right;\n",
       "    }\n",
       "</style>\n",
       "<table border=\"1\" class=\"dataframe\">\n",
       "  <thead>\n",
       "    <tr style=\"text-align: right;\">\n",
       "      <th></th>\n",
       "      <th>pclass</th>\n",
       "      <th>survived</th>\n",
       "      <th>name</th>\n",
       "      <th>sex</th>\n",
       "      <th>age</th>\n",
       "      <th>sibsp</th>\n",
       "      <th>parch</th>\n",
       "      <th>ticket</th>\n",
       "      <th>fare</th>\n",
       "      <th>cabin</th>\n",
       "      <th>embarked</th>\n",
       "      <th>boat</th>\n",
       "      <th>body</th>\n",
       "      <th>home.dest</th>\n",
       "      <th>age_updated</th>\n",
       "      <th>embarked_updated</th>\n",
       "      <th>fare_updated</th>\n",
       "    </tr>\n",
       "  </thead>\n",
       "  <tbody>\n",
       "    <tr>\n",
       "      <th>1225</th>\n",
       "      <td>3</td>\n",
       "      <td>0</td>\n",
       "      <td>Storey, Mr. Thomas</td>\n",
       "      <td>male</td>\n",
       "      <td>60.5</td>\n",
       "      <td>0</td>\n",
       "      <td>0</td>\n",
       "      <td>3701</td>\n",
       "      <td>NaN</td>\n",
       "      <td>NaN</td>\n",
       "      <td>S</td>\n",
       "      <td>NaN</td>\n",
       "      <td>261.0</td>\n",
       "      <td>NaN</td>\n",
       "      <td>60.5</td>\n",
       "      <td>Southampton (UK)</td>\n",
       "      <td>12.4155</td>\n",
       "    </tr>\n",
       "  </tbody>\n",
       "</table>\n",
       "</div>"
      ],
      "text/plain": [
       "      pclass  survived                name   sex   age  sibsp  parch ticket  \\\n",
       "1225       3         0  Storey, Mr. Thomas  male  60.5      0      0   3701   \n",
       "\n",
       "      fare cabin embarked boat   body home.dest  age_updated  \\\n",
       "1225   NaN   NaN        S  NaN  261.0       NaN         60.5   \n",
       "\n",
       "      embarked_updated  fare_updated  \n",
       "1225  Southampton (UK)       12.4155  "
      ]
     },
     "execution_count": 105,
     "metadata": {},
     "output_type": "execute_result"
    }
   ],
   "source": [
    "# Updating the missing value\n",
    "\n",
    "# creating a copy of the fare column to append new data to\n",
    "titanic_df['fare_updated'] = titanic_df['fare'].copy()\n",
    "\n",
    "# updating missing values for Storey,Mr.Thomas based on the average value for a male travelling in thrid class\n",
    "titanic_df.at[1225, 'fare_updated'] = 12.4155\n",
    "\n",
    "# checking change occured\n",
    "titanic_df.loc[titanic_df['name'] == 'Storey, Mr. Thomas', :]"
   ]
  },
  {
   "attachments": {},
   "cell_type": "markdown",
   "metadata": {},
   "source": [
    "### Cabin"
   ]
  },
  {
   "cell_type": "code",
   "execution_count": 106,
   "metadata": {},
   "outputs": [
    {
     "data": {
      "text/plain": [
       "NaN                1014\n",
       "C23 C25 C27           6\n",
       "B57 B59 B63 B66       5\n",
       "G6                    5\n",
       "F33                   4\n",
       "                   ... \n",
       "C118                  1\n",
       "B10                   1\n",
       "C91                   1\n",
       "A11                   1\n",
       "C95                   1\n",
       "Name: cabin, Length: 187, dtype: int64"
      ]
     },
     "execution_count": 106,
     "metadata": {},
     "output_type": "execute_result"
    }
   ],
   "source": [
    "# Checking the number of missing values\n",
    "titanic_df['cabin'].value_counts(dropna=False)"
   ]
  },
  {
   "cell_type": "code",
   "execution_count": 107,
   "metadata": {},
   "outputs": [
    {
     "name": "stdout",
     "output_type": "stream",
     "text": [
      "Unknown    1014\n",
      "C            94\n",
      "B            65\n",
      "D            46\n",
      "E            41\n",
      "A            22\n",
      "F            21\n",
      "G             5\n",
      "T             1\n",
      "Name: deck, dtype: int64\n"
     ]
    },
    {
     "data": {
      "text/html": [
       "<div>\n",
       "<style scoped>\n",
       "    .dataframe tbody tr th:only-of-type {\n",
       "        vertical-align: middle;\n",
       "    }\n",
       "\n",
       "    .dataframe tbody tr th {\n",
       "        vertical-align: top;\n",
       "    }\n",
       "\n",
       "    .dataframe thead th {\n",
       "        text-align: right;\n",
       "    }\n",
       "</style>\n",
       "<table border=\"1\" class=\"dataframe\">\n",
       "  <thead>\n",
       "    <tr style=\"text-align: right;\">\n",
       "      <th></th>\n",
       "      <th>pclass</th>\n",
       "      <th>survived</th>\n",
       "      <th>name</th>\n",
       "      <th>sex</th>\n",
       "      <th>age</th>\n",
       "      <th>sibsp</th>\n",
       "      <th>parch</th>\n",
       "      <th>ticket</th>\n",
       "      <th>fare</th>\n",
       "      <th>cabin</th>\n",
       "      <th>embarked</th>\n",
       "      <th>boat</th>\n",
       "      <th>body</th>\n",
       "      <th>home.dest</th>\n",
       "      <th>age_updated</th>\n",
       "      <th>embarked_updated</th>\n",
       "      <th>fare_updated</th>\n",
       "      <th>deck</th>\n",
       "    </tr>\n",
       "  </thead>\n",
       "  <tbody>\n",
       "    <tr>\n",
       "      <th>0</th>\n",
       "      <td>1</td>\n",
       "      <td>1</td>\n",
       "      <td>Allen, Miss. Elisabeth Walton</td>\n",
       "      <td>female</td>\n",
       "      <td>29.0000</td>\n",
       "      <td>0</td>\n",
       "      <td>0</td>\n",
       "      <td>24160</td>\n",
       "      <td>211.3375</td>\n",
       "      <td>B5</td>\n",
       "      <td>S</td>\n",
       "      <td>2</td>\n",
       "      <td>NaN</td>\n",
       "      <td>St Louis, MO</td>\n",
       "      <td>29.0000</td>\n",
       "      <td>Southampton (UK)</td>\n",
       "      <td>211.3375</td>\n",
       "      <td>B</td>\n",
       "    </tr>\n",
       "    <tr>\n",
       "      <th>1</th>\n",
       "      <td>1</td>\n",
       "      <td>1</td>\n",
       "      <td>Allison, Master. Hudson Trevor</td>\n",
       "      <td>male</td>\n",
       "      <td>0.9167</td>\n",
       "      <td>1</td>\n",
       "      <td>2</td>\n",
       "      <td>113781</td>\n",
       "      <td>151.5500</td>\n",
       "      <td>C22 C26</td>\n",
       "      <td>S</td>\n",
       "      <td>11</td>\n",
       "      <td>NaN</td>\n",
       "      <td>Montreal, PQ / Chesterville, ON</td>\n",
       "      <td>0.9167</td>\n",
       "      <td>Southampton (UK)</td>\n",
       "      <td>151.5500</td>\n",
       "      <td>C</td>\n",
       "    </tr>\n",
       "    <tr>\n",
       "      <th>2</th>\n",
       "      <td>1</td>\n",
       "      <td>0</td>\n",
       "      <td>Allison, Miss. Helen Loraine</td>\n",
       "      <td>female</td>\n",
       "      <td>2.0000</td>\n",
       "      <td>1</td>\n",
       "      <td>2</td>\n",
       "      <td>113781</td>\n",
       "      <td>151.5500</td>\n",
       "      <td>C22 C26</td>\n",
       "      <td>S</td>\n",
       "      <td>NaN</td>\n",
       "      <td>NaN</td>\n",
       "      <td>Montreal, PQ / Chesterville, ON</td>\n",
       "      <td>2.0000</td>\n",
       "      <td>Southampton (UK)</td>\n",
       "      <td>151.5500</td>\n",
       "      <td>C</td>\n",
       "    </tr>\n",
       "    <tr>\n",
       "      <th>3</th>\n",
       "      <td>1</td>\n",
       "      <td>0</td>\n",
       "      <td>Allison, Mr. Hudson Joshua Creighton</td>\n",
       "      <td>male</td>\n",
       "      <td>30.0000</td>\n",
       "      <td>1</td>\n",
       "      <td>2</td>\n",
       "      <td>113781</td>\n",
       "      <td>151.5500</td>\n",
       "      <td>C22 C26</td>\n",
       "      <td>S</td>\n",
       "      <td>NaN</td>\n",
       "      <td>135.0</td>\n",
       "      <td>Montreal, PQ / Chesterville, ON</td>\n",
       "      <td>30.0000</td>\n",
       "      <td>Southampton (UK)</td>\n",
       "      <td>151.5500</td>\n",
       "      <td>C</td>\n",
       "    </tr>\n",
       "    <tr>\n",
       "      <th>4</th>\n",
       "      <td>1</td>\n",
       "      <td>0</td>\n",
       "      <td>Allison, Mrs. Hudson J C (Bessie Waldo Daniels)</td>\n",
       "      <td>female</td>\n",
       "      <td>25.0000</td>\n",
       "      <td>1</td>\n",
       "      <td>2</td>\n",
       "      <td>113781</td>\n",
       "      <td>151.5500</td>\n",
       "      <td>C22 C26</td>\n",
       "      <td>S</td>\n",
       "      <td>NaN</td>\n",
       "      <td>NaN</td>\n",
       "      <td>Montreal, PQ / Chesterville, ON</td>\n",
       "      <td>25.0000</td>\n",
       "      <td>Southampton (UK)</td>\n",
       "      <td>151.5500</td>\n",
       "      <td>C</td>\n",
       "    </tr>\n",
       "  </tbody>\n",
       "</table>\n",
       "</div>"
      ],
      "text/plain": [
       "   pclass  survived                                             name     sex  \\\n",
       "0       1         1                    Allen, Miss. Elisabeth Walton  female   \n",
       "1       1         1                   Allison, Master. Hudson Trevor    male   \n",
       "2       1         0                     Allison, Miss. Helen Loraine  female   \n",
       "3       1         0             Allison, Mr. Hudson Joshua Creighton    male   \n",
       "4       1         0  Allison, Mrs. Hudson J C (Bessie Waldo Daniels)  female   \n",
       "\n",
       "       age  sibsp  parch  ticket      fare    cabin embarked boat   body  \\\n",
       "0  29.0000      0      0   24160  211.3375       B5        S    2    NaN   \n",
       "1   0.9167      1      2  113781  151.5500  C22 C26        S   11    NaN   \n",
       "2   2.0000      1      2  113781  151.5500  C22 C26        S  NaN    NaN   \n",
       "3  30.0000      1      2  113781  151.5500  C22 C26        S  NaN  135.0   \n",
       "4  25.0000      1      2  113781  151.5500  C22 C26        S  NaN    NaN   \n",
       "\n",
       "                         home.dest  age_updated  embarked_updated  \\\n",
       "0                     St Louis, MO      29.0000  Southampton (UK)   \n",
       "1  Montreal, PQ / Chesterville, ON       0.9167  Southampton (UK)   \n",
       "2  Montreal, PQ / Chesterville, ON       2.0000  Southampton (UK)   \n",
       "3  Montreal, PQ / Chesterville, ON      30.0000  Southampton (UK)   \n",
       "4  Montreal, PQ / Chesterville, ON      25.0000  Southampton (UK)   \n",
       "\n",
       "   fare_updated deck  \n",
       "0      211.3375    B  \n",
       "1      151.5500    C  \n",
       "2      151.5500    C  \n",
       "3      151.5500    C  \n",
       "4      151.5500    C  "
      ]
     },
     "execution_count": 107,
     "metadata": {},
     "output_type": "execute_result"
    }
   ],
   "source": [
    "# Obtaining the deck number by taking the letter from the cabin number\n",
    "titanic_df['deck'] = titanic_df['cabin'].str.slice(0,1) # taking the first character\n",
    "\n",
    "# Filling in the missing values for deck with 'Unknown'\n",
    "titanic_df['deck'] = titanic_df['deck'].fillna(\"Unknown\")\n",
    "print(titanic_df['deck'].value_counts(dropna=False))\n",
    "\n",
    "# Checking the dataframe\n",
    "titanic_df.head()"
   ]
  },
  {
   "attachments": {},
   "cell_type": "markdown",
   "metadata": {},
   "source": [
    "### Updaging pclass names"
   ]
  },
  {
   "cell_type": "code",
   "execution_count": 108,
   "metadata": {},
   "outputs": [
    {
     "data": {
      "text/html": [
       "<div>\n",
       "<style scoped>\n",
       "    .dataframe tbody tr th:only-of-type {\n",
       "        vertical-align: middle;\n",
       "    }\n",
       "\n",
       "    .dataframe tbody tr th {\n",
       "        vertical-align: top;\n",
       "    }\n",
       "\n",
       "    .dataframe thead th {\n",
       "        text-align: right;\n",
       "    }\n",
       "</style>\n",
       "<table border=\"1\" class=\"dataframe\">\n",
       "  <thead>\n",
       "    <tr style=\"text-align: right;\">\n",
       "      <th></th>\n",
       "      <th>pclass</th>\n",
       "      <th>survived</th>\n",
       "      <th>name</th>\n",
       "      <th>sex</th>\n",
       "      <th>age</th>\n",
       "      <th>sibsp</th>\n",
       "      <th>parch</th>\n",
       "      <th>ticket</th>\n",
       "      <th>fare</th>\n",
       "      <th>cabin</th>\n",
       "      <th>embarked</th>\n",
       "      <th>boat</th>\n",
       "      <th>body</th>\n",
       "      <th>home.dest</th>\n",
       "      <th>age_updated</th>\n",
       "      <th>embarked_updated</th>\n",
       "      <th>fare_updated</th>\n",
       "      <th>deck</th>\n",
       "      <th>pclass_updated</th>\n",
       "    </tr>\n",
       "  </thead>\n",
       "  <tbody>\n",
       "    <tr>\n",
       "      <th>0</th>\n",
       "      <td>1</td>\n",
       "      <td>1</td>\n",
       "      <td>Allen, Miss. Elisabeth Walton</td>\n",
       "      <td>female</td>\n",
       "      <td>29.0000</td>\n",
       "      <td>0</td>\n",
       "      <td>0</td>\n",
       "      <td>24160</td>\n",
       "      <td>211.3375</td>\n",
       "      <td>B5</td>\n",
       "      <td>S</td>\n",
       "      <td>2</td>\n",
       "      <td>NaN</td>\n",
       "      <td>St Louis, MO</td>\n",
       "      <td>29.0000</td>\n",
       "      <td>Southampton (UK)</td>\n",
       "      <td>211.3375</td>\n",
       "      <td>B</td>\n",
       "      <td>First class</td>\n",
       "    </tr>\n",
       "    <tr>\n",
       "      <th>1</th>\n",
       "      <td>1</td>\n",
       "      <td>1</td>\n",
       "      <td>Allison, Master. Hudson Trevor</td>\n",
       "      <td>male</td>\n",
       "      <td>0.9167</td>\n",
       "      <td>1</td>\n",
       "      <td>2</td>\n",
       "      <td>113781</td>\n",
       "      <td>151.5500</td>\n",
       "      <td>C22 C26</td>\n",
       "      <td>S</td>\n",
       "      <td>11</td>\n",
       "      <td>NaN</td>\n",
       "      <td>Montreal, PQ / Chesterville, ON</td>\n",
       "      <td>0.9167</td>\n",
       "      <td>Southampton (UK)</td>\n",
       "      <td>151.5500</td>\n",
       "      <td>C</td>\n",
       "      <td>First class</td>\n",
       "    </tr>\n",
       "    <tr>\n",
       "      <th>2</th>\n",
       "      <td>1</td>\n",
       "      <td>0</td>\n",
       "      <td>Allison, Miss. Helen Loraine</td>\n",
       "      <td>female</td>\n",
       "      <td>2.0000</td>\n",
       "      <td>1</td>\n",
       "      <td>2</td>\n",
       "      <td>113781</td>\n",
       "      <td>151.5500</td>\n",
       "      <td>C22 C26</td>\n",
       "      <td>S</td>\n",
       "      <td>NaN</td>\n",
       "      <td>NaN</td>\n",
       "      <td>Montreal, PQ / Chesterville, ON</td>\n",
       "      <td>2.0000</td>\n",
       "      <td>Southampton (UK)</td>\n",
       "      <td>151.5500</td>\n",
       "      <td>C</td>\n",
       "      <td>First class</td>\n",
       "    </tr>\n",
       "    <tr>\n",
       "      <th>3</th>\n",
       "      <td>1</td>\n",
       "      <td>0</td>\n",
       "      <td>Allison, Mr. Hudson Joshua Creighton</td>\n",
       "      <td>male</td>\n",
       "      <td>30.0000</td>\n",
       "      <td>1</td>\n",
       "      <td>2</td>\n",
       "      <td>113781</td>\n",
       "      <td>151.5500</td>\n",
       "      <td>C22 C26</td>\n",
       "      <td>S</td>\n",
       "      <td>NaN</td>\n",
       "      <td>135.0</td>\n",
       "      <td>Montreal, PQ / Chesterville, ON</td>\n",
       "      <td>30.0000</td>\n",
       "      <td>Southampton (UK)</td>\n",
       "      <td>151.5500</td>\n",
       "      <td>C</td>\n",
       "      <td>First class</td>\n",
       "    </tr>\n",
       "    <tr>\n",
       "      <th>4</th>\n",
       "      <td>1</td>\n",
       "      <td>0</td>\n",
       "      <td>Allison, Mrs. Hudson J C (Bessie Waldo Daniels)</td>\n",
       "      <td>female</td>\n",
       "      <td>25.0000</td>\n",
       "      <td>1</td>\n",
       "      <td>2</td>\n",
       "      <td>113781</td>\n",
       "      <td>151.5500</td>\n",
       "      <td>C22 C26</td>\n",
       "      <td>S</td>\n",
       "      <td>NaN</td>\n",
       "      <td>NaN</td>\n",
       "      <td>Montreal, PQ / Chesterville, ON</td>\n",
       "      <td>25.0000</td>\n",
       "      <td>Southampton (UK)</td>\n",
       "      <td>151.5500</td>\n",
       "      <td>C</td>\n",
       "      <td>First class</td>\n",
       "    </tr>\n",
       "  </tbody>\n",
       "</table>\n",
       "</div>"
      ],
      "text/plain": [
       "   pclass  survived                                             name     sex  \\\n",
       "0       1         1                    Allen, Miss. Elisabeth Walton  female   \n",
       "1       1         1                   Allison, Master. Hudson Trevor    male   \n",
       "2       1         0                     Allison, Miss. Helen Loraine  female   \n",
       "3       1         0             Allison, Mr. Hudson Joshua Creighton    male   \n",
       "4       1         0  Allison, Mrs. Hudson J C (Bessie Waldo Daniels)  female   \n",
       "\n",
       "       age  sibsp  parch  ticket      fare    cabin embarked boat   body  \\\n",
       "0  29.0000      0      0   24160  211.3375       B5        S    2    NaN   \n",
       "1   0.9167      1      2  113781  151.5500  C22 C26        S   11    NaN   \n",
       "2   2.0000      1      2  113781  151.5500  C22 C26        S  NaN    NaN   \n",
       "3  30.0000      1      2  113781  151.5500  C22 C26        S  NaN  135.0   \n",
       "4  25.0000      1      2  113781  151.5500  C22 C26        S  NaN    NaN   \n",
       "\n",
       "                         home.dest  age_updated  embarked_updated  \\\n",
       "0                     St Louis, MO      29.0000  Southampton (UK)   \n",
       "1  Montreal, PQ / Chesterville, ON       0.9167  Southampton (UK)   \n",
       "2  Montreal, PQ / Chesterville, ON       2.0000  Southampton (UK)   \n",
       "3  Montreal, PQ / Chesterville, ON      30.0000  Southampton (UK)   \n",
       "4  Montreal, PQ / Chesterville, ON      25.0000  Southampton (UK)   \n",
       "\n",
       "   fare_updated deck pclass_updated  \n",
       "0      211.3375    B    First class  \n",
       "1      151.5500    C    First class  \n",
       "2      151.5500    C    First class  \n",
       "3      151.5500    C    First class  \n",
       "4      151.5500    C    First class  "
      ]
     },
     "execution_count": 108,
     "metadata": {},
     "output_type": "execute_result"
    }
   ],
   "source": [
    "# Calling the function and saving it to a new column\n",
    "titanic_df['pclass_updated'] = titanic_df['pclass'].apply(pclass_name)\n",
    "titanic_df.head()"
   ]
  },
  {
   "attachments": {},
   "cell_type": "markdown",
   "metadata": {},
   "source": [
    "### Home.dest"
   ]
  },
  {
   "cell_type": "code",
   "execution_count": 109,
   "metadata": {},
   "outputs": [
    {
     "data": {
      "text/plain": [
       "NaN                     564\n",
       "New York, NY             64\n",
       "London                   14\n",
       "Montreal, PQ             10\n",
       "Cornwall / Akron, OH      9\n",
       "                       ... \n",
       "West Hoboken, NJ          1\n",
       "Copenhagen, Denmark       1\n",
       "Holley, NY                1\n",
       "Devonport, England        1\n",
       "Roachdale, IN             1\n",
       "Name: home.dest, Length: 370, dtype: int64"
      ]
     },
     "execution_count": 109,
     "metadata": {},
     "output_type": "execute_result"
    }
   ],
   "source": [
    "# Checking the number of missing values\n",
    "titanic_df['home.dest'].value_counts(dropna=False)"
   ]
  },
  {
   "cell_type": "code",
   "execution_count": 110,
   "metadata": {},
   "outputs": [
    {
     "name": "stdout",
     "output_type": "stream",
     "text": [
      "Unknown                             564\n",
      "New York, NY                         64\n",
      "London                               14\n",
      "Montreal, PQ                         10\n",
      "Paris, France                         9\n",
      "                                   ... \n",
      "New Britain, CT                       1\n",
      "London / Middlesex                    1\n",
      "Glasgow / Bangor, ME                  1\n",
      "Belgium  Montreal, PQ                 1\n",
      "Ascot, Berkshire / Rochester, NY      1\n",
      "Name: home_dest_updated, Length: 370, dtype: int64\n"
     ]
    }
   ],
   "source": [
    "# Creating a copy of the field\n",
    "titanic_df['home_dest_updated'] = titanic_df['home.dest'].copy()\n",
    "\n",
    "# Filling the missing values with 'Unknown'\n",
    "titanic_df['home_dest_updated'] = titanic_df['home_dest_updated'].fillna(\"Unknown\")\n",
    "print(titanic_df['home_dest_updated'].value_counts(dropna=False))"
   ]
  },
  {
   "attachments": {},
   "cell_type": "markdown",
   "metadata": {},
   "source": [
    "### Creating a unique id for each passenger"
   ]
  },
  {
   "cell_type": "code",
   "execution_count": 111,
   "metadata": {},
   "outputs": [
    {
     "data": {
      "text/html": [
       "<div>\n",
       "<style scoped>\n",
       "    .dataframe tbody tr th:only-of-type {\n",
       "        vertical-align: middle;\n",
       "    }\n",
       "\n",
       "    .dataframe tbody tr th {\n",
       "        vertical-align: top;\n",
       "    }\n",
       "\n",
       "    .dataframe thead th {\n",
       "        text-align: right;\n",
       "    }\n",
       "</style>\n",
       "<table border=\"1\" class=\"dataframe\">\n",
       "  <thead>\n",
       "    <tr style=\"text-align: right;\">\n",
       "      <th></th>\n",
       "      <th>passenger_id</th>\n",
       "      <th>pclass</th>\n",
       "      <th>survived</th>\n",
       "      <th>name</th>\n",
       "      <th>sex</th>\n",
       "      <th>age</th>\n",
       "      <th>sibsp</th>\n",
       "      <th>parch</th>\n",
       "      <th>ticket</th>\n",
       "      <th>fare</th>\n",
       "      <th>...</th>\n",
       "      <th>embarked</th>\n",
       "      <th>boat</th>\n",
       "      <th>body</th>\n",
       "      <th>home.dest</th>\n",
       "      <th>age_updated</th>\n",
       "      <th>embarked_updated</th>\n",
       "      <th>fare_updated</th>\n",
       "      <th>deck</th>\n",
       "      <th>pclass_updated</th>\n",
       "      <th>home_dest_updated</th>\n",
       "    </tr>\n",
       "  </thead>\n",
       "  <tbody>\n",
       "    <tr>\n",
       "      <th>0</th>\n",
       "      <td>1</td>\n",
       "      <td>1</td>\n",
       "      <td>1</td>\n",
       "      <td>Allen, Miss. Elisabeth Walton</td>\n",
       "      <td>female</td>\n",
       "      <td>29.0000</td>\n",
       "      <td>0</td>\n",
       "      <td>0</td>\n",
       "      <td>24160</td>\n",
       "      <td>211.3375</td>\n",
       "      <td>...</td>\n",
       "      <td>S</td>\n",
       "      <td>2</td>\n",
       "      <td>NaN</td>\n",
       "      <td>St Louis, MO</td>\n",
       "      <td>29.0000</td>\n",
       "      <td>Southampton (UK)</td>\n",
       "      <td>211.3375</td>\n",
       "      <td>B</td>\n",
       "      <td>First class</td>\n",
       "      <td>St Louis, MO</td>\n",
       "    </tr>\n",
       "    <tr>\n",
       "      <th>1</th>\n",
       "      <td>2</td>\n",
       "      <td>1</td>\n",
       "      <td>1</td>\n",
       "      <td>Allison, Master. Hudson Trevor</td>\n",
       "      <td>male</td>\n",
       "      <td>0.9167</td>\n",
       "      <td>1</td>\n",
       "      <td>2</td>\n",
       "      <td>113781</td>\n",
       "      <td>151.5500</td>\n",
       "      <td>...</td>\n",
       "      <td>S</td>\n",
       "      <td>11</td>\n",
       "      <td>NaN</td>\n",
       "      <td>Montreal, PQ / Chesterville, ON</td>\n",
       "      <td>0.9167</td>\n",
       "      <td>Southampton (UK)</td>\n",
       "      <td>151.5500</td>\n",
       "      <td>C</td>\n",
       "      <td>First class</td>\n",
       "      <td>Montreal, PQ / Chesterville, ON</td>\n",
       "    </tr>\n",
       "    <tr>\n",
       "      <th>2</th>\n",
       "      <td>3</td>\n",
       "      <td>1</td>\n",
       "      <td>0</td>\n",
       "      <td>Allison, Miss. Helen Loraine</td>\n",
       "      <td>female</td>\n",
       "      <td>2.0000</td>\n",
       "      <td>1</td>\n",
       "      <td>2</td>\n",
       "      <td>113781</td>\n",
       "      <td>151.5500</td>\n",
       "      <td>...</td>\n",
       "      <td>S</td>\n",
       "      <td>NaN</td>\n",
       "      <td>NaN</td>\n",
       "      <td>Montreal, PQ / Chesterville, ON</td>\n",
       "      <td>2.0000</td>\n",
       "      <td>Southampton (UK)</td>\n",
       "      <td>151.5500</td>\n",
       "      <td>C</td>\n",
       "      <td>First class</td>\n",
       "      <td>Montreal, PQ / Chesterville, ON</td>\n",
       "    </tr>\n",
       "    <tr>\n",
       "      <th>3</th>\n",
       "      <td>4</td>\n",
       "      <td>1</td>\n",
       "      <td>0</td>\n",
       "      <td>Allison, Mr. Hudson Joshua Creighton</td>\n",
       "      <td>male</td>\n",
       "      <td>30.0000</td>\n",
       "      <td>1</td>\n",
       "      <td>2</td>\n",
       "      <td>113781</td>\n",
       "      <td>151.5500</td>\n",
       "      <td>...</td>\n",
       "      <td>S</td>\n",
       "      <td>NaN</td>\n",
       "      <td>135.0</td>\n",
       "      <td>Montreal, PQ / Chesterville, ON</td>\n",
       "      <td>30.0000</td>\n",
       "      <td>Southampton (UK)</td>\n",
       "      <td>151.5500</td>\n",
       "      <td>C</td>\n",
       "      <td>First class</td>\n",
       "      <td>Montreal, PQ / Chesterville, ON</td>\n",
       "    </tr>\n",
       "    <tr>\n",
       "      <th>4</th>\n",
       "      <td>5</td>\n",
       "      <td>1</td>\n",
       "      <td>0</td>\n",
       "      <td>Allison, Mrs. Hudson J C (Bessie Waldo Daniels)</td>\n",
       "      <td>female</td>\n",
       "      <td>25.0000</td>\n",
       "      <td>1</td>\n",
       "      <td>2</td>\n",
       "      <td>113781</td>\n",
       "      <td>151.5500</td>\n",
       "      <td>...</td>\n",
       "      <td>S</td>\n",
       "      <td>NaN</td>\n",
       "      <td>NaN</td>\n",
       "      <td>Montreal, PQ / Chesterville, ON</td>\n",
       "      <td>25.0000</td>\n",
       "      <td>Southampton (UK)</td>\n",
       "      <td>151.5500</td>\n",
       "      <td>C</td>\n",
       "      <td>First class</td>\n",
       "      <td>Montreal, PQ / Chesterville, ON</td>\n",
       "    </tr>\n",
       "  </tbody>\n",
       "</table>\n",
       "<p>5 rows × 21 columns</p>\n",
       "</div>"
      ],
      "text/plain": [
       "   passenger_id  pclass  survived  \\\n",
       "0             1       1         1   \n",
       "1             2       1         1   \n",
       "2             3       1         0   \n",
       "3             4       1         0   \n",
       "4             5       1         0   \n",
       "\n",
       "                                              name     sex      age  sibsp  \\\n",
       "0                    Allen, Miss. Elisabeth Walton  female  29.0000      0   \n",
       "1                   Allison, Master. Hudson Trevor    male   0.9167      1   \n",
       "2                     Allison, Miss. Helen Loraine  female   2.0000      1   \n",
       "3             Allison, Mr. Hudson Joshua Creighton    male  30.0000      1   \n",
       "4  Allison, Mrs. Hudson J C (Bessie Waldo Daniels)  female  25.0000      1   \n",
       "\n",
       "   parch  ticket      fare  ... embarked boat   body  \\\n",
       "0      0   24160  211.3375  ...        S    2    NaN   \n",
       "1      2  113781  151.5500  ...        S   11    NaN   \n",
       "2      2  113781  151.5500  ...        S  NaN    NaN   \n",
       "3      2  113781  151.5500  ...        S  NaN  135.0   \n",
       "4      2  113781  151.5500  ...        S  NaN    NaN   \n",
       "\n",
       "                         home.dest age_updated  embarked_updated fare_updated  \\\n",
       "0                     St Louis, MO     29.0000  Southampton (UK)     211.3375   \n",
       "1  Montreal, PQ / Chesterville, ON      0.9167  Southampton (UK)     151.5500   \n",
       "2  Montreal, PQ / Chesterville, ON      2.0000  Southampton (UK)     151.5500   \n",
       "3  Montreal, PQ / Chesterville, ON     30.0000  Southampton (UK)     151.5500   \n",
       "4  Montreal, PQ / Chesterville, ON     25.0000  Southampton (UK)     151.5500   \n",
       "\n",
       "   deck pclass_updated                home_dest_updated  \n",
       "0     B    First class                     St Louis, MO  \n",
       "1     C    First class  Montreal, PQ / Chesterville, ON  \n",
       "2     C    First class  Montreal, PQ / Chesterville, ON  \n",
       "3     C    First class  Montreal, PQ / Chesterville, ON  \n",
       "4     C    First class  Montreal, PQ / Chesterville, ON  \n",
       "\n",
       "[5 rows x 21 columns]"
      ]
     },
     "execution_count": 111,
     "metadata": {},
     "output_type": "execute_result"
    }
   ],
   "source": [
    "# creating a unique id for each passenger using the index\n",
    "titanic_df['passenger_id'] = np.arange(1, len(titanic_df) + 1)\n",
    "titanic_df = titanic_df.set_index('passenger_id')\n",
    "titanic_df.reset_index(inplace=True)\n",
    "titanic_df.head()"
   ]
  },
  {
   "attachments": {},
   "cell_type": "markdown",
   "metadata": {},
   "source": [
    "### Extracting titles"
   ]
  },
  {
   "cell_type": "code",
   "execution_count": 112,
   "metadata": {},
   "outputs": [
    {
     "data": {
      "text/plain": [
       "Mr              757\n",
       "Miss            260\n",
       "Mrs             197\n",
       "Master           61\n",
       "Dr                8\n",
       "Rev               8\n",
       "Col               4\n",
       "Major             2\n",
       "Mlle              2\n",
       "Ms                2\n",
       "Sir               1\n",
       "Jonkheer          1\n",
       "Capt              1\n",
       "Mme               1\n",
       "Dona              1\n",
       "Don               1\n",
       "Lady              1\n",
       "the Countess      1\n",
       "Name: title, dtype: int64"
      ]
     },
     "execution_count": 112,
     "metadata": {},
     "output_type": "execute_result"
    }
   ],
   "source": [
    "# Extracting titles from passenger name and assigning them to a new column\n",
    "name_split = titanic_df['name'].str.split(',', expand=True)[1] # splitting name in two based on the ',' and taking the second column which contains the title\n",
    "title = name_split.str.split('.', expand=True)[0] # splitting name in two based on the full stop and taking the first column that contains only the title\n",
    "title = title.str.strip() # removing the additional space at the start of the title\n",
    "titanic_df['title'] = title # adding title as a new column in the data frame\n",
    "titanic_df['title'].value_counts(dropna=False)"
   ]
  },
  {
   "cell_type": "code",
   "execution_count": 113,
   "metadata": {},
   "outputs": [],
   "source": [
    "# Calling that function and assigning results to new column in dataframe\n",
    "titanic_df['title_grouped'] = titanic_df['title'].apply(title_grouped)"
   ]
  },
  {
   "attachments": {},
   "cell_type": "markdown",
   "metadata": {},
   "source": [
    "### Applying additional functions to the titanic data set"
   ]
  },
  {
   "cell_type": "code",
   "execution_count": 114,
   "metadata": {},
   "outputs": [],
   "source": [
    "# Applying the function that notes whether they are a male / female / child\n",
    "titanic_df['person'] = titanic_df[['age', 'sex']].apply(male_female_child, axis=1)"
   ]
  },
  {
   "cell_type": "code",
   "execution_count": 115,
   "metadata": {},
   "outputs": [],
   "source": [
    "# Applying the function that notes whether they are travelling with a child\n",
    "titanic_df['with_child'] = titanic_df[['person', 'parch']].apply(adult_with_child, axis=1)"
   ]
  },
  {
   "cell_type": "code",
   "execution_count": 116,
   "metadata": {},
   "outputs": [],
   "source": [
    "# Creating a new column that sums together the number of family members they were travelling with\n",
    "titanic_df['family_members'] = titanic_df['sibsp'] + titanic_df['parch']\n",
    "\n",
    "# Calling the family_members function\n",
    "titanic_df['with_family'] = titanic_df['family_members'].apply(family_members)"
   ]
  },
  {
   "attachments": {},
   "cell_type": "markdown",
   "metadata": {},
   "source": [
    "### checking for any further missing values"
   ]
  },
  {
   "cell_type": "code",
   "execution_count": 117,
   "metadata": {},
   "outputs": [
    {
     "data": {
      "text/plain": [
       "passenger_id            0\n",
       "pclass                  0\n",
       "survived                0\n",
       "name                    0\n",
       "sex                     0\n",
       "age                   263\n",
       "sibsp                   0\n",
       "parch                   0\n",
       "ticket                  0\n",
       "fare                    1\n",
       "cabin                1014\n",
       "embarked                2\n",
       "boat                  823\n",
       "body                 1188\n",
       "home.dest             564\n",
       "age_updated             0\n",
       "embarked_updated        0\n",
       "fare_updated            0\n",
       "deck                    0\n",
       "pclass_updated          0\n",
       "home_dest_updated       0\n",
       "title                   0\n",
       "title_grouped           0\n",
       "person                  0\n",
       "with_child              0\n",
       "family_members          0\n",
       "with_family             0\n",
       "dtype: int64"
      ]
     },
     "execution_count": 117,
     "metadata": {},
     "output_type": "execute_result"
    }
   ],
   "source": [
    "# checking missing values\n",
    "titanic_df.isna().sum()"
   ]
  },
  {
   "cell_type": "code",
   "execution_count": 118,
   "metadata": {},
   "outputs": [
    {
     "data": {
      "text/plain": [
       "Index(['passenger_id', 'pclass', 'survived', 'name', 'sex', 'age', 'sibsp',\n",
       "       'parch', 'ticket', 'fare', 'cabin', 'embarked', 'boat', 'body',\n",
       "       'home.dest', 'age_updated', 'embarked_updated', 'fare_updated', 'deck',\n",
       "       'pclass_updated', 'home_dest_updated', 'title', 'title_grouped',\n",
       "       'person', 'with_child', 'family_members', 'with_family'],\n",
       "      dtype='object')"
      ]
     },
     "execution_count": 118,
     "metadata": {},
     "output_type": "execute_result"
    }
   ],
   "source": [
    "titanic_df.columns"
   ]
  },
  {
   "attachments": {},
   "cell_type": "markdown",
   "metadata": {},
   "source": [
    "### Saving to csv file"
   ]
  },
  {
   "cell_type": "code",
   "execution_count": 122,
   "metadata": {},
   "outputs": [],
   "source": [
    "# Save full data file to a csv\n",
    "titanic_df.to_csv('data_files/titanic_full_data.csv', index=False, mode='w')"
   ]
  },
  {
   "cell_type": "code",
   "execution_count": 123,
   "metadata": {},
   "outputs": [],
   "source": [
    "# Saving passenger information into a csv to load into sql\n",
    "\n",
    "# Creating a dataframe with just the passenger information fields\n",
    "titanic_passenger_info_df = titanic_df[['passenger_id', 'pclass_updated', 'name', 'sex', 'age_updated', 'sibsp', 'parch', 'ticket', 'fare_updated', 'cabin', 'embarked_updated', 'home_dest_updated', 'deck']].copy()\n",
    "titanic_passenger_info_df.head()\n",
    "\n",
    "# Save to a csv\n",
    "titanic_passenger_info_df.to_csv('data_files/titanic_passenger_info.csv', index=False, mode='w')"
   ]
  },
  {
   "cell_type": "code",
   "execution_count": 124,
   "metadata": {},
   "outputs": [],
   "source": [
    "# Saving passenger survival information into a csv to load into sql\n",
    "\n",
    "# Creating a dataframe with just the survival information fields\n",
    "titanic_survival_info_df = titanic_df[['passenger_id', 'survived', 'boat', 'body']].copy()\n",
    "titanic_survival_info_df.head()\n",
    "\n",
    "# Save to a csv\n",
    "titanic_survival_info_df.to_csv('data_files/titanic_survival_info.csv', index=False, mode='w')"
   ]
  }
 ],
 "metadata": {
  "kernelspec": {
   "display_name": "PythonData",
   "language": "python",
   "name": "python3"
  },
  "language_info": {
   "codemirror_mode": {
    "name": "ipython",
    "version": 3
   },
   "file_extension": ".py",
   "mimetype": "text/x-python",
   "name": "python",
   "nbconvert_exporter": "python",
   "pygments_lexer": "ipython3",
   "version": "3.7.7"
  },
  "orig_nbformat": 4
 },
 "nbformat": 4,
 "nbformat_minor": 2
}
