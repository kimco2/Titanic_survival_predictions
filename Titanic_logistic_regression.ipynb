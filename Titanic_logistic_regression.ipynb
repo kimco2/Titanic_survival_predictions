{
 "cells": [
  {
   "attachments": {},
   "cell_type": "markdown",
   "metadata": {},
   "source": [
    "# Logistic Regression"
   ]
  },
  {
   "cell_type": "code",
   "execution_count": 1,
   "metadata": {},
   "outputs": [],
   "source": [
    "import pandas as pd\n",
    "from pathlib import Path\n",
    "from sklearn.model_selection import train_test_split\n",
    "from sklearn.linear_model import LogisticRegression\n",
    "from sklearn.metrics import balanced_accuracy_score, confusion_matrix, classification_report\n",
    "from sklearn.preprocessing import StandardScaler\n",
    "from imblearn.over_sampling import RandomOverSampler\n",
    "from pprint import pprint\n",
    "from sqlalchemy import create_engine\n",
    "from sqlalchemy.ext.automap import automap_base\n",
    "from database_info import NAME, USER, PASSWORD, HOST, PORT"
   ]
  },
  {
   "cell_type": "code",
   "execution_count": 2,
   "metadata": {},
   "outputs": [],
   "source": [
    "# Connect to the sql database\n",
    "DATABASES = {\n",
    "    'production':{\n",
    "        'NAME': NAME,\n",
    "        'USER': USER,\n",
    "        'PASSWORD': PASSWORD,\n",
    "        'HOST': HOST,\n",
    "        'PORT': PORT,\n",
    "    },\n",
    "}\n",
    "\n",
    "# choose the database to use\n",
    "db = DATABASES['production']\n",
    "\n",
    "# construct an engine connection string\n",
    "engine_string = \"postgresql+psycopg2://{user}:{password}@{host}:{port}/{database}\".format(\n",
    "    user = db['USER'],\n",
    "    password = db['PASSWORD'],\n",
    "    host = db['HOST'],\n",
    "    port = db['PORT'],\n",
    "    database = db['NAME'],\n",
    ")\n",
    "\n",
    "# create sqlalchemy engine\n",
    "engine = create_engine(engine_string)\n",
    "conn = engine.connect()\n"
   ]
  },
  {
   "cell_type": "code",
   "execution_count": 3,
   "metadata": {},
   "outputs": [
    {
     "data": {
      "text/plain": [
       "['passenger_information', 'survival']"
      ]
     },
     "execution_count": 3,
     "metadata": {},
     "output_type": "execute_result"
    }
   ],
   "source": [
    "# Reflect Database into ORM classes\n",
    "Base = automap_base()\n",
    "Base.prepare(autoload_with=engine)\n",
    "Base.classes.keys()"
   ]
  },
  {
   "attachments": {},
   "cell_type": "markdown",
   "metadata": {},
   "source": [
    "# Model 1"
   ]
  },
  {
   "cell_type": "code",
   "execution_count": 4,
   "metadata": {},
   "outputs": [
    {
     "data": {
      "text/html": [
       "<div>\n",
       "<style scoped>\n",
       "    .dataframe tbody tr th:only-of-type {\n",
       "        vertical-align: middle;\n",
       "    }\n",
       "\n",
       "    .dataframe tbody tr th {\n",
       "        vertical-align: top;\n",
       "    }\n",
       "\n",
       "    .dataframe thead th {\n",
       "        text-align: right;\n",
       "    }\n",
       "</style>\n",
       "<table border=\"1\" class=\"dataframe\">\n",
       "  <thead>\n",
       "    <tr style=\"text-align: right;\">\n",
       "      <th></th>\n",
       "      <th>survived</th>\n",
       "      <th>sex</th>\n",
       "      <th>sibsp</th>\n",
       "      <th>parch</th>\n",
       "      <th>age_updated</th>\n",
       "      <th>embarked_updated</th>\n",
       "      <th>fare_updated</th>\n",
       "      <th>deck</th>\n",
       "      <th>pclass_updated</th>\n",
       "    </tr>\n",
       "  </thead>\n",
       "  <tbody>\n",
       "    <tr>\n",
       "      <th>0</th>\n",
       "      <td>1</td>\n",
       "      <td>female</td>\n",
       "      <td>0</td>\n",
       "      <td>0</td>\n",
       "      <td>29.0000</td>\n",
       "      <td>Southampton (UK)</td>\n",
       "      <td>211.3375</td>\n",
       "      <td>B</td>\n",
       "      <td>First class</td>\n",
       "    </tr>\n",
       "    <tr>\n",
       "      <th>1</th>\n",
       "      <td>1</td>\n",
       "      <td>male</td>\n",
       "      <td>1</td>\n",
       "      <td>2</td>\n",
       "      <td>0.9167</td>\n",
       "      <td>Southampton (UK)</td>\n",
       "      <td>151.5500</td>\n",
       "      <td>C</td>\n",
       "      <td>First class</td>\n",
       "    </tr>\n",
       "    <tr>\n",
       "      <th>2</th>\n",
       "      <td>0</td>\n",
       "      <td>female</td>\n",
       "      <td>1</td>\n",
       "      <td>2</td>\n",
       "      <td>2.0000</td>\n",
       "      <td>Southampton (UK)</td>\n",
       "      <td>151.5500</td>\n",
       "      <td>C</td>\n",
       "      <td>First class</td>\n",
       "    </tr>\n",
       "    <tr>\n",
       "      <th>3</th>\n",
       "      <td>0</td>\n",
       "      <td>male</td>\n",
       "      <td>1</td>\n",
       "      <td>2</td>\n",
       "      <td>30.0000</td>\n",
       "      <td>Southampton (UK)</td>\n",
       "      <td>151.5500</td>\n",
       "      <td>C</td>\n",
       "      <td>First class</td>\n",
       "    </tr>\n",
       "    <tr>\n",
       "      <th>4</th>\n",
       "      <td>0</td>\n",
       "      <td>female</td>\n",
       "      <td>1</td>\n",
       "      <td>2</td>\n",
       "      <td>25.0000</td>\n",
       "      <td>Southampton (UK)</td>\n",
       "      <td>151.5500</td>\n",
       "      <td>C</td>\n",
       "      <td>First class</td>\n",
       "    </tr>\n",
       "  </tbody>\n",
       "</table>\n",
       "</div>"
      ],
      "text/plain": [
       "   survived     sex  sibsp  parch  age_updated  embarked_updated  \\\n",
       "0         1  female      0      0      29.0000  Southampton (UK)   \n",
       "1         1    male      1      2       0.9167  Southampton (UK)   \n",
       "2         0  female      1      2       2.0000  Southampton (UK)   \n",
       "3         0    male      1      2      30.0000  Southampton (UK)   \n",
       "4         0  female      1      2      25.0000  Southampton (UK)   \n",
       "\n",
       "   fare_updated deck pclass_updated  \n",
       "0      211.3375    B    First class  \n",
       "1      151.5500    C    First class  \n",
       "2      151.5500    C    First class  \n",
       "3      151.5500    C    First class  \n",
       "4      151.5500    C    First class  "
      ]
     },
     "execution_count": 4,
     "metadata": {},
     "output_type": "execute_result"
    }
   ],
   "source": [
    "# Extracting relevant fields from sql\n",
    "titanic_one = pd.read_sql_query(\"\"\"\n",
    "SELECT s.survived,\n",
    "p.sex,\n",
    "p.sibsp,\n",
    "p.parch,\n",
    "p.age_updated,\n",
    "p.embarked_updated,\n",
    "p.fare_updated,\n",
    "p.deck,\n",
    "p.pclass_updated\n",
    "FROM passenger_information as p\n",
    "LEFT JOIN survival as s ON p.passenger_id=s.passenger_id\"\"\", conn)\n",
    "titanic_one.head()"
   ]
  },
  {
   "attachments": {},
   "cell_type": "markdown",
   "metadata": {},
   "source": [
    "### Prepare the data"
   ]
  },
  {
   "attachments": {},
   "cell_type": "markdown",
   "metadata": {},
   "source": [
    "<h7> Convert categorical data"
   ]
  },
  {
   "cell_type": "code",
   "execution_count": 27,
   "metadata": {},
   "outputs": [],
   "source": [
    "# Converting categorical using get_dummies and dropping the first column so the importance isn't inflated\n",
    "sex_dummies = pd.get_dummies(titanic_one['sex'], drop_first=True) \n",
    "embarked_dummies = pd.get_dummies(titanic_one['embarked_updated'], drop_first=True)\n",
    "deck_dummies = pd.get_dummies(titanic_one['deck'], drop_first=True)\n",
    "pclass_dummies = pd.get_dummies(titanic_one['pclass_updated'], drop_first=True)"
   ]
  },
  {
   "cell_type": "code",
   "execution_count": 28,
   "metadata": {},
   "outputs": [
    {
     "data": {
      "text/html": [
       "<div>\n",
       "<style scoped>\n",
       "    .dataframe tbody tr th:only-of-type {\n",
       "        vertical-align: middle;\n",
       "    }\n",
       "\n",
       "    .dataframe tbody tr th {\n",
       "        vertical-align: top;\n",
       "    }\n",
       "\n",
       "    .dataframe thead th {\n",
       "        text-align: right;\n",
       "    }\n",
       "</style>\n",
       "<table border=\"1\" class=\"dataframe\">\n",
       "  <thead>\n",
       "    <tr style=\"text-align: right;\">\n",
       "      <th></th>\n",
       "      <th>survived</th>\n",
       "      <th>sibsp</th>\n",
       "      <th>parch</th>\n",
       "      <th>age_updated</th>\n",
       "      <th>fare_updated</th>\n",
       "      <th>male</th>\n",
       "      <th>Queenstown (IE)</th>\n",
       "      <th>Southampton (UK)</th>\n",
       "      <th>B</th>\n",
       "      <th>C</th>\n",
       "      <th>D</th>\n",
       "      <th>E</th>\n",
       "      <th>F</th>\n",
       "      <th>G</th>\n",
       "      <th>T</th>\n",
       "      <th>Unknown</th>\n",
       "      <th>Second class</th>\n",
       "      <th>Third class</th>\n",
       "    </tr>\n",
       "  </thead>\n",
       "  <tbody>\n",
       "    <tr>\n",
       "      <th>0</th>\n",
       "      <td>1</td>\n",
       "      <td>0</td>\n",
       "      <td>0</td>\n",
       "      <td>29.0000</td>\n",
       "      <td>211.3375</td>\n",
       "      <td>0</td>\n",
       "      <td>0</td>\n",
       "      <td>1</td>\n",
       "      <td>1</td>\n",
       "      <td>0</td>\n",
       "      <td>0</td>\n",
       "      <td>0</td>\n",
       "      <td>0</td>\n",
       "      <td>0</td>\n",
       "      <td>0</td>\n",
       "      <td>0</td>\n",
       "      <td>0</td>\n",
       "      <td>0</td>\n",
       "    </tr>\n",
       "    <tr>\n",
       "      <th>1</th>\n",
       "      <td>1</td>\n",
       "      <td>1</td>\n",
       "      <td>2</td>\n",
       "      <td>0.9167</td>\n",
       "      <td>151.5500</td>\n",
       "      <td>1</td>\n",
       "      <td>0</td>\n",
       "      <td>1</td>\n",
       "      <td>0</td>\n",
       "      <td>1</td>\n",
       "      <td>0</td>\n",
       "      <td>0</td>\n",
       "      <td>0</td>\n",
       "      <td>0</td>\n",
       "      <td>0</td>\n",
       "      <td>0</td>\n",
       "      <td>0</td>\n",
       "      <td>0</td>\n",
       "    </tr>\n",
       "    <tr>\n",
       "      <th>2</th>\n",
       "      <td>0</td>\n",
       "      <td>1</td>\n",
       "      <td>2</td>\n",
       "      <td>2.0000</td>\n",
       "      <td>151.5500</td>\n",
       "      <td>0</td>\n",
       "      <td>0</td>\n",
       "      <td>1</td>\n",
       "      <td>0</td>\n",
       "      <td>1</td>\n",
       "      <td>0</td>\n",
       "      <td>0</td>\n",
       "      <td>0</td>\n",
       "      <td>0</td>\n",
       "      <td>0</td>\n",
       "      <td>0</td>\n",
       "      <td>0</td>\n",
       "      <td>0</td>\n",
       "    </tr>\n",
       "    <tr>\n",
       "      <th>3</th>\n",
       "      <td>0</td>\n",
       "      <td>1</td>\n",
       "      <td>2</td>\n",
       "      <td>30.0000</td>\n",
       "      <td>151.5500</td>\n",
       "      <td>1</td>\n",
       "      <td>0</td>\n",
       "      <td>1</td>\n",
       "      <td>0</td>\n",
       "      <td>1</td>\n",
       "      <td>0</td>\n",
       "      <td>0</td>\n",
       "      <td>0</td>\n",
       "      <td>0</td>\n",
       "      <td>0</td>\n",
       "      <td>0</td>\n",
       "      <td>0</td>\n",
       "      <td>0</td>\n",
       "    </tr>\n",
       "    <tr>\n",
       "      <th>4</th>\n",
       "      <td>0</td>\n",
       "      <td>1</td>\n",
       "      <td>2</td>\n",
       "      <td>25.0000</td>\n",
       "      <td>151.5500</td>\n",
       "      <td>0</td>\n",
       "      <td>0</td>\n",
       "      <td>1</td>\n",
       "      <td>0</td>\n",
       "      <td>1</td>\n",
       "      <td>0</td>\n",
       "      <td>0</td>\n",
       "      <td>0</td>\n",
       "      <td>0</td>\n",
       "      <td>0</td>\n",
       "      <td>0</td>\n",
       "      <td>0</td>\n",
       "      <td>0</td>\n",
       "    </tr>\n",
       "  </tbody>\n",
       "</table>\n",
       "</div>"
      ],
      "text/plain": [
       "   survived  sibsp  parch  age_updated  fare_updated  male  Queenstown (IE)  \\\n",
       "0         1      0      0      29.0000      211.3375     0                0   \n",
       "1         1      1      2       0.9167      151.5500     1                0   \n",
       "2         0      1      2       2.0000      151.5500     0                0   \n",
       "3         0      1      2      30.0000      151.5500     1                0   \n",
       "4         0      1      2      25.0000      151.5500     0                0   \n",
       "\n",
       "   Southampton (UK)  B  C  D  E  F  G  T  Unknown  Second class  Third class  \n",
       "0                 1  1  0  0  0  0  0  0        0             0            0  \n",
       "1                 1  0  1  0  0  0  0  0        0             0            0  \n",
       "2                 1  0  1  0  0  0  0  0        0             0            0  \n",
       "3                 1  0  1  0  0  0  0  0        0             0            0  \n",
       "4                 1  0  1  0  0  0  0  0        0             0            0  "
      ]
     },
     "execution_count": 28,
     "metadata": {},
     "output_type": "execute_result"
    }
   ],
   "source": [
    "# Concatenate the encoded dummies with the dataframe\n",
    "df_titanic_transformed = pd.concat([titanic_one,sex_dummies, embarked_dummies, deck_dummies,  pclass_dummies], axis=1)\n",
    "df_titanic_transformed = df_titanic_transformed.drop(['sex', 'embarked_updated', 'deck', 'pclass_updated'], axis=1) # dropping columns not required\n",
    "df_titanic_transformed.head()"
   ]
  },
  {
   "attachments": {},
   "cell_type": "markdown",
   "metadata": {},
   "source": [
    "### Separate the data into labels and features"
   ]
  },
  {
   "cell_type": "code",
   "execution_count": 29,
   "metadata": {},
   "outputs": [],
   "source": [
    "# Separate the features (X) from the target (y)\n",
    "y = df_titanic_transformed[\"survived\"]\n",
    "X = df_titanic_transformed.drop(columns='survived')"
   ]
  },
  {
   "cell_type": "code",
   "execution_count": 30,
   "metadata": {},
   "outputs": [
    {
     "data": {
      "text/plain": [
       "0    1\n",
       "1    1\n",
       "2    0\n",
       "3    0\n",
       "4    0\n",
       "Name: survived, dtype: int64"
      ]
     },
     "execution_count": 30,
     "metadata": {},
     "output_type": "execute_result"
    }
   ],
   "source": [
    "# Reivew the y variable series\n",
    "y.head()"
   ]
  },
  {
   "cell_type": "code",
   "execution_count": 31,
   "metadata": {},
   "outputs": [
    {
     "data": {
      "text/html": [
       "<div>\n",
       "<style scoped>\n",
       "    .dataframe tbody tr th:only-of-type {\n",
       "        vertical-align: middle;\n",
       "    }\n",
       "\n",
       "    .dataframe tbody tr th {\n",
       "        vertical-align: top;\n",
       "    }\n",
       "\n",
       "    .dataframe thead th {\n",
       "        text-align: right;\n",
       "    }\n",
       "</style>\n",
       "<table border=\"1\" class=\"dataframe\">\n",
       "  <thead>\n",
       "    <tr style=\"text-align: right;\">\n",
       "      <th></th>\n",
       "      <th>sibsp</th>\n",
       "      <th>parch</th>\n",
       "      <th>age_updated</th>\n",
       "      <th>fare_updated</th>\n",
       "      <th>male</th>\n",
       "      <th>Queenstown (IE)</th>\n",
       "      <th>Southampton (UK)</th>\n",
       "      <th>B</th>\n",
       "      <th>C</th>\n",
       "      <th>D</th>\n",
       "      <th>E</th>\n",
       "      <th>F</th>\n",
       "      <th>G</th>\n",
       "      <th>T</th>\n",
       "      <th>Unknown</th>\n",
       "      <th>Second class</th>\n",
       "      <th>Third class</th>\n",
       "    </tr>\n",
       "  </thead>\n",
       "  <tbody>\n",
       "    <tr>\n",
       "      <th>0</th>\n",
       "      <td>0</td>\n",
       "      <td>0</td>\n",
       "      <td>29.0000</td>\n",
       "      <td>211.3375</td>\n",
       "      <td>0</td>\n",
       "      <td>0</td>\n",
       "      <td>1</td>\n",
       "      <td>1</td>\n",
       "      <td>0</td>\n",
       "      <td>0</td>\n",
       "      <td>0</td>\n",
       "      <td>0</td>\n",
       "      <td>0</td>\n",
       "      <td>0</td>\n",
       "      <td>0</td>\n",
       "      <td>0</td>\n",
       "      <td>0</td>\n",
       "    </tr>\n",
       "    <tr>\n",
       "      <th>1</th>\n",
       "      <td>1</td>\n",
       "      <td>2</td>\n",
       "      <td>0.9167</td>\n",
       "      <td>151.5500</td>\n",
       "      <td>1</td>\n",
       "      <td>0</td>\n",
       "      <td>1</td>\n",
       "      <td>0</td>\n",
       "      <td>1</td>\n",
       "      <td>0</td>\n",
       "      <td>0</td>\n",
       "      <td>0</td>\n",
       "      <td>0</td>\n",
       "      <td>0</td>\n",
       "      <td>0</td>\n",
       "      <td>0</td>\n",
       "      <td>0</td>\n",
       "    </tr>\n",
       "    <tr>\n",
       "      <th>2</th>\n",
       "      <td>1</td>\n",
       "      <td>2</td>\n",
       "      <td>2.0000</td>\n",
       "      <td>151.5500</td>\n",
       "      <td>0</td>\n",
       "      <td>0</td>\n",
       "      <td>1</td>\n",
       "      <td>0</td>\n",
       "      <td>1</td>\n",
       "      <td>0</td>\n",
       "      <td>0</td>\n",
       "      <td>0</td>\n",
       "      <td>0</td>\n",
       "      <td>0</td>\n",
       "      <td>0</td>\n",
       "      <td>0</td>\n",
       "      <td>0</td>\n",
       "    </tr>\n",
       "    <tr>\n",
       "      <th>3</th>\n",
       "      <td>1</td>\n",
       "      <td>2</td>\n",
       "      <td>30.0000</td>\n",
       "      <td>151.5500</td>\n",
       "      <td>1</td>\n",
       "      <td>0</td>\n",
       "      <td>1</td>\n",
       "      <td>0</td>\n",
       "      <td>1</td>\n",
       "      <td>0</td>\n",
       "      <td>0</td>\n",
       "      <td>0</td>\n",
       "      <td>0</td>\n",
       "      <td>0</td>\n",
       "      <td>0</td>\n",
       "      <td>0</td>\n",
       "      <td>0</td>\n",
       "    </tr>\n",
       "    <tr>\n",
       "      <th>4</th>\n",
       "      <td>1</td>\n",
       "      <td>2</td>\n",
       "      <td>25.0000</td>\n",
       "      <td>151.5500</td>\n",
       "      <td>0</td>\n",
       "      <td>0</td>\n",
       "      <td>1</td>\n",
       "      <td>0</td>\n",
       "      <td>1</td>\n",
       "      <td>0</td>\n",
       "      <td>0</td>\n",
       "      <td>0</td>\n",
       "      <td>0</td>\n",
       "      <td>0</td>\n",
       "      <td>0</td>\n",
       "      <td>0</td>\n",
       "      <td>0</td>\n",
       "    </tr>\n",
       "  </tbody>\n",
       "</table>\n",
       "</div>"
      ],
      "text/plain": [
       "   sibsp  parch  age_updated  fare_updated  male  Queenstown (IE)  \\\n",
       "0      0      0      29.0000      211.3375     0                0   \n",
       "1      1      2       0.9167      151.5500     1                0   \n",
       "2      1      2       2.0000      151.5500     0                0   \n",
       "3      1      2      30.0000      151.5500     1                0   \n",
       "4      1      2      25.0000      151.5500     0                0   \n",
       "\n",
       "   Southampton (UK)  B  C  D  E  F  G  T  Unknown  Second class  Third class  \n",
       "0                 1  1  0  0  0  0  0  0        0             0            0  \n",
       "1                 1  0  1  0  0  0  0  0        0             0            0  \n",
       "2                 1  0  1  0  0  0  0  0        0             0            0  \n",
       "3                 1  0  1  0  0  0  0  0        0             0            0  \n",
       "4                 1  0  1  0  0  0  0  0        0             0            0  "
      ]
     },
     "execution_count": 31,
     "metadata": {},
     "output_type": "execute_result"
    }
   ],
   "source": [
    "# Review the X variable dataframe\n",
    "X.head()"
   ]
  },
  {
   "cell_type": "code",
   "execution_count": 32,
   "metadata": {},
   "outputs": [
    {
     "data": {
      "text/plain": [
       "0    809\n",
       "1    500\n",
       "Name: survived, dtype: int64"
      ]
     },
     "execution_count": 32,
     "metadata": {},
     "output_type": "execute_result"
    }
   ],
   "source": [
    "# Check the balance of our target values\n",
    "y.value_counts()"
   ]
  },
  {
   "attachments": {},
   "cell_type": "markdown",
   "metadata": {},
   "source": [
    "### Split data into training and testing datasets using train_test_split"
   ]
  },
  {
   "cell_type": "code",
   "execution_count": 33,
   "metadata": {},
   "outputs": [
    {
     "data": {
      "text/plain": [
       "(981, 17)"
      ]
     },
     "execution_count": 33,
     "metadata": {},
     "output_type": "execute_result"
    }
   ],
   "source": [
    "# Split data into training and testing\n",
    "X_train, X_test, y_train, y_test = train_test_split(X, \n",
    "                                                    y, \n",
    "                                                    random_state=1, \n",
    "                                                    stratify=y)\n",
    "X_train.shape"
   ]
  },
  {
   "cell_type": "code",
   "execution_count": 34,
   "metadata": {},
   "outputs": [
    {
     "data": {
      "text/plain": [
       "0    203\n",
       "1    125\n",
       "Name: survived, dtype: int64"
      ]
     },
     "execution_count": 34,
     "metadata": {},
     "output_type": "execute_result"
    }
   ],
   "source": [
    "y_test.value_counts()"
   ]
  },
  {
   "attachments": {},
   "cell_type": "markdown",
   "metadata": {},
   "source": [
    "### Logisitic regression model"
   ]
  },
  {
   "cell_type": "code",
   "execution_count": 35,
   "metadata": {},
   "outputs": [
    {
     "data": {
      "text/plain": [
       "LogisticRegression(max_iter=600, random_state=1)"
      ]
     },
     "execution_count": 35,
     "metadata": {},
     "output_type": "execute_result"
    }
   ],
   "source": [
    "# Create a logistic regression model\n",
    "classifier = LogisticRegression(solver='lbfgs', max_iter=600, random_state=1)\n",
    "\n",
    "# Fit and train the model using the training data\n",
    "classifier.fit(X_train, y_train)"
   ]
  },
  {
   "cell_type": "code",
   "execution_count": 36,
   "metadata": {},
   "outputs": [],
   "source": [
    "# Make predictions\n",
    "predictions = classifier.predict(X_test)\n",
    "lr1_predictions_actuals_df = pd.DataFrame({\"Prediction\": predictions, \"Actual\": y_test})"
   ]
  },
  {
   "attachments": {},
   "cell_type": "markdown",
   "metadata": {},
   "source": [
    "### Evaluate the models performance"
   ]
  },
  {
   "cell_type": "code",
   "execution_count": 37,
   "metadata": {},
   "outputs": [
    {
     "name": "stdout",
     "output_type": "stream",
     "text": [
      "The balanced accuracy score of the model is 0.7707389162561576\n",
      "\n",
      "\n"
     ]
    },
    {
     "data": {
      "text/html": [
       "<div>\n",
       "<style scoped>\n",
       "    .dataframe tbody tr th:only-of-type {\n",
       "        vertical-align: middle;\n",
       "    }\n",
       "\n",
       "    .dataframe tbody tr th {\n",
       "        vertical-align: top;\n",
       "    }\n",
       "\n",
       "    .dataframe thead th {\n",
       "        text-align: right;\n",
       "    }\n",
       "</style>\n",
       "<table border=\"1\" class=\"dataframe\">\n",
       "  <thead>\n",
       "    <tr style=\"text-align: right;\">\n",
       "      <th></th>\n",
       "      <th>Predicted - Did not survive</th>\n",
       "      <th>Predicted - Survived</th>\n",
       "    </tr>\n",
       "  </thead>\n",
       "  <tbody>\n",
       "    <tr>\n",
       "      <th>Actual - Did not survive</th>\n",
       "      <td>183</td>\n",
       "      <td>20</td>\n",
       "    </tr>\n",
       "    <tr>\n",
       "      <th>Actual - Survived</th>\n",
       "      <td>45</td>\n",
       "      <td>80</td>\n",
       "    </tr>\n",
       "  </tbody>\n",
       "</table>\n",
       "</div>"
      ],
      "text/plain": [
       "                          Predicted - Did not survive  Predicted - Survived\n",
       "Actual - Did not survive                          183                    20\n",
       "Actual - Survived                                  45                    80"
      ]
     },
     "metadata": {},
     "output_type": "display_data"
    },
    {
     "name": "stdout",
     "output_type": "stream",
     "text": [
      "\n",
      "\n",
      "                 precision    recall  f1-score   support\n",
      "\n",
      "Did not survive       0.80      0.90      0.85       203\n",
      "       Survived       0.80      0.64      0.71       125\n",
      "\n",
      "       accuracy                           0.80       328\n",
      "      macro avg       0.80      0.77      0.78       328\n",
      "   weighted avg       0.80      0.80      0.80       328\n",
      "\n"
     ]
    }
   ],
   "source": [
    "# Confusion matrix\n",
    "cm = confusion_matrix(y_test, predictions)\n",
    "cm_df = pd.DataFrame(\n",
    "    cm, index=['Actual - Did not survive', 'Actual - Survived'], columns=['Predicted - Did not survive', 'Predicted - Survived']\n",
    ")\n",
    "\n",
    "# Classification report\n",
    "target_names = [\"Did not survive\", \"Survived\"]\n",
    "\n",
    "# Print the evaluation\n",
    "print(f\"The balanced accuracy score of the model is {balanced_accuracy_score(y_test, predictions)}\")\n",
    "print(f\"\")\n",
    "print(f\"\")\n",
    "display(cm_df)\n",
    "print(f\"\")\n",
    "print(f\"\")\n",
    "print(classification_report(y_test, predictions, target_names=target_names))"
   ]
  },
  {
   "attachments": {},
   "cell_type": "markdown",
   "metadata": {},
   "source": [
    "# Model 1 - optimisation\n",
    "<h7> Applying random over sampling due to the imbalanced data and re-running model"
   ]
  },
  {
   "cell_type": "code",
   "execution_count": 38,
   "metadata": {},
   "outputs": [
    {
     "data": {
      "text/plain": [
       "1    606\n",
       "0    606\n",
       "Name: survived, dtype: int64"
      ]
     },
     "execution_count": 38,
     "metadata": {},
     "output_type": "execute_result"
    }
   ],
   "source": [
    "# Instantiate the random oversampler model\n",
    "ros = RandomOverSampler(random_state=1)\n",
    "\n",
    "# Fit the original training data to the random_oversampler model\n",
    "X_train_ros, y_train_ros= ros.fit_resample(X_train, y_train)\n",
    "\n",
    "# Count the distinct values of the resampled labels data\n",
    "y_train_ros.value_counts()"
   ]
  },
  {
   "attachments": {},
   "cell_type": "markdown",
   "metadata": {},
   "source": [
    "### Create logistic regression model with the original data"
   ]
  },
  {
   "cell_type": "code",
   "execution_count": 39,
   "metadata": {},
   "outputs": [],
   "source": [
    "# Create a logistic regression model\n",
    "ros_model = LogisticRegression(solver='lbfgs', max_iter=600, random_state=1)\n",
    "\n",
    "# Fit and train the model using the training data\n",
    "ros_model.fit(X_train_ros, y_train_ros)\n",
    "\n",
    "# Make predictions\n",
    "ros_predictions = ros_model.predict(X_test)"
   ]
  },
  {
   "attachments": {},
   "cell_type": "markdown",
   "metadata": {},
   "source": [
    "### Evaluate the models performance"
   ]
  },
  {
   "cell_type": "code",
   "execution_count": 40,
   "metadata": {},
   "outputs": [
    {
     "name": "stdout",
     "output_type": "stream",
     "text": [
      "The balanced accuracy score of the model is 0.7796453201970444\n",
      "\n",
      "\n"
     ]
    },
    {
     "data": {
      "text/html": [
       "<div>\n",
       "<style scoped>\n",
       "    .dataframe tbody tr th:only-of-type {\n",
       "        vertical-align: middle;\n",
       "    }\n",
       "\n",
       "    .dataframe tbody tr th {\n",
       "        vertical-align: top;\n",
       "    }\n",
       "\n",
       "    .dataframe thead th {\n",
       "        text-align: right;\n",
       "    }\n",
       "</style>\n",
       "<table border=\"1\" class=\"dataframe\">\n",
       "  <thead>\n",
       "    <tr style=\"text-align: right;\">\n",
       "      <th></th>\n",
       "      <th>Predicted - Did not survive</th>\n",
       "      <th>Predicted - Survived</th>\n",
       "    </tr>\n",
       "  </thead>\n",
       "  <tbody>\n",
       "    <tr>\n",
       "      <th>Actual - Did not survive</th>\n",
       "      <td>172</td>\n",
       "      <td>31</td>\n",
       "    </tr>\n",
       "    <tr>\n",
       "      <th>Actual - Survived</th>\n",
       "      <td>36</td>\n",
       "      <td>89</td>\n",
       "    </tr>\n",
       "  </tbody>\n",
       "</table>\n",
       "</div>"
      ],
      "text/plain": [
       "                          Predicted - Did not survive  Predicted - Survived\n",
       "Actual - Did not survive                          172                    31\n",
       "Actual - Survived                                  36                    89"
      ]
     },
     "metadata": {},
     "output_type": "display_data"
    },
    {
     "name": "stdout",
     "output_type": "stream",
     "text": [
      "\n",
      "\n",
      "                 precision    recall  f1-score   support\n",
      "\n",
      "Did not survive       0.83      0.85      0.84       203\n",
      "       Survived       0.74      0.71      0.73       125\n",
      "\n",
      "       accuracy                           0.80       328\n",
      "      macro avg       0.78      0.78      0.78       328\n",
      "   weighted avg       0.79      0.80      0.79       328\n",
      "\n"
     ]
    }
   ],
   "source": [
    "# Confusion matrix\n",
    "cm = confusion_matrix(y_test, ros_predictions)\n",
    "cm_df = pd.DataFrame(\n",
    "    cm, index=['Actual - Did not survive', 'Actual - Survived'], columns=['Predicted - Did not survive', 'Predicted - Survived']\n",
    ")\n",
    "\n",
    "# Classification report\n",
    "target_names = [\"Did not survive\", \"Survived\"]\n",
    "\n",
    "# Print the evaluation\n",
    "print(f\"The balanced accuracy score of the model is {balanced_accuracy_score(y_test, ros_predictions)}\")\n",
    "print(f\"\")\n",
    "print(f\"\")\n",
    "display(cm_df)\n",
    "print(f\"\")\n",
    "print(f\"\")\n",
    "print(classification_report(y_test, ros_predictions, target_names=target_names))"
   ]
  },
  {
   "attachments": {},
   "cell_type": "markdown",
   "metadata": {},
   "source": [
    "# Model two \n",
    "<h7> Optimisation made - added together the number of family members passenger were travelling with and added it as a new field"
   ]
  },
  {
   "attachments": {},
   "cell_type": "markdown",
   "metadata": {},
   "source": [
    "### Preparing the data"
   ]
  },
  {
   "cell_type": "code",
   "execution_count": 5,
   "metadata": {},
   "outputs": [
    {
     "data": {
      "text/html": [
       "<div>\n",
       "<style scoped>\n",
       "    .dataframe tbody tr th:only-of-type {\n",
       "        vertical-align: middle;\n",
       "    }\n",
       "\n",
       "    .dataframe tbody tr th {\n",
       "        vertical-align: top;\n",
       "    }\n",
       "\n",
       "    .dataframe thead th {\n",
       "        text-align: right;\n",
       "    }\n",
       "</style>\n",
       "<table border=\"1\" class=\"dataframe\">\n",
       "  <thead>\n",
       "    <tr style=\"text-align: right;\">\n",
       "      <th></th>\n",
       "      <th>survived</th>\n",
       "      <th>sex</th>\n",
       "      <th>sibsp</th>\n",
       "      <th>parch</th>\n",
       "      <th>age_updated</th>\n",
       "      <th>embarked_updated</th>\n",
       "      <th>fare_updated</th>\n",
       "      <th>deck</th>\n",
       "      <th>pclass_updated</th>\n",
       "    </tr>\n",
       "  </thead>\n",
       "  <tbody>\n",
       "    <tr>\n",
       "      <th>0</th>\n",
       "      <td>1</td>\n",
       "      <td>female</td>\n",
       "      <td>0</td>\n",
       "      <td>0</td>\n",
       "      <td>29.0000</td>\n",
       "      <td>Southampton (UK)</td>\n",
       "      <td>211.3375</td>\n",
       "      <td>B</td>\n",
       "      <td>First class</td>\n",
       "    </tr>\n",
       "    <tr>\n",
       "      <th>1</th>\n",
       "      <td>1</td>\n",
       "      <td>male</td>\n",
       "      <td>1</td>\n",
       "      <td>2</td>\n",
       "      <td>0.9167</td>\n",
       "      <td>Southampton (UK)</td>\n",
       "      <td>151.5500</td>\n",
       "      <td>C</td>\n",
       "      <td>First class</td>\n",
       "    </tr>\n",
       "    <tr>\n",
       "      <th>2</th>\n",
       "      <td>0</td>\n",
       "      <td>female</td>\n",
       "      <td>1</td>\n",
       "      <td>2</td>\n",
       "      <td>2.0000</td>\n",
       "      <td>Southampton (UK)</td>\n",
       "      <td>151.5500</td>\n",
       "      <td>C</td>\n",
       "      <td>First class</td>\n",
       "    </tr>\n",
       "    <tr>\n",
       "      <th>3</th>\n",
       "      <td>0</td>\n",
       "      <td>male</td>\n",
       "      <td>1</td>\n",
       "      <td>2</td>\n",
       "      <td>30.0000</td>\n",
       "      <td>Southampton (UK)</td>\n",
       "      <td>151.5500</td>\n",
       "      <td>C</td>\n",
       "      <td>First class</td>\n",
       "    </tr>\n",
       "    <tr>\n",
       "      <th>4</th>\n",
       "      <td>0</td>\n",
       "      <td>female</td>\n",
       "      <td>1</td>\n",
       "      <td>2</td>\n",
       "      <td>25.0000</td>\n",
       "      <td>Southampton (UK)</td>\n",
       "      <td>151.5500</td>\n",
       "      <td>C</td>\n",
       "      <td>First class</td>\n",
       "    </tr>\n",
       "  </tbody>\n",
       "</table>\n",
       "</div>"
      ],
      "text/plain": [
       "   survived     sex  sibsp  parch  age_updated  embarked_updated  \\\n",
       "0         1  female      0      0      29.0000  Southampton (UK)   \n",
       "1         1    male      1      2       0.9167  Southampton (UK)   \n",
       "2         0  female      1      2       2.0000  Southampton (UK)   \n",
       "3         0    male      1      2      30.0000  Southampton (UK)   \n",
       "4         0  female      1      2      25.0000  Southampton (UK)   \n",
       "\n",
       "   fare_updated deck pclass_updated  \n",
       "0      211.3375    B    First class  \n",
       "1      151.5500    C    First class  \n",
       "2      151.5500    C    First class  \n",
       "3      151.5500    C    First class  \n",
       "4      151.5500    C    First class  "
      ]
     },
     "execution_count": 5,
     "metadata": {},
     "output_type": "execute_result"
    }
   ],
   "source": [
    "# Extracting relevant fields from sql\n",
    "titanic_two = pd.read_sql_query(\"\"\"\n",
    "SELECT s.survived,\n",
    "    p.sex,\n",
    "    p.sibsp,\n",
    "    p.parch,\n",
    "    p.age_updated,\n",
    "    p.embarked_updated,\n",
    "    p.fare_updated,\n",
    "    p.deck,\n",
    "    p.pclass_updated\n",
    "FROM passenger_information as p\n",
    "LEFT JOIN survival as s \n",
    "    ON p.passenger_id=s.passenger_id\"\"\", conn)\n",
    "titanic_two.head()"
   ]
  },
  {
   "attachments": {},
   "cell_type": "markdown",
   "metadata": {},
   "source": [
    "<h7> Adding field that calculates the number of family members they were travelling with"
   ]
  },
  {
   "cell_type": "code",
   "execution_count": 42,
   "metadata": {},
   "outputs": [
    {
     "data": {
      "text/html": [
       "<div>\n",
       "<style scoped>\n",
       "    .dataframe tbody tr th:only-of-type {\n",
       "        vertical-align: middle;\n",
       "    }\n",
       "\n",
       "    .dataframe tbody tr th {\n",
       "        vertical-align: top;\n",
       "    }\n",
       "\n",
       "    .dataframe thead th {\n",
       "        text-align: right;\n",
       "    }\n",
       "</style>\n",
       "<table border=\"1\" class=\"dataframe\">\n",
       "  <thead>\n",
       "    <tr style=\"text-align: right;\">\n",
       "      <th></th>\n",
       "      <th>survived</th>\n",
       "      <th>sex</th>\n",
       "      <th>age_updated</th>\n",
       "      <th>embarked_updated</th>\n",
       "      <th>fare_updated</th>\n",
       "      <th>deck</th>\n",
       "      <th>pclass_updated</th>\n",
       "      <th>family_members</th>\n",
       "    </tr>\n",
       "  </thead>\n",
       "  <tbody>\n",
       "    <tr>\n",
       "      <th>0</th>\n",
       "      <td>1</td>\n",
       "      <td>female</td>\n",
       "      <td>29.0000</td>\n",
       "      <td>Southampton (UK)</td>\n",
       "      <td>211.3375</td>\n",
       "      <td>B</td>\n",
       "      <td>First class</td>\n",
       "      <td>0</td>\n",
       "    </tr>\n",
       "    <tr>\n",
       "      <th>1</th>\n",
       "      <td>1</td>\n",
       "      <td>male</td>\n",
       "      <td>0.9167</td>\n",
       "      <td>Southampton (UK)</td>\n",
       "      <td>151.5500</td>\n",
       "      <td>C</td>\n",
       "      <td>First class</td>\n",
       "      <td>3</td>\n",
       "    </tr>\n",
       "    <tr>\n",
       "      <th>2</th>\n",
       "      <td>0</td>\n",
       "      <td>female</td>\n",
       "      <td>2.0000</td>\n",
       "      <td>Southampton (UK)</td>\n",
       "      <td>151.5500</td>\n",
       "      <td>C</td>\n",
       "      <td>First class</td>\n",
       "      <td>3</td>\n",
       "    </tr>\n",
       "    <tr>\n",
       "      <th>3</th>\n",
       "      <td>0</td>\n",
       "      <td>male</td>\n",
       "      <td>30.0000</td>\n",
       "      <td>Southampton (UK)</td>\n",
       "      <td>151.5500</td>\n",
       "      <td>C</td>\n",
       "      <td>First class</td>\n",
       "      <td>3</td>\n",
       "    </tr>\n",
       "    <tr>\n",
       "      <th>4</th>\n",
       "      <td>0</td>\n",
       "      <td>female</td>\n",
       "      <td>25.0000</td>\n",
       "      <td>Southampton (UK)</td>\n",
       "      <td>151.5500</td>\n",
       "      <td>C</td>\n",
       "      <td>First class</td>\n",
       "      <td>3</td>\n",
       "    </tr>\n",
       "  </tbody>\n",
       "</table>\n",
       "</div>"
      ],
      "text/plain": [
       "   survived     sex  age_updated  embarked_updated  fare_updated deck  \\\n",
       "0         1  female      29.0000  Southampton (UK)      211.3375    B   \n",
       "1         1    male       0.9167  Southampton (UK)      151.5500    C   \n",
       "2         0  female       2.0000  Southampton (UK)      151.5500    C   \n",
       "3         0    male      30.0000  Southampton (UK)      151.5500    C   \n",
       "4         0  female      25.0000  Southampton (UK)      151.5500    C   \n",
       "\n",
       "  pclass_updated  family_members  \n",
       "0    First class               0  \n",
       "1    First class               3  \n",
       "2    First class               3  \n",
       "3    First class               3  \n",
       "4    First class               3  "
      ]
     },
     "execution_count": 42,
     "metadata": {},
     "output_type": "execute_result"
    }
   ],
   "source": [
    "# summing the number of family members\n",
    "titanic_two['family_members'] = titanic_two['sibsp'] + titanic_two['parch']\n",
    "\n",
    "# Dropping sibsp and parch columns as they are included in the new column\n",
    "titanic_two = titanic_two.drop(['sibsp', 'parch'], axis=1) \n",
    "\n",
    "titanic_two.head()"
   ]
  },
  {
   "attachments": {},
   "cell_type": "markdown",
   "metadata": {},
   "source": [
    "<h7> Convert categorical data"
   ]
  },
  {
   "cell_type": "code",
   "execution_count": 43,
   "metadata": {},
   "outputs": [],
   "source": [
    "# Converting categorical using get_dummies and dropping the first column so the importance isn't inflated\n",
    "sex_dummies = pd.get_dummies(titanic_two['sex'], drop_first=True) \n",
    "embarked_dummies = pd.get_dummies(titanic_two['embarked_updated'], drop_first=True)\n",
    "deck_dummies = pd.get_dummies(titanic_two['deck'], drop_first=True)\n",
    "pclass_dummies = pd.get_dummies(titanic_two['pclass_updated'], drop_first=True)"
   ]
  },
  {
   "cell_type": "code",
   "execution_count": 44,
   "metadata": {},
   "outputs": [
    {
     "data": {
      "text/html": [
       "<div>\n",
       "<style scoped>\n",
       "    .dataframe tbody tr th:only-of-type {\n",
       "        vertical-align: middle;\n",
       "    }\n",
       "\n",
       "    .dataframe tbody tr th {\n",
       "        vertical-align: top;\n",
       "    }\n",
       "\n",
       "    .dataframe thead th {\n",
       "        text-align: right;\n",
       "    }\n",
       "</style>\n",
       "<table border=\"1\" class=\"dataframe\">\n",
       "  <thead>\n",
       "    <tr style=\"text-align: right;\">\n",
       "      <th></th>\n",
       "      <th>survived</th>\n",
       "      <th>age_updated</th>\n",
       "      <th>fare_updated</th>\n",
       "      <th>family_members</th>\n",
       "      <th>male</th>\n",
       "      <th>Queenstown (IE)</th>\n",
       "      <th>Southampton (UK)</th>\n",
       "      <th>B</th>\n",
       "      <th>C</th>\n",
       "      <th>D</th>\n",
       "      <th>E</th>\n",
       "      <th>F</th>\n",
       "      <th>G</th>\n",
       "      <th>T</th>\n",
       "      <th>Unknown</th>\n",
       "      <th>Second class</th>\n",
       "      <th>Third class</th>\n",
       "    </tr>\n",
       "  </thead>\n",
       "  <tbody>\n",
       "    <tr>\n",
       "      <th>0</th>\n",
       "      <td>1</td>\n",
       "      <td>29.0000</td>\n",
       "      <td>211.3375</td>\n",
       "      <td>0</td>\n",
       "      <td>0</td>\n",
       "      <td>0</td>\n",
       "      <td>1</td>\n",
       "      <td>1</td>\n",
       "      <td>0</td>\n",
       "      <td>0</td>\n",
       "      <td>0</td>\n",
       "      <td>0</td>\n",
       "      <td>0</td>\n",
       "      <td>0</td>\n",
       "      <td>0</td>\n",
       "      <td>0</td>\n",
       "      <td>0</td>\n",
       "    </tr>\n",
       "    <tr>\n",
       "      <th>1</th>\n",
       "      <td>1</td>\n",
       "      <td>0.9167</td>\n",
       "      <td>151.5500</td>\n",
       "      <td>3</td>\n",
       "      <td>1</td>\n",
       "      <td>0</td>\n",
       "      <td>1</td>\n",
       "      <td>0</td>\n",
       "      <td>1</td>\n",
       "      <td>0</td>\n",
       "      <td>0</td>\n",
       "      <td>0</td>\n",
       "      <td>0</td>\n",
       "      <td>0</td>\n",
       "      <td>0</td>\n",
       "      <td>0</td>\n",
       "      <td>0</td>\n",
       "    </tr>\n",
       "    <tr>\n",
       "      <th>2</th>\n",
       "      <td>0</td>\n",
       "      <td>2.0000</td>\n",
       "      <td>151.5500</td>\n",
       "      <td>3</td>\n",
       "      <td>0</td>\n",
       "      <td>0</td>\n",
       "      <td>1</td>\n",
       "      <td>0</td>\n",
       "      <td>1</td>\n",
       "      <td>0</td>\n",
       "      <td>0</td>\n",
       "      <td>0</td>\n",
       "      <td>0</td>\n",
       "      <td>0</td>\n",
       "      <td>0</td>\n",
       "      <td>0</td>\n",
       "      <td>0</td>\n",
       "    </tr>\n",
       "    <tr>\n",
       "      <th>3</th>\n",
       "      <td>0</td>\n",
       "      <td>30.0000</td>\n",
       "      <td>151.5500</td>\n",
       "      <td>3</td>\n",
       "      <td>1</td>\n",
       "      <td>0</td>\n",
       "      <td>1</td>\n",
       "      <td>0</td>\n",
       "      <td>1</td>\n",
       "      <td>0</td>\n",
       "      <td>0</td>\n",
       "      <td>0</td>\n",
       "      <td>0</td>\n",
       "      <td>0</td>\n",
       "      <td>0</td>\n",
       "      <td>0</td>\n",
       "      <td>0</td>\n",
       "    </tr>\n",
       "    <tr>\n",
       "      <th>4</th>\n",
       "      <td>0</td>\n",
       "      <td>25.0000</td>\n",
       "      <td>151.5500</td>\n",
       "      <td>3</td>\n",
       "      <td>0</td>\n",
       "      <td>0</td>\n",
       "      <td>1</td>\n",
       "      <td>0</td>\n",
       "      <td>1</td>\n",
       "      <td>0</td>\n",
       "      <td>0</td>\n",
       "      <td>0</td>\n",
       "      <td>0</td>\n",
       "      <td>0</td>\n",
       "      <td>0</td>\n",
       "      <td>0</td>\n",
       "      <td>0</td>\n",
       "    </tr>\n",
       "  </tbody>\n",
       "</table>\n",
       "</div>"
      ],
      "text/plain": [
       "   survived  age_updated  fare_updated  family_members  male  Queenstown (IE)  \\\n",
       "0         1      29.0000      211.3375               0     0                0   \n",
       "1         1       0.9167      151.5500               3     1                0   \n",
       "2         0       2.0000      151.5500               3     0                0   \n",
       "3         0      30.0000      151.5500               3     1                0   \n",
       "4         0      25.0000      151.5500               3     0                0   \n",
       "\n",
       "   Southampton (UK)  B  C  D  E  F  G  T  Unknown  Second class  Third class  \n",
       "0                 1  1  0  0  0  0  0  0        0             0            0  \n",
       "1                 1  0  1  0  0  0  0  0        0             0            0  \n",
       "2                 1  0  1  0  0  0  0  0        0             0            0  \n",
       "3                 1  0  1  0  0  0  0  0        0             0            0  \n",
       "4                 1  0  1  0  0  0  0  0        0             0            0  "
      ]
     },
     "execution_count": 44,
     "metadata": {},
     "output_type": "execute_result"
    }
   ],
   "source": [
    "# Concatenate the encoded dummies with the dataframe\n",
    "df_titanic_transformed = pd.concat([titanic_two, sex_dummies, embarked_dummies, deck_dummies, pclass_dummies], axis=1)\n",
    "df_titanic_transformed = df_titanic_transformed.drop(['sex', 'embarked_updated', 'deck', 'pclass_updated'], axis=1) # dropping columns not required\n",
    "df_titanic_transformed.head()"
   ]
  },
  {
   "attachments": {},
   "cell_type": "markdown",
   "metadata": {},
   "source": [
    "### Separate the data into labels and features"
   ]
  },
  {
   "cell_type": "code",
   "execution_count": 45,
   "metadata": {},
   "outputs": [],
   "source": [
    "# Separate the features (X) from the target (y)\n",
    "y = df_titanic_transformed[\"survived\"]\n",
    "X = df_titanic_transformed.drop(columns='survived')"
   ]
  },
  {
   "cell_type": "code",
   "execution_count": 46,
   "metadata": {},
   "outputs": [
    {
     "data": {
      "text/plain": [
       "0    1\n",
       "1    1\n",
       "2    0\n",
       "3    0\n",
       "4    0\n",
       "Name: survived, dtype: int64"
      ]
     },
     "execution_count": 46,
     "metadata": {},
     "output_type": "execute_result"
    }
   ],
   "source": [
    "# Reivew the y variable series\n",
    "y.head()"
   ]
  },
  {
   "cell_type": "code",
   "execution_count": 47,
   "metadata": {},
   "outputs": [
    {
     "data": {
      "text/html": [
       "<div>\n",
       "<style scoped>\n",
       "    .dataframe tbody tr th:only-of-type {\n",
       "        vertical-align: middle;\n",
       "    }\n",
       "\n",
       "    .dataframe tbody tr th {\n",
       "        vertical-align: top;\n",
       "    }\n",
       "\n",
       "    .dataframe thead th {\n",
       "        text-align: right;\n",
       "    }\n",
       "</style>\n",
       "<table border=\"1\" class=\"dataframe\">\n",
       "  <thead>\n",
       "    <tr style=\"text-align: right;\">\n",
       "      <th></th>\n",
       "      <th>age_updated</th>\n",
       "      <th>fare_updated</th>\n",
       "      <th>family_members</th>\n",
       "      <th>male</th>\n",
       "      <th>Queenstown (IE)</th>\n",
       "      <th>Southampton (UK)</th>\n",
       "      <th>B</th>\n",
       "      <th>C</th>\n",
       "      <th>D</th>\n",
       "      <th>E</th>\n",
       "      <th>F</th>\n",
       "      <th>G</th>\n",
       "      <th>T</th>\n",
       "      <th>Unknown</th>\n",
       "      <th>Second class</th>\n",
       "      <th>Third class</th>\n",
       "    </tr>\n",
       "  </thead>\n",
       "  <tbody>\n",
       "    <tr>\n",
       "      <th>0</th>\n",
       "      <td>29.0000</td>\n",
       "      <td>211.3375</td>\n",
       "      <td>0</td>\n",
       "      <td>0</td>\n",
       "      <td>0</td>\n",
       "      <td>1</td>\n",
       "      <td>1</td>\n",
       "      <td>0</td>\n",
       "      <td>0</td>\n",
       "      <td>0</td>\n",
       "      <td>0</td>\n",
       "      <td>0</td>\n",
       "      <td>0</td>\n",
       "      <td>0</td>\n",
       "      <td>0</td>\n",
       "      <td>0</td>\n",
       "    </tr>\n",
       "    <tr>\n",
       "      <th>1</th>\n",
       "      <td>0.9167</td>\n",
       "      <td>151.5500</td>\n",
       "      <td>3</td>\n",
       "      <td>1</td>\n",
       "      <td>0</td>\n",
       "      <td>1</td>\n",
       "      <td>0</td>\n",
       "      <td>1</td>\n",
       "      <td>0</td>\n",
       "      <td>0</td>\n",
       "      <td>0</td>\n",
       "      <td>0</td>\n",
       "      <td>0</td>\n",
       "      <td>0</td>\n",
       "      <td>0</td>\n",
       "      <td>0</td>\n",
       "    </tr>\n",
       "    <tr>\n",
       "      <th>2</th>\n",
       "      <td>2.0000</td>\n",
       "      <td>151.5500</td>\n",
       "      <td>3</td>\n",
       "      <td>0</td>\n",
       "      <td>0</td>\n",
       "      <td>1</td>\n",
       "      <td>0</td>\n",
       "      <td>1</td>\n",
       "      <td>0</td>\n",
       "      <td>0</td>\n",
       "      <td>0</td>\n",
       "      <td>0</td>\n",
       "      <td>0</td>\n",
       "      <td>0</td>\n",
       "      <td>0</td>\n",
       "      <td>0</td>\n",
       "    </tr>\n",
       "    <tr>\n",
       "      <th>3</th>\n",
       "      <td>30.0000</td>\n",
       "      <td>151.5500</td>\n",
       "      <td>3</td>\n",
       "      <td>1</td>\n",
       "      <td>0</td>\n",
       "      <td>1</td>\n",
       "      <td>0</td>\n",
       "      <td>1</td>\n",
       "      <td>0</td>\n",
       "      <td>0</td>\n",
       "      <td>0</td>\n",
       "      <td>0</td>\n",
       "      <td>0</td>\n",
       "      <td>0</td>\n",
       "      <td>0</td>\n",
       "      <td>0</td>\n",
       "    </tr>\n",
       "    <tr>\n",
       "      <th>4</th>\n",
       "      <td>25.0000</td>\n",
       "      <td>151.5500</td>\n",
       "      <td>3</td>\n",
       "      <td>0</td>\n",
       "      <td>0</td>\n",
       "      <td>1</td>\n",
       "      <td>0</td>\n",
       "      <td>1</td>\n",
       "      <td>0</td>\n",
       "      <td>0</td>\n",
       "      <td>0</td>\n",
       "      <td>0</td>\n",
       "      <td>0</td>\n",
       "      <td>0</td>\n",
       "      <td>0</td>\n",
       "      <td>0</td>\n",
       "    </tr>\n",
       "  </tbody>\n",
       "</table>\n",
       "</div>"
      ],
      "text/plain": [
       "   age_updated  fare_updated  family_members  male  Queenstown (IE)  \\\n",
       "0      29.0000      211.3375               0     0                0   \n",
       "1       0.9167      151.5500               3     1                0   \n",
       "2       2.0000      151.5500               3     0                0   \n",
       "3      30.0000      151.5500               3     1                0   \n",
       "4      25.0000      151.5500               3     0                0   \n",
       "\n",
       "   Southampton (UK)  B  C  D  E  F  G  T  Unknown  Second class  Third class  \n",
       "0                 1  1  0  0  0  0  0  0        0             0            0  \n",
       "1                 1  0  1  0  0  0  0  0        0             0            0  \n",
       "2                 1  0  1  0  0  0  0  0        0             0            0  \n",
       "3                 1  0  1  0  0  0  0  0        0             0            0  \n",
       "4                 1  0  1  0  0  0  0  0        0             0            0  "
      ]
     },
     "execution_count": 47,
     "metadata": {},
     "output_type": "execute_result"
    }
   ],
   "source": [
    "# Review the X variable dataframe\n",
    "X.head()"
   ]
  },
  {
   "cell_type": "code",
   "execution_count": 48,
   "metadata": {},
   "outputs": [
    {
     "data": {
      "text/plain": [
       "0    809\n",
       "1    500\n",
       "Name: survived, dtype: int64"
      ]
     },
     "execution_count": 48,
     "metadata": {},
     "output_type": "execute_result"
    }
   ],
   "source": [
    "# Check the balance of our target values\n",
    "y.value_counts()"
   ]
  },
  {
   "attachments": {},
   "cell_type": "markdown",
   "metadata": {},
   "source": [
    "### Split data into training and testing datasets using train_test_split"
   ]
  },
  {
   "cell_type": "code",
   "execution_count": 49,
   "metadata": {},
   "outputs": [
    {
     "data": {
      "text/plain": [
       "(981, 16)"
      ]
     },
     "execution_count": 49,
     "metadata": {},
     "output_type": "execute_result"
    }
   ],
   "source": [
    "# Split data into training and testing\n",
    "X_train, X_test, y_train, y_test = train_test_split(X, \n",
    "                                                    y, \n",
    "                                                    random_state=1, \n",
    "                                                    stratify=y)\n",
    "X_train.shape"
   ]
  },
  {
   "attachments": {},
   "cell_type": "markdown",
   "metadata": {},
   "source": [
    "### Apply random over sampler due to the imblanced data"
   ]
  },
  {
   "cell_type": "code",
   "execution_count": 50,
   "metadata": {},
   "outputs": [
    {
     "data": {
      "text/plain": [
       "1    606\n",
       "0    606\n",
       "Name: survived, dtype: int64"
      ]
     },
     "execution_count": 50,
     "metadata": {},
     "output_type": "execute_result"
    }
   ],
   "source": [
    "# Instantiate the random oversample model\n",
    "ros = RandomOverSampler(random_state=1)\n",
    "\n",
    "# Fit the original training data to the random_oversampler model\n",
    "X_train_ros, y_train_ros= ros.fit_resample(X_train, y_train)\n",
    "\n",
    "# Count the distinct values of the resampled labels data\n",
    "y_train_ros.value_counts()"
   ]
  },
  {
   "attachments": {},
   "cell_type": "markdown",
   "metadata": {},
   "source": [
    "### Create logistic regression model with the original data"
   ]
  },
  {
   "cell_type": "code",
   "execution_count": 51,
   "metadata": {},
   "outputs": [
    {
     "data": {
      "text/plain": [
       "LogisticRegression(max_iter=800, random_state=1)"
      ]
     },
     "execution_count": 51,
     "metadata": {},
     "output_type": "execute_result"
    }
   ],
   "source": [
    "# Create a logistic regression model\n",
    "classifier = LogisticRegression(solver='lbfgs', max_iter=800, random_state=1)\n",
    "\n",
    "# Fit and train the model using the training data\n",
    "classifier.fit(X_train_ros, y_train_ros)"
   ]
  },
  {
   "cell_type": "code",
   "execution_count": 52,
   "metadata": {},
   "outputs": [],
   "source": [
    "# Make predictions\n",
    "predictions = classifier.predict(X_test)"
   ]
  },
  {
   "attachments": {},
   "cell_type": "markdown",
   "metadata": {},
   "source": [
    "### Evaluate the models performance"
   ]
  },
  {
   "cell_type": "code",
   "execution_count": 53,
   "metadata": {},
   "outputs": [
    {
     "name": "stdout",
     "output_type": "stream",
     "text": [
      "The balanced accuracy score of the model is 0.77471921182266\n",
      "\n",
      "\n"
     ]
    },
    {
     "data": {
      "text/html": [
       "<div>\n",
       "<style scoped>\n",
       "    .dataframe tbody tr th:only-of-type {\n",
       "        vertical-align: middle;\n",
       "    }\n",
       "\n",
       "    .dataframe tbody tr th {\n",
       "        vertical-align: top;\n",
       "    }\n",
       "\n",
       "    .dataframe thead th {\n",
       "        text-align: right;\n",
       "    }\n",
       "</style>\n",
       "<table border=\"1\" class=\"dataframe\">\n",
       "  <thead>\n",
       "    <tr style=\"text-align: right;\">\n",
       "      <th></th>\n",
       "      <th>Predicted - Did not survive</th>\n",
       "      <th>Predicted - Survived</th>\n",
       "    </tr>\n",
       "  </thead>\n",
       "  <tbody>\n",
       "    <tr>\n",
       "      <th>Actual - Did not survive</th>\n",
       "      <td>170</td>\n",
       "      <td>33</td>\n",
       "    </tr>\n",
       "    <tr>\n",
       "      <th>Actual - Survived</th>\n",
       "      <td>36</td>\n",
       "      <td>89</td>\n",
       "    </tr>\n",
       "  </tbody>\n",
       "</table>\n",
       "</div>"
      ],
      "text/plain": [
       "                          Predicted - Did not survive  Predicted - Survived\n",
       "Actual - Did not survive                          170                    33\n",
       "Actual - Survived                                  36                    89"
      ]
     },
     "metadata": {},
     "output_type": "display_data"
    },
    {
     "name": "stdout",
     "output_type": "stream",
     "text": [
      "\n",
      "\n",
      "                 precision    recall  f1-score   support\n",
      "\n",
      "Did not survive       0.83      0.84      0.83       203\n",
      "       Survived       0.73      0.71      0.72       125\n",
      "\n",
      "       accuracy                           0.79       328\n",
      "      macro avg       0.78      0.77      0.78       328\n",
      "   weighted avg       0.79      0.79      0.79       328\n",
      "\n"
     ]
    }
   ],
   "source": [
    "# Confusion matrix\n",
    "cm = confusion_matrix(y_test, predictions)\n",
    "cm_df = pd.DataFrame(\n",
    "    cm, index=['Actual - Did not survive', 'Actual - Survived'], columns=['Predicted - Did not survive', 'Predicted - Survived']\n",
    ")\n",
    "\n",
    "# Classification report\n",
    "target_names = [\"Did not survive\", \"Survived\"]\n",
    "\n",
    "# Print the evaluation\n",
    "print(f\"The balanced accuracy score of the model is {balanced_accuracy_score(y_test, predictions)}\")\n",
    "print(f\"\")\n",
    "print(f\"\")\n",
    "display(cm_df)\n",
    "print(f\"\")\n",
    "print(f\"\")\n",
    "print(classification_report(y_test, predictions, target_names=target_names))"
   ]
  },
  {
   "attachments": {},
   "cell_type": "markdown",
   "metadata": {},
   "source": [
    "# Model 3 \n",
    "<h7> Optimisation made - extracting title from the name and using that as a field and including the columns sibsp and parch (due to earlier results)"
   ]
  },
  {
   "cell_type": "code",
   "execution_count": 6,
   "metadata": {},
   "outputs": [
    {
     "data": {
      "text/html": [
       "<div>\n",
       "<style scoped>\n",
       "    .dataframe tbody tr th:only-of-type {\n",
       "        vertical-align: middle;\n",
       "    }\n",
       "\n",
       "    .dataframe tbody tr th {\n",
       "        vertical-align: top;\n",
       "    }\n",
       "\n",
       "    .dataframe thead th {\n",
       "        text-align: right;\n",
       "    }\n",
       "</style>\n",
       "<table border=\"1\" class=\"dataframe\">\n",
       "  <thead>\n",
       "    <tr style=\"text-align: right;\">\n",
       "      <th></th>\n",
       "      <th>survived</th>\n",
       "      <th>name</th>\n",
       "      <th>sex</th>\n",
       "      <th>sibsp</th>\n",
       "      <th>parch</th>\n",
       "      <th>age_updated</th>\n",
       "      <th>embarked_updated</th>\n",
       "      <th>fare_updated</th>\n",
       "      <th>deck</th>\n",
       "      <th>pclass_updated</th>\n",
       "    </tr>\n",
       "  </thead>\n",
       "  <tbody>\n",
       "    <tr>\n",
       "      <th>0</th>\n",
       "      <td>1</td>\n",
       "      <td>Allen, Miss. Elisabeth Walton</td>\n",
       "      <td>female</td>\n",
       "      <td>0</td>\n",
       "      <td>0</td>\n",
       "      <td>29.0000</td>\n",
       "      <td>Southampton (UK)</td>\n",
       "      <td>211.3375</td>\n",
       "      <td>B</td>\n",
       "      <td>First class</td>\n",
       "    </tr>\n",
       "    <tr>\n",
       "      <th>1</th>\n",
       "      <td>1</td>\n",
       "      <td>Allison, Master. Hudson Trevor</td>\n",
       "      <td>male</td>\n",
       "      <td>1</td>\n",
       "      <td>2</td>\n",
       "      <td>0.9167</td>\n",
       "      <td>Southampton (UK)</td>\n",
       "      <td>151.5500</td>\n",
       "      <td>C</td>\n",
       "      <td>First class</td>\n",
       "    </tr>\n",
       "    <tr>\n",
       "      <th>2</th>\n",
       "      <td>0</td>\n",
       "      <td>Allison, Miss. Helen Loraine</td>\n",
       "      <td>female</td>\n",
       "      <td>1</td>\n",
       "      <td>2</td>\n",
       "      <td>2.0000</td>\n",
       "      <td>Southampton (UK)</td>\n",
       "      <td>151.5500</td>\n",
       "      <td>C</td>\n",
       "      <td>First class</td>\n",
       "    </tr>\n",
       "    <tr>\n",
       "      <th>3</th>\n",
       "      <td>0</td>\n",
       "      <td>Allison, Mr. Hudson Joshua Creighton</td>\n",
       "      <td>male</td>\n",
       "      <td>1</td>\n",
       "      <td>2</td>\n",
       "      <td>30.0000</td>\n",
       "      <td>Southampton (UK)</td>\n",
       "      <td>151.5500</td>\n",
       "      <td>C</td>\n",
       "      <td>First class</td>\n",
       "    </tr>\n",
       "    <tr>\n",
       "      <th>4</th>\n",
       "      <td>0</td>\n",
       "      <td>Allison, Mrs. Hudson J C (Bessie Waldo Daniels)</td>\n",
       "      <td>female</td>\n",
       "      <td>1</td>\n",
       "      <td>2</td>\n",
       "      <td>25.0000</td>\n",
       "      <td>Southampton (UK)</td>\n",
       "      <td>151.5500</td>\n",
       "      <td>C</td>\n",
       "      <td>First class</td>\n",
       "    </tr>\n",
       "  </tbody>\n",
       "</table>\n",
       "</div>"
      ],
      "text/plain": [
       "   survived                                             name     sex  sibsp  \\\n",
       "0         1                    Allen, Miss. Elisabeth Walton  female      0   \n",
       "1         1                   Allison, Master. Hudson Trevor    male      1   \n",
       "2         0                     Allison, Miss. Helen Loraine  female      1   \n",
       "3         0             Allison, Mr. Hudson Joshua Creighton    male      1   \n",
       "4         0  Allison, Mrs. Hudson J C (Bessie Waldo Daniels)  female      1   \n",
       "\n",
       "   parch  age_updated  embarked_updated  fare_updated deck pclass_updated  \n",
       "0      0      29.0000  Southampton (UK)      211.3375    B    First class  \n",
       "1      2       0.9167  Southampton (UK)      151.5500    C    First class  \n",
       "2      2       2.0000  Southampton (UK)      151.5500    C    First class  \n",
       "3      2      30.0000  Southampton (UK)      151.5500    C    First class  \n",
       "4      2      25.0000  Southampton (UK)      151.5500    C    First class  "
      ]
     },
     "execution_count": 6,
     "metadata": {},
     "output_type": "execute_result"
    }
   ],
   "source": [
    "# Extracting relevant fields from sql\n",
    "titanic_three = pd.read_sql_query(\"\"\"\n",
    "SELECT s.survived,\n",
    "    p.name,\n",
    "    p.sex,\n",
    "    p.sibsp,\n",
    "    p.parch,\n",
    "    p.age_updated,\n",
    "    p.embarked_updated,\n",
    "    p.fare_updated,\n",
    "    p.deck,\n",
    "    p.pclass_updated\n",
    "FROM passenger_information as p\n",
    "LEFT JOIN survival as s \n",
    "    ON p.passenger_id=s.passenger_id\"\"\", conn)\n",
    "titanic_three.head()"
   ]
  },
  {
   "attachments": {},
   "cell_type": "markdown",
   "metadata": {},
   "source": [
    "### Preparing the data"
   ]
  },
  {
   "attachments": {},
   "cell_type": "markdown",
   "metadata": {},
   "source": [
    "<h7> Extracting title from name"
   ]
  },
  {
   "cell_type": "code",
   "execution_count": 55,
   "metadata": {},
   "outputs": [],
   "source": [
    "# Extracting titles from passenger name and assigning them to a new column\n",
    "name_split = titanic_three['name'].str.split(',', expand=True)[1] # splitting name in two based on the ',' and taking the second column which contains the title\n",
    "title = name_split.str.split('.', expand=True)[0] # splitting name in two based on the full stop and taking the first column that contains only the title\n",
    "title = title.str.strip() # removing the additional space at the start of the title\n",
    "titanic_three['title'] = title # adding title as a new column in the data frame"
   ]
  },
  {
   "cell_type": "code",
   "execution_count": 56,
   "metadata": {},
   "outputs": [
    {
     "data": {
      "text/plain": [
       "Mr              757\n",
       "Miss            260\n",
       "Mrs             197\n",
       "Master           61\n",
       "Rev               8\n",
       "Dr                8\n",
       "Col               4\n",
       "Ms                2\n",
       "Major             2\n",
       "Mlle              2\n",
       "Dona              1\n",
       "Mme               1\n",
       "Don               1\n",
       "Capt              1\n",
       "Sir               1\n",
       "Lady              1\n",
       "the Countess      1\n",
       "Jonkheer          1\n",
       "Name: title, dtype: int64"
      ]
     },
     "execution_count": 56,
     "metadata": {},
     "output_type": "execute_result"
    }
   ],
   "source": [
    "titanic_three['title'].value_counts(dropna=False)"
   ]
  },
  {
   "cell_type": "code",
   "execution_count": 57,
   "metadata": {},
   "outputs": [],
   "source": [
    "# Creating a function to classify the titles into different groups\n",
    "def title_grouped(title):\n",
    "        if title == 'Miss' or title == 'Mlle' or title == 'Ms':\n",
    "            return \"Miss\"\n",
    "        elif title == 'Mrs' or title =='Mme':\n",
    "            return \"Mrs\"\n",
    "        elif title == \"Mr\" or title == 'Rev':\n",
    "            return \"Mr\"\n",
    "        elif title == \"Master\":\n",
    "            return \"male_child\"\n",
    "        elif title == \"Col\" or title == \"Major\" or title == \"Capt\" or title == 'Dr':\n",
    "            return \"Professional\"\n",
    "        elif title == \"Don\" or title == \"Jonkheer\" or title == \"Sir\":\n",
    "            return \"Noblility\"\n",
    "        elif title == \"the Countess\" or title == \"Lady\" or title == \"Dona\":\n",
    "            return \"Noblility\"\n",
    "        else:\n",
    "            return title"
   ]
  },
  {
   "cell_type": "code",
   "execution_count": 58,
   "metadata": {},
   "outputs": [
    {
     "data": {
      "text/html": [
       "<div>\n",
       "<style scoped>\n",
       "    .dataframe tbody tr th:only-of-type {\n",
       "        vertical-align: middle;\n",
       "    }\n",
       "\n",
       "    .dataframe tbody tr th {\n",
       "        vertical-align: top;\n",
       "    }\n",
       "\n",
       "    .dataframe thead th {\n",
       "        text-align: right;\n",
       "    }\n",
       "</style>\n",
       "<table border=\"1\" class=\"dataframe\">\n",
       "  <thead>\n",
       "    <tr style=\"text-align: right;\">\n",
       "      <th></th>\n",
       "      <th>survived</th>\n",
       "      <th>sex</th>\n",
       "      <th>sibsp</th>\n",
       "      <th>parch</th>\n",
       "      <th>age_updated</th>\n",
       "      <th>embarked_updated</th>\n",
       "      <th>fare_updated</th>\n",
       "      <th>deck</th>\n",
       "      <th>pclass_updated</th>\n",
       "      <th>title_grouped</th>\n",
       "    </tr>\n",
       "  </thead>\n",
       "  <tbody>\n",
       "    <tr>\n",
       "      <th>0</th>\n",
       "      <td>1</td>\n",
       "      <td>female</td>\n",
       "      <td>0</td>\n",
       "      <td>0</td>\n",
       "      <td>29.0000</td>\n",
       "      <td>Southampton (UK)</td>\n",
       "      <td>211.3375</td>\n",
       "      <td>B</td>\n",
       "      <td>First class</td>\n",
       "      <td>Miss</td>\n",
       "    </tr>\n",
       "    <tr>\n",
       "      <th>1</th>\n",
       "      <td>1</td>\n",
       "      <td>male</td>\n",
       "      <td>1</td>\n",
       "      <td>2</td>\n",
       "      <td>0.9167</td>\n",
       "      <td>Southampton (UK)</td>\n",
       "      <td>151.5500</td>\n",
       "      <td>C</td>\n",
       "      <td>First class</td>\n",
       "      <td>male_child</td>\n",
       "    </tr>\n",
       "    <tr>\n",
       "      <th>2</th>\n",
       "      <td>0</td>\n",
       "      <td>female</td>\n",
       "      <td>1</td>\n",
       "      <td>2</td>\n",
       "      <td>2.0000</td>\n",
       "      <td>Southampton (UK)</td>\n",
       "      <td>151.5500</td>\n",
       "      <td>C</td>\n",
       "      <td>First class</td>\n",
       "      <td>Miss</td>\n",
       "    </tr>\n",
       "    <tr>\n",
       "      <th>3</th>\n",
       "      <td>0</td>\n",
       "      <td>male</td>\n",
       "      <td>1</td>\n",
       "      <td>2</td>\n",
       "      <td>30.0000</td>\n",
       "      <td>Southampton (UK)</td>\n",
       "      <td>151.5500</td>\n",
       "      <td>C</td>\n",
       "      <td>First class</td>\n",
       "      <td>Mr</td>\n",
       "    </tr>\n",
       "    <tr>\n",
       "      <th>4</th>\n",
       "      <td>0</td>\n",
       "      <td>female</td>\n",
       "      <td>1</td>\n",
       "      <td>2</td>\n",
       "      <td>25.0000</td>\n",
       "      <td>Southampton (UK)</td>\n",
       "      <td>151.5500</td>\n",
       "      <td>C</td>\n",
       "      <td>First class</td>\n",
       "      <td>Mrs</td>\n",
       "    </tr>\n",
       "  </tbody>\n",
       "</table>\n",
       "</div>"
      ],
      "text/plain": [
       "   survived     sex  sibsp  parch  age_updated  embarked_updated  \\\n",
       "0         1  female      0      0      29.0000  Southampton (UK)   \n",
       "1         1    male      1      2       0.9167  Southampton (UK)   \n",
       "2         0  female      1      2       2.0000  Southampton (UK)   \n",
       "3         0    male      1      2      30.0000  Southampton (UK)   \n",
       "4         0  female      1      2      25.0000  Southampton (UK)   \n",
       "\n",
       "   fare_updated deck pclass_updated title_grouped  \n",
       "0      211.3375    B    First class          Miss  \n",
       "1      151.5500    C    First class    male_child  \n",
       "2      151.5500    C    First class          Miss  \n",
       "3      151.5500    C    First class            Mr  \n",
       "4      151.5500    C    First class           Mrs  "
      ]
     },
     "execution_count": 58,
     "metadata": {},
     "output_type": "execute_result"
    }
   ],
   "source": [
    "# Calling that function and assigning results to new column in dataframe\n",
    "titanic_three['title_grouped'] = titanic_three['title'].apply(title_grouped)\n",
    "titanic_three.drop(['title', 'name'], axis=1, inplace=True) # dropping the title and name columns as not required\n",
    "titanic_three.head()"
   ]
  },
  {
   "cell_type": "code",
   "execution_count": 59,
   "metadata": {},
   "outputs": [
    {
     "data": {
      "text/plain": [
       "Mr              765\n",
       "Miss            264\n",
       "Mrs             198\n",
       "male_child       61\n",
       "Professional     15\n",
       "Noblility         6\n",
       "Name: title_grouped, dtype: int64"
      ]
     },
     "execution_count": 59,
     "metadata": {},
     "output_type": "execute_result"
    }
   ],
   "source": [
    "titanic_three['title_grouped'].value_counts(dropna=False)"
   ]
  },
  {
   "attachments": {},
   "cell_type": "markdown",
   "metadata": {},
   "source": [
    "<h7> Convert categorical data"
   ]
  },
  {
   "cell_type": "code",
   "execution_count": 60,
   "metadata": {},
   "outputs": [],
   "source": [
    "# Converting categorical using get_dummies and dropping the first column so the importance isn't inflated\n",
    "sex_dummies = pd.get_dummies(titanic_three['sex'], drop_first=True) \n",
    "embarked_dummies = pd.get_dummies(titanic_three['embarked_updated'], drop_first=True)\n",
    "deck_dummies = pd.get_dummies(titanic_three['deck'], drop_first=True)\n",
    "pclass_dummies = pd.get_dummies(titanic_three['pclass_updated'], drop_first=True)\n",
    "title_dummies = pd.get_dummies(titanic_three['title_grouped'], drop_first=True)"
   ]
  },
  {
   "cell_type": "code",
   "execution_count": 61,
   "metadata": {},
   "outputs": [
    {
     "data": {
      "text/html": [
       "<div>\n",
       "<style scoped>\n",
       "    .dataframe tbody tr th:only-of-type {\n",
       "        vertical-align: middle;\n",
       "    }\n",
       "\n",
       "    .dataframe tbody tr th {\n",
       "        vertical-align: top;\n",
       "    }\n",
       "\n",
       "    .dataframe thead th {\n",
       "        text-align: right;\n",
       "    }\n",
       "</style>\n",
       "<table border=\"1\" class=\"dataframe\">\n",
       "  <thead>\n",
       "    <tr style=\"text-align: right;\">\n",
       "      <th></th>\n",
       "      <th>survived</th>\n",
       "      <th>sibsp</th>\n",
       "      <th>parch</th>\n",
       "      <th>age_updated</th>\n",
       "      <th>fare_updated</th>\n",
       "      <th>male</th>\n",
       "      <th>Queenstown (IE)</th>\n",
       "      <th>Southampton (UK)</th>\n",
       "      <th>B</th>\n",
       "      <th>C</th>\n",
       "      <th>...</th>\n",
       "      <th>G</th>\n",
       "      <th>T</th>\n",
       "      <th>Unknown</th>\n",
       "      <th>Second class</th>\n",
       "      <th>Third class</th>\n",
       "      <th>Mr</th>\n",
       "      <th>Mrs</th>\n",
       "      <th>Noblility</th>\n",
       "      <th>Professional</th>\n",
       "      <th>male_child</th>\n",
       "    </tr>\n",
       "  </thead>\n",
       "  <tbody>\n",
       "    <tr>\n",
       "      <th>0</th>\n",
       "      <td>1</td>\n",
       "      <td>0</td>\n",
       "      <td>0</td>\n",
       "      <td>29.0000</td>\n",
       "      <td>211.3375</td>\n",
       "      <td>0</td>\n",
       "      <td>0</td>\n",
       "      <td>1</td>\n",
       "      <td>1</td>\n",
       "      <td>0</td>\n",
       "      <td>...</td>\n",
       "      <td>0</td>\n",
       "      <td>0</td>\n",
       "      <td>0</td>\n",
       "      <td>0</td>\n",
       "      <td>0</td>\n",
       "      <td>0</td>\n",
       "      <td>0</td>\n",
       "      <td>0</td>\n",
       "      <td>0</td>\n",
       "      <td>0</td>\n",
       "    </tr>\n",
       "    <tr>\n",
       "      <th>1</th>\n",
       "      <td>1</td>\n",
       "      <td>1</td>\n",
       "      <td>2</td>\n",
       "      <td>0.9167</td>\n",
       "      <td>151.5500</td>\n",
       "      <td>1</td>\n",
       "      <td>0</td>\n",
       "      <td>1</td>\n",
       "      <td>0</td>\n",
       "      <td>1</td>\n",
       "      <td>...</td>\n",
       "      <td>0</td>\n",
       "      <td>0</td>\n",
       "      <td>0</td>\n",
       "      <td>0</td>\n",
       "      <td>0</td>\n",
       "      <td>0</td>\n",
       "      <td>0</td>\n",
       "      <td>0</td>\n",
       "      <td>0</td>\n",
       "      <td>1</td>\n",
       "    </tr>\n",
       "    <tr>\n",
       "      <th>2</th>\n",
       "      <td>0</td>\n",
       "      <td>1</td>\n",
       "      <td>2</td>\n",
       "      <td>2.0000</td>\n",
       "      <td>151.5500</td>\n",
       "      <td>0</td>\n",
       "      <td>0</td>\n",
       "      <td>1</td>\n",
       "      <td>0</td>\n",
       "      <td>1</td>\n",
       "      <td>...</td>\n",
       "      <td>0</td>\n",
       "      <td>0</td>\n",
       "      <td>0</td>\n",
       "      <td>0</td>\n",
       "      <td>0</td>\n",
       "      <td>0</td>\n",
       "      <td>0</td>\n",
       "      <td>0</td>\n",
       "      <td>0</td>\n",
       "      <td>0</td>\n",
       "    </tr>\n",
       "    <tr>\n",
       "      <th>3</th>\n",
       "      <td>0</td>\n",
       "      <td>1</td>\n",
       "      <td>2</td>\n",
       "      <td>30.0000</td>\n",
       "      <td>151.5500</td>\n",
       "      <td>1</td>\n",
       "      <td>0</td>\n",
       "      <td>1</td>\n",
       "      <td>0</td>\n",
       "      <td>1</td>\n",
       "      <td>...</td>\n",
       "      <td>0</td>\n",
       "      <td>0</td>\n",
       "      <td>0</td>\n",
       "      <td>0</td>\n",
       "      <td>0</td>\n",
       "      <td>1</td>\n",
       "      <td>0</td>\n",
       "      <td>0</td>\n",
       "      <td>0</td>\n",
       "      <td>0</td>\n",
       "    </tr>\n",
       "    <tr>\n",
       "      <th>4</th>\n",
       "      <td>0</td>\n",
       "      <td>1</td>\n",
       "      <td>2</td>\n",
       "      <td>25.0000</td>\n",
       "      <td>151.5500</td>\n",
       "      <td>0</td>\n",
       "      <td>0</td>\n",
       "      <td>1</td>\n",
       "      <td>0</td>\n",
       "      <td>1</td>\n",
       "      <td>...</td>\n",
       "      <td>0</td>\n",
       "      <td>0</td>\n",
       "      <td>0</td>\n",
       "      <td>0</td>\n",
       "      <td>0</td>\n",
       "      <td>0</td>\n",
       "      <td>1</td>\n",
       "      <td>0</td>\n",
       "      <td>0</td>\n",
       "      <td>0</td>\n",
       "    </tr>\n",
       "  </tbody>\n",
       "</table>\n",
       "<p>5 rows × 23 columns</p>\n",
       "</div>"
      ],
      "text/plain": [
       "   survived  sibsp  parch  age_updated  fare_updated  male  Queenstown (IE)  \\\n",
       "0         1      0      0      29.0000      211.3375     0                0   \n",
       "1         1      1      2       0.9167      151.5500     1                0   \n",
       "2         0      1      2       2.0000      151.5500     0                0   \n",
       "3         0      1      2      30.0000      151.5500     1                0   \n",
       "4         0      1      2      25.0000      151.5500     0                0   \n",
       "\n",
       "   Southampton (UK)  B  C  ...  G  T  Unknown  Second class  Third class  Mr  \\\n",
       "0                 1  1  0  ...  0  0        0             0            0   0   \n",
       "1                 1  0  1  ...  0  0        0             0            0   0   \n",
       "2                 1  0  1  ...  0  0        0             0            0   0   \n",
       "3                 1  0  1  ...  0  0        0             0            0   1   \n",
       "4                 1  0  1  ...  0  0        0             0            0   0   \n",
       "\n",
       "   Mrs  Noblility  Professional  male_child  \n",
       "0    0          0             0           0  \n",
       "1    0          0             0           1  \n",
       "2    0          0             0           0  \n",
       "3    0          0             0           0  \n",
       "4    1          0             0           0  \n",
       "\n",
       "[5 rows x 23 columns]"
      ]
     },
     "execution_count": 61,
     "metadata": {},
     "output_type": "execute_result"
    }
   ],
   "source": [
    "# Concatenate the encoded dummies with the data frame and drop uncessary columns\n",
    "df_titanic_transformed = pd.concat([titanic_three, sex_dummies, embarked_dummies, deck_dummies, pclass_dummies, title_dummies], axis=1)\n",
    "df_titanic_transformed = df_titanic_transformed.drop(['sex', 'embarked_updated', 'deck', 'pclass_updated', 'title_grouped'], axis=1) # dropping columns not required\n",
    "df_titanic_transformed.head()"
   ]
  },
  {
   "attachments": {},
   "cell_type": "markdown",
   "metadata": {},
   "source": [
    "### Separate the data into labels and features"
   ]
  },
  {
   "cell_type": "code",
   "execution_count": 62,
   "metadata": {},
   "outputs": [],
   "source": [
    "# Separate the features (X) from the target (y)\n",
    "y = df_titanic_transformed[\"survived\"]\n",
    "X = df_titanic_transformed.drop(columns='survived')"
   ]
  },
  {
   "cell_type": "code",
   "execution_count": 63,
   "metadata": {},
   "outputs": [
    {
     "data": {
      "text/plain": [
       "0    1\n",
       "1    1\n",
       "2    0\n",
       "3    0\n",
       "4    0\n",
       "Name: survived, dtype: int64"
      ]
     },
     "execution_count": 63,
     "metadata": {},
     "output_type": "execute_result"
    }
   ],
   "source": [
    "# Reivew the y variable series\n",
    "y.head()"
   ]
  },
  {
   "cell_type": "code",
   "execution_count": 64,
   "metadata": {},
   "outputs": [
    {
     "data": {
      "text/html": [
       "<div>\n",
       "<style scoped>\n",
       "    .dataframe tbody tr th:only-of-type {\n",
       "        vertical-align: middle;\n",
       "    }\n",
       "\n",
       "    .dataframe tbody tr th {\n",
       "        vertical-align: top;\n",
       "    }\n",
       "\n",
       "    .dataframe thead th {\n",
       "        text-align: right;\n",
       "    }\n",
       "</style>\n",
       "<table border=\"1\" class=\"dataframe\">\n",
       "  <thead>\n",
       "    <tr style=\"text-align: right;\">\n",
       "      <th></th>\n",
       "      <th>sibsp</th>\n",
       "      <th>parch</th>\n",
       "      <th>age_updated</th>\n",
       "      <th>fare_updated</th>\n",
       "      <th>male</th>\n",
       "      <th>Queenstown (IE)</th>\n",
       "      <th>Southampton (UK)</th>\n",
       "      <th>B</th>\n",
       "      <th>C</th>\n",
       "      <th>D</th>\n",
       "      <th>...</th>\n",
       "      <th>G</th>\n",
       "      <th>T</th>\n",
       "      <th>Unknown</th>\n",
       "      <th>Second class</th>\n",
       "      <th>Third class</th>\n",
       "      <th>Mr</th>\n",
       "      <th>Mrs</th>\n",
       "      <th>Noblility</th>\n",
       "      <th>Professional</th>\n",
       "      <th>male_child</th>\n",
       "    </tr>\n",
       "  </thead>\n",
       "  <tbody>\n",
       "    <tr>\n",
       "      <th>0</th>\n",
       "      <td>0</td>\n",
       "      <td>0</td>\n",
       "      <td>29.0000</td>\n",
       "      <td>211.3375</td>\n",
       "      <td>0</td>\n",
       "      <td>0</td>\n",
       "      <td>1</td>\n",
       "      <td>1</td>\n",
       "      <td>0</td>\n",
       "      <td>0</td>\n",
       "      <td>...</td>\n",
       "      <td>0</td>\n",
       "      <td>0</td>\n",
       "      <td>0</td>\n",
       "      <td>0</td>\n",
       "      <td>0</td>\n",
       "      <td>0</td>\n",
       "      <td>0</td>\n",
       "      <td>0</td>\n",
       "      <td>0</td>\n",
       "      <td>0</td>\n",
       "    </tr>\n",
       "    <tr>\n",
       "      <th>1</th>\n",
       "      <td>1</td>\n",
       "      <td>2</td>\n",
       "      <td>0.9167</td>\n",
       "      <td>151.5500</td>\n",
       "      <td>1</td>\n",
       "      <td>0</td>\n",
       "      <td>1</td>\n",
       "      <td>0</td>\n",
       "      <td>1</td>\n",
       "      <td>0</td>\n",
       "      <td>...</td>\n",
       "      <td>0</td>\n",
       "      <td>0</td>\n",
       "      <td>0</td>\n",
       "      <td>0</td>\n",
       "      <td>0</td>\n",
       "      <td>0</td>\n",
       "      <td>0</td>\n",
       "      <td>0</td>\n",
       "      <td>0</td>\n",
       "      <td>1</td>\n",
       "    </tr>\n",
       "    <tr>\n",
       "      <th>2</th>\n",
       "      <td>1</td>\n",
       "      <td>2</td>\n",
       "      <td>2.0000</td>\n",
       "      <td>151.5500</td>\n",
       "      <td>0</td>\n",
       "      <td>0</td>\n",
       "      <td>1</td>\n",
       "      <td>0</td>\n",
       "      <td>1</td>\n",
       "      <td>0</td>\n",
       "      <td>...</td>\n",
       "      <td>0</td>\n",
       "      <td>0</td>\n",
       "      <td>0</td>\n",
       "      <td>0</td>\n",
       "      <td>0</td>\n",
       "      <td>0</td>\n",
       "      <td>0</td>\n",
       "      <td>0</td>\n",
       "      <td>0</td>\n",
       "      <td>0</td>\n",
       "    </tr>\n",
       "    <tr>\n",
       "      <th>3</th>\n",
       "      <td>1</td>\n",
       "      <td>2</td>\n",
       "      <td>30.0000</td>\n",
       "      <td>151.5500</td>\n",
       "      <td>1</td>\n",
       "      <td>0</td>\n",
       "      <td>1</td>\n",
       "      <td>0</td>\n",
       "      <td>1</td>\n",
       "      <td>0</td>\n",
       "      <td>...</td>\n",
       "      <td>0</td>\n",
       "      <td>0</td>\n",
       "      <td>0</td>\n",
       "      <td>0</td>\n",
       "      <td>0</td>\n",
       "      <td>1</td>\n",
       "      <td>0</td>\n",
       "      <td>0</td>\n",
       "      <td>0</td>\n",
       "      <td>0</td>\n",
       "    </tr>\n",
       "    <tr>\n",
       "      <th>4</th>\n",
       "      <td>1</td>\n",
       "      <td>2</td>\n",
       "      <td>25.0000</td>\n",
       "      <td>151.5500</td>\n",
       "      <td>0</td>\n",
       "      <td>0</td>\n",
       "      <td>1</td>\n",
       "      <td>0</td>\n",
       "      <td>1</td>\n",
       "      <td>0</td>\n",
       "      <td>...</td>\n",
       "      <td>0</td>\n",
       "      <td>0</td>\n",
       "      <td>0</td>\n",
       "      <td>0</td>\n",
       "      <td>0</td>\n",
       "      <td>0</td>\n",
       "      <td>1</td>\n",
       "      <td>0</td>\n",
       "      <td>0</td>\n",
       "      <td>0</td>\n",
       "    </tr>\n",
       "  </tbody>\n",
       "</table>\n",
       "<p>5 rows × 22 columns</p>\n",
       "</div>"
      ],
      "text/plain": [
       "   sibsp  parch  age_updated  fare_updated  male  Queenstown (IE)  \\\n",
       "0      0      0      29.0000      211.3375     0                0   \n",
       "1      1      2       0.9167      151.5500     1                0   \n",
       "2      1      2       2.0000      151.5500     0                0   \n",
       "3      1      2      30.0000      151.5500     1                0   \n",
       "4      1      2      25.0000      151.5500     0                0   \n",
       "\n",
       "   Southampton (UK)  B  C  D  ...  G  T  Unknown  Second class  Third class  \\\n",
       "0                 1  1  0  0  ...  0  0        0             0            0   \n",
       "1                 1  0  1  0  ...  0  0        0             0            0   \n",
       "2                 1  0  1  0  ...  0  0        0             0            0   \n",
       "3                 1  0  1  0  ...  0  0        0             0            0   \n",
       "4                 1  0  1  0  ...  0  0        0             0            0   \n",
       "\n",
       "   Mr  Mrs  Noblility  Professional  male_child  \n",
       "0   0    0          0             0           0  \n",
       "1   0    0          0             0           1  \n",
       "2   0    0          0             0           0  \n",
       "3   1    0          0             0           0  \n",
       "4   0    1          0             0           0  \n",
       "\n",
       "[5 rows x 22 columns]"
      ]
     },
     "execution_count": 64,
     "metadata": {},
     "output_type": "execute_result"
    }
   ],
   "source": [
    "# Review the X variable dataframe\n",
    "X.head()"
   ]
  },
  {
   "cell_type": "code",
   "execution_count": 65,
   "metadata": {},
   "outputs": [
    {
     "data": {
      "text/plain": [
       "0    809\n",
       "1    500\n",
       "Name: survived, dtype: int64"
      ]
     },
     "execution_count": 65,
     "metadata": {},
     "output_type": "execute_result"
    }
   ],
   "source": [
    "# Check the balance of our target values\n",
    "y.value_counts()"
   ]
  },
  {
   "attachments": {},
   "cell_type": "markdown",
   "metadata": {},
   "source": [
    "### Split data into training and testing datasets using train_test_split"
   ]
  },
  {
   "cell_type": "code",
   "execution_count": 66,
   "metadata": {},
   "outputs": [
    {
     "data": {
      "text/plain": [
       "(981, 22)"
      ]
     },
     "execution_count": 66,
     "metadata": {},
     "output_type": "execute_result"
    }
   ],
   "source": [
    "# Split data into training and testing\n",
    "X_train, X_test, y_train, y_test = train_test_split(X, \n",
    "                                                    y, \n",
    "                                                    random_state=1, \n",
    "                                                    stratify=y)\n",
    "X_train.shape"
   ]
  },
  {
   "attachments": {},
   "cell_type": "markdown",
   "metadata": {},
   "source": [
    "### Apply random over sampler due to the imblanced data"
   ]
  },
  {
   "cell_type": "code",
   "execution_count": 67,
   "metadata": {},
   "outputs": [
    {
     "data": {
      "text/plain": [
       "1    606\n",
       "0    606\n",
       "Name: survived, dtype: int64"
      ]
     },
     "execution_count": 67,
     "metadata": {},
     "output_type": "execute_result"
    }
   ],
   "source": [
    "# Instantiate the random oversample model\n",
    "ros = RandomOverSampler(random_state=1)\n",
    "\n",
    "# Fit the original training data to the random_oversampler model\n",
    "X_train_ros, y_train_ros= ros.fit_resample(X_train, y_train)\n",
    "\n",
    "# Count the distinct values of the resampled labels data\n",
    "y_train_ros.value_counts()"
   ]
  },
  {
   "cell_type": "code",
   "execution_count": 68,
   "metadata": {},
   "outputs": [
    {
     "data": {
      "text/plain": [
       "1    606\n",
       "0    606\n",
       "Name: survived, dtype: int64"
      ]
     },
     "execution_count": 68,
     "metadata": {},
     "output_type": "execute_result"
    }
   ],
   "source": [
    "# Count the distinct values of the resampled labels data\n",
    "y_train_ros.value_counts()"
   ]
  },
  {
   "attachments": {},
   "cell_type": "markdown",
   "metadata": {},
   "source": [
    "### Create logistic regression model"
   ]
  },
  {
   "cell_type": "code",
   "execution_count": 69,
   "metadata": {},
   "outputs": [
    {
     "data": {
      "text/plain": [
       "LogisticRegression(max_iter=1300, random_state=1)"
      ]
     },
     "execution_count": 69,
     "metadata": {},
     "output_type": "execute_result"
    }
   ],
   "source": [
    "# Create a logistic regression model\n",
    "classifier = LogisticRegression(solver='lbfgs', max_iter=1300, random_state=1)\n",
    "\n",
    "# Fit and train the model using the training data\n",
    "classifier.fit(X_train_ros, y_train_ros)"
   ]
  },
  {
   "cell_type": "code",
   "execution_count": 70,
   "metadata": {},
   "outputs": [],
   "source": [
    "# Make predictions\n",
    "predictions = classifier.predict(X_test)"
   ]
  },
  {
   "attachments": {},
   "cell_type": "markdown",
   "metadata": {},
   "source": [
    "### Evaluate the models performance"
   ]
  },
  {
   "cell_type": "code",
   "execution_count": 71,
   "metadata": {},
   "outputs": [
    {
     "name": "stdout",
     "output_type": "stream",
     "text": [
      "The balanced accuracy score of the model is 0.7805714285714285\n",
      "\n",
      "\n"
     ]
    },
    {
     "data": {
      "text/html": [
       "<div>\n",
       "<style scoped>\n",
       "    .dataframe tbody tr th:only-of-type {\n",
       "        vertical-align: middle;\n",
       "    }\n",
       "\n",
       "    .dataframe tbody tr th {\n",
       "        vertical-align: top;\n",
       "    }\n",
       "\n",
       "    .dataframe thead th {\n",
       "        text-align: right;\n",
       "    }\n",
       "</style>\n",
       "<table border=\"1\" class=\"dataframe\">\n",
       "  <thead>\n",
       "    <tr style=\"text-align: right;\">\n",
       "      <th></th>\n",
       "      <th>Predicted - Did not survive</th>\n",
       "      <th>Predicted - Survived</th>\n",
       "    </tr>\n",
       "  </thead>\n",
       "  <tbody>\n",
       "    <tr>\n",
       "      <th>Actual - Did not survive</th>\n",
       "      <td>174</td>\n",
       "      <td>29</td>\n",
       "    </tr>\n",
       "    <tr>\n",
       "      <th>Actual - Survived</th>\n",
       "      <td>37</td>\n",
       "      <td>88</td>\n",
       "    </tr>\n",
       "  </tbody>\n",
       "</table>\n",
       "</div>"
      ],
      "text/plain": [
       "                          Predicted - Did not survive  Predicted - Survived\n",
       "Actual - Did not survive                          174                    29\n",
       "Actual - Survived                                  37                    88"
      ]
     },
     "metadata": {},
     "output_type": "display_data"
    },
    {
     "name": "stdout",
     "output_type": "stream",
     "text": [
      "\n",
      "\n",
      "                 precision    recall  f1-score   support\n",
      "\n",
      "Did not survive       0.82      0.86      0.84       203\n",
      "       Survived       0.75      0.70      0.73       125\n",
      "\n",
      "       accuracy                           0.80       328\n",
      "      macro avg       0.79      0.78      0.78       328\n",
      "   weighted avg       0.80      0.80      0.80       328\n",
      "\n"
     ]
    }
   ],
   "source": [
    "# Confusion matrix\n",
    "cm = confusion_matrix(y_test, predictions)\n",
    "cm_df = pd.DataFrame(\n",
    "    cm, index=['Actual - Did not survive', 'Actual - Survived'], columns=['Predicted - Did not survive', 'Predicted - Survived']\n",
    ")\n",
    "\n",
    "# Classification report\n",
    "target_names = [\"Did not survive\", \"Survived\"]\n",
    "\n",
    "# Print the evaluation\n",
    "print(f\"The balanced accuracy score of the model is {balanced_accuracy_score(y_test, predictions)}\")\n",
    "print(f\"\")\n",
    "print(f\"\")\n",
    "display(cm_df)\n",
    "print(f\"\")\n",
    "print(f\"\")\n",
    "print(classification_report(y_test, predictions, target_names=target_names))"
   ]
  },
  {
   "attachments": {},
   "cell_type": "markdown",
   "metadata": {},
   "source": [
    "# Model 3 - tuning\n",
    "<h7> optimisation made was changing the test/train split"
   ]
  },
  {
   "attachments": {},
   "cell_type": "markdown",
   "metadata": {},
   "source": [
    "### Separate the data into labels and features"
   ]
  },
  {
   "cell_type": "code",
   "execution_count": 72,
   "metadata": {},
   "outputs": [],
   "source": [
    "# Separate the features (X) from the target (y)\n",
    "y = df_titanic_transformed[\"survived\"]\n",
    "X = df_titanic_transformed.drop(columns='survived')"
   ]
  },
  {
   "cell_type": "code",
   "execution_count": 73,
   "metadata": {},
   "outputs": [
    {
     "data": {
      "text/plain": [
       "0    1\n",
       "1    1\n",
       "2    0\n",
       "3    0\n",
       "4    0\n",
       "Name: survived, dtype: int64"
      ]
     },
     "execution_count": 73,
     "metadata": {},
     "output_type": "execute_result"
    }
   ],
   "source": [
    "# Reivew the y variable series\n",
    "y.head()"
   ]
  },
  {
   "cell_type": "code",
   "execution_count": 74,
   "metadata": {},
   "outputs": [
    {
     "data": {
      "text/html": [
       "<div>\n",
       "<style scoped>\n",
       "    .dataframe tbody tr th:only-of-type {\n",
       "        vertical-align: middle;\n",
       "    }\n",
       "\n",
       "    .dataframe tbody tr th {\n",
       "        vertical-align: top;\n",
       "    }\n",
       "\n",
       "    .dataframe thead th {\n",
       "        text-align: right;\n",
       "    }\n",
       "</style>\n",
       "<table border=\"1\" class=\"dataframe\">\n",
       "  <thead>\n",
       "    <tr style=\"text-align: right;\">\n",
       "      <th></th>\n",
       "      <th>sibsp</th>\n",
       "      <th>parch</th>\n",
       "      <th>age_updated</th>\n",
       "      <th>fare_updated</th>\n",
       "      <th>male</th>\n",
       "      <th>Queenstown (IE)</th>\n",
       "      <th>Southampton (UK)</th>\n",
       "      <th>B</th>\n",
       "      <th>C</th>\n",
       "      <th>D</th>\n",
       "      <th>...</th>\n",
       "      <th>G</th>\n",
       "      <th>T</th>\n",
       "      <th>Unknown</th>\n",
       "      <th>Second class</th>\n",
       "      <th>Third class</th>\n",
       "      <th>Mr</th>\n",
       "      <th>Mrs</th>\n",
       "      <th>Noblility</th>\n",
       "      <th>Professional</th>\n",
       "      <th>male_child</th>\n",
       "    </tr>\n",
       "  </thead>\n",
       "  <tbody>\n",
       "    <tr>\n",
       "      <th>0</th>\n",
       "      <td>0</td>\n",
       "      <td>0</td>\n",
       "      <td>29.0000</td>\n",
       "      <td>211.3375</td>\n",
       "      <td>0</td>\n",
       "      <td>0</td>\n",
       "      <td>1</td>\n",
       "      <td>1</td>\n",
       "      <td>0</td>\n",
       "      <td>0</td>\n",
       "      <td>...</td>\n",
       "      <td>0</td>\n",
       "      <td>0</td>\n",
       "      <td>0</td>\n",
       "      <td>0</td>\n",
       "      <td>0</td>\n",
       "      <td>0</td>\n",
       "      <td>0</td>\n",
       "      <td>0</td>\n",
       "      <td>0</td>\n",
       "      <td>0</td>\n",
       "    </tr>\n",
       "    <tr>\n",
       "      <th>1</th>\n",
       "      <td>1</td>\n",
       "      <td>2</td>\n",
       "      <td>0.9167</td>\n",
       "      <td>151.5500</td>\n",
       "      <td>1</td>\n",
       "      <td>0</td>\n",
       "      <td>1</td>\n",
       "      <td>0</td>\n",
       "      <td>1</td>\n",
       "      <td>0</td>\n",
       "      <td>...</td>\n",
       "      <td>0</td>\n",
       "      <td>0</td>\n",
       "      <td>0</td>\n",
       "      <td>0</td>\n",
       "      <td>0</td>\n",
       "      <td>0</td>\n",
       "      <td>0</td>\n",
       "      <td>0</td>\n",
       "      <td>0</td>\n",
       "      <td>1</td>\n",
       "    </tr>\n",
       "    <tr>\n",
       "      <th>2</th>\n",
       "      <td>1</td>\n",
       "      <td>2</td>\n",
       "      <td>2.0000</td>\n",
       "      <td>151.5500</td>\n",
       "      <td>0</td>\n",
       "      <td>0</td>\n",
       "      <td>1</td>\n",
       "      <td>0</td>\n",
       "      <td>1</td>\n",
       "      <td>0</td>\n",
       "      <td>...</td>\n",
       "      <td>0</td>\n",
       "      <td>0</td>\n",
       "      <td>0</td>\n",
       "      <td>0</td>\n",
       "      <td>0</td>\n",
       "      <td>0</td>\n",
       "      <td>0</td>\n",
       "      <td>0</td>\n",
       "      <td>0</td>\n",
       "      <td>0</td>\n",
       "    </tr>\n",
       "    <tr>\n",
       "      <th>3</th>\n",
       "      <td>1</td>\n",
       "      <td>2</td>\n",
       "      <td>30.0000</td>\n",
       "      <td>151.5500</td>\n",
       "      <td>1</td>\n",
       "      <td>0</td>\n",
       "      <td>1</td>\n",
       "      <td>0</td>\n",
       "      <td>1</td>\n",
       "      <td>0</td>\n",
       "      <td>...</td>\n",
       "      <td>0</td>\n",
       "      <td>0</td>\n",
       "      <td>0</td>\n",
       "      <td>0</td>\n",
       "      <td>0</td>\n",
       "      <td>1</td>\n",
       "      <td>0</td>\n",
       "      <td>0</td>\n",
       "      <td>0</td>\n",
       "      <td>0</td>\n",
       "    </tr>\n",
       "    <tr>\n",
       "      <th>4</th>\n",
       "      <td>1</td>\n",
       "      <td>2</td>\n",
       "      <td>25.0000</td>\n",
       "      <td>151.5500</td>\n",
       "      <td>0</td>\n",
       "      <td>0</td>\n",
       "      <td>1</td>\n",
       "      <td>0</td>\n",
       "      <td>1</td>\n",
       "      <td>0</td>\n",
       "      <td>...</td>\n",
       "      <td>0</td>\n",
       "      <td>0</td>\n",
       "      <td>0</td>\n",
       "      <td>0</td>\n",
       "      <td>0</td>\n",
       "      <td>0</td>\n",
       "      <td>1</td>\n",
       "      <td>0</td>\n",
       "      <td>0</td>\n",
       "      <td>0</td>\n",
       "    </tr>\n",
       "  </tbody>\n",
       "</table>\n",
       "<p>5 rows × 22 columns</p>\n",
       "</div>"
      ],
      "text/plain": [
       "   sibsp  parch  age_updated  fare_updated  male  Queenstown (IE)  \\\n",
       "0      0      0      29.0000      211.3375     0                0   \n",
       "1      1      2       0.9167      151.5500     1                0   \n",
       "2      1      2       2.0000      151.5500     0                0   \n",
       "3      1      2      30.0000      151.5500     1                0   \n",
       "4      1      2      25.0000      151.5500     0                0   \n",
       "\n",
       "   Southampton (UK)  B  C  D  ...  G  T  Unknown  Second class  Third class  \\\n",
       "0                 1  1  0  0  ...  0  0        0             0            0   \n",
       "1                 1  0  1  0  ...  0  0        0             0            0   \n",
       "2                 1  0  1  0  ...  0  0        0             0            0   \n",
       "3                 1  0  1  0  ...  0  0        0             0            0   \n",
       "4                 1  0  1  0  ...  0  0        0             0            0   \n",
       "\n",
       "   Mr  Mrs  Noblility  Professional  male_child  \n",
       "0   0    0          0             0           0  \n",
       "1   0    0          0             0           1  \n",
       "2   0    0          0             0           0  \n",
       "3   1    0          0             0           0  \n",
       "4   0    1          0             0           0  \n",
       "\n",
       "[5 rows x 22 columns]"
      ]
     },
     "execution_count": 74,
     "metadata": {},
     "output_type": "execute_result"
    }
   ],
   "source": [
    "# Review the X variable dataframe\n",
    "X.head()"
   ]
  },
  {
   "cell_type": "code",
   "execution_count": 75,
   "metadata": {},
   "outputs": [
    {
     "data": {
      "text/plain": [
       "0    809\n",
       "1    500\n",
       "Name: survived, dtype: int64"
      ]
     },
     "execution_count": 75,
     "metadata": {},
     "output_type": "execute_result"
    }
   ],
   "source": [
    "# Check the balance of our target values\n",
    "y.value_counts()"
   ]
  },
  {
   "attachments": {},
   "cell_type": "markdown",
   "metadata": {},
   "source": [
    "### Split data into training and testing datasets using train_test_split"
   ]
  },
  {
   "cell_type": "code",
   "execution_count": 76,
   "metadata": {},
   "outputs": [
    {
     "data": {
      "text/plain": [
       "(1047, 22)"
      ]
     },
     "execution_count": 76,
     "metadata": {},
     "output_type": "execute_result"
    }
   ],
   "source": [
    "# Split data into training and testing specifying the train size of 0.8\n",
    "X_train, X_test, y_train, y_test = train_test_split(X, \n",
    "                                                    y, \n",
    "                                                    random_state=1, \n",
    "                                                    stratify=y,\n",
    "                                                    train_size = 0.8)\n",
    "X_train.shape"
   ]
  },
  {
   "attachments": {},
   "cell_type": "markdown",
   "metadata": {},
   "source": [
    "### Apply random over sampler due to the imblanced data"
   ]
  },
  {
   "cell_type": "code",
   "execution_count": 77,
   "metadata": {},
   "outputs": [],
   "source": [
    "# Instantiate the random oversample model\n",
    "ros = RandomOverSampler(random_state=1)"
   ]
  },
  {
   "cell_type": "code",
   "execution_count": 78,
   "metadata": {},
   "outputs": [],
   "source": [
    "# Fit the original training data to the random_oversampler model\n",
    "X_train_ros, y_train_ros= ros.fit_resample(X_train, y_train)"
   ]
  },
  {
   "cell_type": "code",
   "execution_count": 79,
   "metadata": {},
   "outputs": [
    {
     "data": {
      "text/plain": [
       "1    647\n",
       "0    647\n",
       "Name: survived, dtype: int64"
      ]
     },
     "execution_count": 79,
     "metadata": {},
     "output_type": "execute_result"
    }
   ],
   "source": [
    "# Count the distinct values of the resampled labels data\n",
    "y_train_ros.value_counts()"
   ]
  },
  {
   "cell_type": "code",
   "execution_count": 80,
   "metadata": {},
   "outputs": [
    {
     "data": {
      "text/plain": [
       "1    647\n",
       "0    647\n",
       "Name: survived, dtype: int64"
      ]
     },
     "execution_count": 80,
     "metadata": {},
     "output_type": "execute_result"
    }
   ],
   "source": [
    "# Count the distinct values of the resampled labels data\n",
    "y_train_ros.value_counts()"
   ]
  },
  {
   "attachments": {},
   "cell_type": "markdown",
   "metadata": {},
   "source": [
    "### Create logistic regression model\n"
   ]
  },
  {
   "cell_type": "code",
   "execution_count": 81,
   "metadata": {},
   "outputs": [
    {
     "data": {
      "text/plain": [
       "LogisticRegression(max_iter=1300, random_state=1)"
      ]
     },
     "execution_count": 81,
     "metadata": {},
     "output_type": "execute_result"
    }
   ],
   "source": [
    "# Create a logistic regression model\n",
    "classifier = LogisticRegression(solver='lbfgs', max_iter=1300, random_state=1)\n",
    "\n",
    "# Fit and train the model using the training data\n",
    "classifier.fit(X_train_ros, y_train_ros)"
   ]
  },
  {
   "cell_type": "code",
   "execution_count": 82,
   "metadata": {},
   "outputs": [],
   "source": [
    "# Make predictions\n",
    "predictions = classifier.predict(X_test)"
   ]
  },
  {
   "attachments": {},
   "cell_type": "markdown",
   "metadata": {},
   "source": [
    "### Evaluate the models performance"
   ]
  },
  {
   "cell_type": "code",
   "execution_count": 83,
   "metadata": {},
   "outputs": [],
   "source": [
    "# Confusion matrix\n",
    "cm = confusion_matrix(y_test, predictions)\n",
    "cm_df = pd.DataFrame(\n",
    "    cm, index=['Actual - Did not survive', 'Actual - Survived'], columns=['Predicted - Did not survive', 'Predicted - Survived']\n",
    ")\n",
    "\n",
    "# Classification report\n",
    "target_names = [\"Did not survive\", \"Survived\"]"
   ]
  },
  {
   "cell_type": "code",
   "execution_count": 84,
   "metadata": {},
   "outputs": [
    {
     "name": "stdout",
     "output_type": "stream",
     "text": [
      "The balanced accuracy score of the model is 0.8028395061728395\n",
      "\n",
      "\n"
     ]
    },
    {
     "data": {
      "text/html": [
       "<div>\n",
       "<style scoped>\n",
       "    .dataframe tbody tr th:only-of-type {\n",
       "        vertical-align: middle;\n",
       "    }\n",
       "\n",
       "    .dataframe tbody tr th {\n",
       "        vertical-align: top;\n",
       "    }\n",
       "\n",
       "    .dataframe thead th {\n",
       "        text-align: right;\n",
       "    }\n",
       "</style>\n",
       "<table border=\"1\" class=\"dataframe\">\n",
       "  <thead>\n",
       "    <tr style=\"text-align: right;\">\n",
       "      <th></th>\n",
       "      <th>Predicted - Did not survive</th>\n",
       "      <th>Predicted - Survived</th>\n",
       "    </tr>\n",
       "  </thead>\n",
       "  <tbody>\n",
       "    <tr>\n",
       "      <th>Actual - Did not survive</th>\n",
       "      <td>137</td>\n",
       "      <td>25</td>\n",
       "    </tr>\n",
       "    <tr>\n",
       "      <th>Actual - Survived</th>\n",
       "      <td>24</td>\n",
       "      <td>76</td>\n",
       "    </tr>\n",
       "  </tbody>\n",
       "</table>\n",
       "</div>"
      ],
      "text/plain": [
       "                          Predicted - Did not survive  Predicted - Survived\n",
       "Actual - Did not survive                          137                    25\n",
       "Actual - Survived                                  24                    76"
      ]
     },
     "metadata": {},
     "output_type": "display_data"
    },
    {
     "name": "stdout",
     "output_type": "stream",
     "text": [
      "\n",
      "\n",
      "                 precision    recall  f1-score   support\n",
      "\n",
      "Did not survive       0.85      0.85      0.85       162\n",
      "       Survived       0.75      0.76      0.76       100\n",
      "\n",
      "       accuracy                           0.81       262\n",
      "      macro avg       0.80      0.80      0.80       262\n",
      "   weighted avg       0.81      0.81      0.81       262\n",
      "\n"
     ]
    }
   ],
   "source": [
    "# Print the evaluation\n",
    "print(f\"The balanced accuracy score of the model is {balanced_accuracy_score(y_test, predictions)}\")\n",
    "print(f\"\")\n",
    "print(f\"\")\n",
    "display(cm_df)\n",
    "print(f\"\")\n",
    "print(f\"\")\n",
    "print(classification_report(y_test, predictions, target_names=target_names))"
   ]
  },
  {
   "attachments": {},
   "cell_type": "markdown",
   "metadata": {},
   "source": [
    "# Performing PCA Analysis on model 3"
   ]
  },
  {
   "attachments": {},
   "cell_type": "markdown",
   "metadata": {},
   "source": [
    "### Separate the data into labels and features"
   ]
  },
  {
   "cell_type": "code",
   "execution_count": 85,
   "metadata": {},
   "outputs": [],
   "source": [
    "# Separate the features (X) from the target (y)\n",
    "y = df_titanic_transformed[\"survived\"]\n",
    "X = df_titanic_transformed.drop(columns='survived')"
   ]
  },
  {
   "cell_type": "code",
   "execution_count": 86,
   "metadata": {},
   "outputs": [
    {
     "data": {
      "text/plain": [
       "0    1\n",
       "1    1\n",
       "2    0\n",
       "3    0\n",
       "4    0\n",
       "Name: survived, dtype: int64"
      ]
     },
     "execution_count": 86,
     "metadata": {},
     "output_type": "execute_result"
    }
   ],
   "source": [
    "# Reivew the y variable series\n",
    "y.head()"
   ]
  },
  {
   "cell_type": "code",
   "execution_count": 87,
   "metadata": {},
   "outputs": [
    {
     "data": {
      "text/html": [
       "<div>\n",
       "<style scoped>\n",
       "    .dataframe tbody tr th:only-of-type {\n",
       "        vertical-align: middle;\n",
       "    }\n",
       "\n",
       "    .dataframe tbody tr th {\n",
       "        vertical-align: top;\n",
       "    }\n",
       "\n",
       "    .dataframe thead th {\n",
       "        text-align: right;\n",
       "    }\n",
       "</style>\n",
       "<table border=\"1\" class=\"dataframe\">\n",
       "  <thead>\n",
       "    <tr style=\"text-align: right;\">\n",
       "      <th></th>\n",
       "      <th>sibsp</th>\n",
       "      <th>parch</th>\n",
       "      <th>age_updated</th>\n",
       "      <th>fare_updated</th>\n",
       "      <th>male</th>\n",
       "      <th>Queenstown (IE)</th>\n",
       "      <th>Southampton (UK)</th>\n",
       "      <th>B</th>\n",
       "      <th>C</th>\n",
       "      <th>D</th>\n",
       "      <th>...</th>\n",
       "      <th>G</th>\n",
       "      <th>T</th>\n",
       "      <th>Unknown</th>\n",
       "      <th>Second class</th>\n",
       "      <th>Third class</th>\n",
       "      <th>Mr</th>\n",
       "      <th>Mrs</th>\n",
       "      <th>Noblility</th>\n",
       "      <th>Professional</th>\n",
       "      <th>male_child</th>\n",
       "    </tr>\n",
       "  </thead>\n",
       "  <tbody>\n",
       "    <tr>\n",
       "      <th>0</th>\n",
       "      <td>0</td>\n",
       "      <td>0</td>\n",
       "      <td>29.0000</td>\n",
       "      <td>211.3375</td>\n",
       "      <td>0</td>\n",
       "      <td>0</td>\n",
       "      <td>1</td>\n",
       "      <td>1</td>\n",
       "      <td>0</td>\n",
       "      <td>0</td>\n",
       "      <td>...</td>\n",
       "      <td>0</td>\n",
       "      <td>0</td>\n",
       "      <td>0</td>\n",
       "      <td>0</td>\n",
       "      <td>0</td>\n",
       "      <td>0</td>\n",
       "      <td>0</td>\n",
       "      <td>0</td>\n",
       "      <td>0</td>\n",
       "      <td>0</td>\n",
       "    </tr>\n",
       "    <tr>\n",
       "      <th>1</th>\n",
       "      <td>1</td>\n",
       "      <td>2</td>\n",
       "      <td>0.9167</td>\n",
       "      <td>151.5500</td>\n",
       "      <td>1</td>\n",
       "      <td>0</td>\n",
       "      <td>1</td>\n",
       "      <td>0</td>\n",
       "      <td>1</td>\n",
       "      <td>0</td>\n",
       "      <td>...</td>\n",
       "      <td>0</td>\n",
       "      <td>0</td>\n",
       "      <td>0</td>\n",
       "      <td>0</td>\n",
       "      <td>0</td>\n",
       "      <td>0</td>\n",
       "      <td>0</td>\n",
       "      <td>0</td>\n",
       "      <td>0</td>\n",
       "      <td>1</td>\n",
       "    </tr>\n",
       "    <tr>\n",
       "      <th>2</th>\n",
       "      <td>1</td>\n",
       "      <td>2</td>\n",
       "      <td>2.0000</td>\n",
       "      <td>151.5500</td>\n",
       "      <td>0</td>\n",
       "      <td>0</td>\n",
       "      <td>1</td>\n",
       "      <td>0</td>\n",
       "      <td>1</td>\n",
       "      <td>0</td>\n",
       "      <td>...</td>\n",
       "      <td>0</td>\n",
       "      <td>0</td>\n",
       "      <td>0</td>\n",
       "      <td>0</td>\n",
       "      <td>0</td>\n",
       "      <td>0</td>\n",
       "      <td>0</td>\n",
       "      <td>0</td>\n",
       "      <td>0</td>\n",
       "      <td>0</td>\n",
       "    </tr>\n",
       "    <tr>\n",
       "      <th>3</th>\n",
       "      <td>1</td>\n",
       "      <td>2</td>\n",
       "      <td>30.0000</td>\n",
       "      <td>151.5500</td>\n",
       "      <td>1</td>\n",
       "      <td>0</td>\n",
       "      <td>1</td>\n",
       "      <td>0</td>\n",
       "      <td>1</td>\n",
       "      <td>0</td>\n",
       "      <td>...</td>\n",
       "      <td>0</td>\n",
       "      <td>0</td>\n",
       "      <td>0</td>\n",
       "      <td>0</td>\n",
       "      <td>0</td>\n",
       "      <td>1</td>\n",
       "      <td>0</td>\n",
       "      <td>0</td>\n",
       "      <td>0</td>\n",
       "      <td>0</td>\n",
       "    </tr>\n",
       "    <tr>\n",
       "      <th>4</th>\n",
       "      <td>1</td>\n",
       "      <td>2</td>\n",
       "      <td>25.0000</td>\n",
       "      <td>151.5500</td>\n",
       "      <td>0</td>\n",
       "      <td>0</td>\n",
       "      <td>1</td>\n",
       "      <td>0</td>\n",
       "      <td>1</td>\n",
       "      <td>0</td>\n",
       "      <td>...</td>\n",
       "      <td>0</td>\n",
       "      <td>0</td>\n",
       "      <td>0</td>\n",
       "      <td>0</td>\n",
       "      <td>0</td>\n",
       "      <td>0</td>\n",
       "      <td>1</td>\n",
       "      <td>0</td>\n",
       "      <td>0</td>\n",
       "      <td>0</td>\n",
       "    </tr>\n",
       "  </tbody>\n",
       "</table>\n",
       "<p>5 rows × 22 columns</p>\n",
       "</div>"
      ],
      "text/plain": [
       "   sibsp  parch  age_updated  fare_updated  male  Queenstown (IE)  \\\n",
       "0      0      0      29.0000      211.3375     0                0   \n",
       "1      1      2       0.9167      151.5500     1                0   \n",
       "2      1      2       2.0000      151.5500     0                0   \n",
       "3      1      2      30.0000      151.5500     1                0   \n",
       "4      1      2      25.0000      151.5500     0                0   \n",
       "\n",
       "   Southampton (UK)  B  C  D  ...  G  T  Unknown  Second class  Third class  \\\n",
       "0                 1  1  0  0  ...  0  0        0             0            0   \n",
       "1                 1  0  1  0  ...  0  0        0             0            0   \n",
       "2                 1  0  1  0  ...  0  0        0             0            0   \n",
       "3                 1  0  1  0  ...  0  0        0             0            0   \n",
       "4                 1  0  1  0  ...  0  0        0             0            0   \n",
       "\n",
       "   Mr  Mrs  Noblility  Professional  male_child  \n",
       "0   0    0          0             0           0  \n",
       "1   0    0          0             0           1  \n",
       "2   0    0          0             0           0  \n",
       "3   1    0          0             0           0  \n",
       "4   0    1          0             0           0  \n",
       "\n",
       "[5 rows x 22 columns]"
      ]
     },
     "execution_count": 87,
     "metadata": {},
     "output_type": "execute_result"
    }
   ],
   "source": [
    "# Review the X variable dataframe\n",
    "X.head()"
   ]
  },
  {
   "cell_type": "code",
   "execution_count": 88,
   "metadata": {},
   "outputs": [
    {
     "data": {
      "text/plain": [
       "0    809\n",
       "1    500\n",
       "Name: survived, dtype: int64"
      ]
     },
     "execution_count": 88,
     "metadata": {},
     "output_type": "execute_result"
    }
   ],
   "source": [
    "# Check the balance of our target values\n",
    "y.value_counts()"
   ]
  },
  {
   "cell_type": "code",
   "execution_count": 89,
   "metadata": {},
   "outputs": [
    {
     "name": "stdout",
     "output_type": "stream",
     "text": [
      "Eigenvalues:\n",
      "[3.25118165 2.45617077 1.79607196 1.66431743 1.23129986 1.15868562\n",
      " 1.0806281  1.0485738  1.04581225 1.00601082 1.00455974 0.99980449\n",
      " 0.93753305 0.77405571 0.63512437 0.58528477 0.46796622 0.41139916\n",
      " 0.31984379 0.10155148 0.0374907  0.00345386]\n",
      "\n",
      "Variances (Percentage):\n",
      "[14.76680878 11.15588361  8.15772666  7.55929995  5.59254191  5.26272933\n",
      "  4.90819349  4.76260342  4.75006049  4.5692831   4.56269233  4.54109407\n",
      "  4.25825831  3.51574715  2.8847235   2.65835293  2.12549417  1.8685676\n",
      "  1.45272474  0.46124499  0.17028211  0.01568735]\n",
      "\n"
     ]
    },
    {
     "data": {
      "text/plain": [
       "Text(0, 0.5, 'Explained variance (%)')"
      ]
     },
     "execution_count": 89,
     "metadata": {},
     "output_type": "execute_result"
    },
    {
     "data": {
      "image/png": "[encoded data removed]",
      "text/plain": [
       "<Figure size 432x288 with 1 Axes>"
      ]
     },
     "metadata": {
      "needs_background": "light"
     },
     "output_type": "display_data"
    }
   ],
   "source": [
    "# Do feature scaling\n",
    "sc = StandardScaler()\n",
    "X_scaled = sc.fit_transform(X)\n",
    "\n",
    "# Apply PCA\n",
    "from sklearn.decomposition import PCA\n",
    "pca = PCA(n_components=None)\n",
    "pca.fit(X_scaled)\n",
    "\n",
    "# Get the eigenvalues\n",
    "print(\"Eigenvalues:\")\n",
    "print(pca.explained_variance_)\n",
    "print()\n",
    "\n",
    "# Get explained variances\n",
    "print(\"Variances (Percentage):\")\n",
    "print(pca.explained_variance_ratio_ * 100)\n",
    "print()\n",
    "\n",
    "# Make the scree plot\n",
    "import matplotlib.pyplot as plt\n",
    "import numpy as np\n",
    "plt.plot(np.cumsum(pca.explained_variance_ratio_ * 100))\n",
    "plt.xlabel(\"Number of components (Dimensions)\")\n",
    "plt.ylabel(\"Explained variance (%)\")"
   ]
  },
  {
   "cell_type": "code",
   "execution_count": 90,
   "metadata": {},
   "outputs": [
    {
     "name": "stdout",
     "output_type": "stream",
     "text": [
      "          0         1         2         3         4         5         6  \\\n",
      "0  3.934168 -0.538394 -0.610097  1.231397 -0.157211 -0.879106  3.726183   \n",
      "1  2.599740  1.795213  0.643414  4.884679  1.424206 -0.140162 -2.169708   \n",
      "2  3.429109  1.201471 -0.008620  2.039943 -0.225622 -0.406481 -1.925442   \n",
      "3  2.587514 -1.284407  0.096818  2.880865 -0.609448 -0.701074 -2.147402   \n",
      "4  4.615663  1.107481  0.175981  0.821016 -1.165525 -0.639887 -2.221110   \n",
      "\n",
      "          7         8         9        10        11        12        13  \\\n",
      "0  0.210044 -0.023938 -0.822951 -0.902078 -0.082903  0.071801 -1.797242   \n",
      "1  0.868210 -0.615264 -0.231858  0.281309 -0.090239  0.968072 -2.158033   \n",
      "2  1.562684 -0.839111 -0.822476 -0.131608 -0.204364  0.451835 -1.454080   \n",
      "3  1.163661 -0.856170 -1.020834 -0.252806 -0.259607  0.413838  0.333069   \n",
      "4  1.226351 -0.892186 -0.945798 -0.274658 -0.122909 -0.214610 -0.292808   \n",
      "\n",
      "         14  \n",
      "0  1.021171  \n",
      "1 -1.899510  \n",
      "2  1.462225  \n",
      "3  0.398591  \n",
      "4 -0.223251  \n",
      "\n",
      "Size: \n",
      "(1309, 15)\n"
     ]
    }
   ],
   "source": [
    "# Feature scaling\n",
    "from sklearn.preprocessing import StandardScaler\n",
    "sc = StandardScaler()\n",
    "X_scaled = sc.fit_transform(X)\n",
    "\n",
    "# Apply PCA using 15 as the number of components\n",
    "from sklearn.decomposition import PCA\n",
    "pca = PCA(n_components=15)\n",
    "X_pca = pca.fit_transform(X_scaled)\n",
    "\n",
    "# Get the transformed dataset\n",
    "X_pca = pd.DataFrame(X_pca)\n",
    "print(X_pca.head())\n",
    "print(\"\\nSize: \")\n",
    "print(X_pca.shape)"
   ]
  },
  {
   "cell_type": "code",
   "execution_count": 91,
   "metadata": {},
   "outputs": [
    {
     "data": {
      "text/plain": [
       "<matplotlib.axes._subplots.AxesSubplot at 0x13d279998c8>"
      ]
     },
     "execution_count": 91,
     "metadata": {},
     "output_type": "execute_result"
    },
    {
     "data": {
      "image/png": "[encoded data removed]",
      "text/plain": [
       "<Figure size 720x576 with 2 Axes>"
      ]
     },
     "metadata": {
      "needs_background": "light"
     },
     "output_type": "display_data"
    }
   ],
   "source": [
    "# Create a heatmap of transformed data set\n",
    "import seaborn as sns\n",
    "fig = plt.figure(figsize=(10, 8))\n",
    "sns.heatmap(X_pca.corr(), \n",
    "            annot=True)"
   ]
  },
  {
   "attachments": {},
   "cell_type": "markdown",
   "metadata": {},
   "source": [
    "### Split data into training and testing datasets using train_test_split"
   ]
  },
  {
   "cell_type": "code",
   "execution_count": 92,
   "metadata": {},
   "outputs": [
    {
     "data": {
      "text/plain": [
       "(1047, 22)"
      ]
     },
     "execution_count": 92,
     "metadata": {},
     "output_type": "execute_result"
    }
   ],
   "source": [
    "# Split data into training and testing\n",
    "X_train_pca, X_test_pca, y_train, y_test = train_test_split(X_pca, \n",
    "                                                    y, \n",
    "                                                    random_state=1, \n",
    "                                                    stratify=y)\n",
    "X_train.shape"
   ]
  },
  {
   "attachments": {},
   "cell_type": "markdown",
   "metadata": {},
   "source": [
    "### Create logistic regression model"
   ]
  },
  {
   "cell_type": "code",
   "execution_count": 93,
   "metadata": {},
   "outputs": [
    {
     "data": {
      "text/plain": [
       "LogisticRegression(max_iter=800, random_state=1)"
      ]
     },
     "execution_count": 93,
     "metadata": {},
     "output_type": "execute_result"
    }
   ],
   "source": [
    "# Create a logistic regression model\n",
    "classifier = LogisticRegression(solver='lbfgs', max_iter=800, random_state=1)\n",
    "\n",
    "# Fit and train the model using the training data\n",
    "classifier.fit(X_train_pca, y_train)"
   ]
  },
  {
   "cell_type": "code",
   "execution_count": 94,
   "metadata": {},
   "outputs": [],
   "source": [
    "# Make predictions\n",
    "predictions = classifier.predict(X_test_pca)"
   ]
  },
  {
   "attachments": {},
   "cell_type": "markdown",
   "metadata": {},
   "source": [
    "### Evaluate the models performance"
   ]
  },
  {
   "cell_type": "code",
   "execution_count": 95,
   "metadata": {},
   "outputs": [
    {
     "name": "stdout",
     "output_type": "stream",
     "text": [
      "The balanced accuracy score of the model is 0.7808866995073892\n",
      "\n",
      "\n"
     ]
    },
    {
     "data": {
      "text/html": [
       "<div>\n",
       "<style scoped>\n",
       "    .dataframe tbody tr th:only-of-type {\n",
       "        vertical-align: middle;\n",
       "    }\n",
       "\n",
       "    .dataframe tbody tr th {\n",
       "        vertical-align: top;\n",
       "    }\n",
       "\n",
       "    .dataframe thead th {\n",
       "        text-align: right;\n",
       "    }\n",
       "</style>\n",
       "<table border=\"1\" class=\"dataframe\">\n",
       "  <thead>\n",
       "    <tr style=\"text-align: right;\">\n",
       "      <th></th>\n",
       "      <th>Predicted - Did not survive</th>\n",
       "      <th>Predicted - Survived</th>\n",
       "    </tr>\n",
       "  </thead>\n",
       "  <tbody>\n",
       "    <tr>\n",
       "      <th>Actual - Did not survive</th>\n",
       "      <td>179</td>\n",
       "      <td>24</td>\n",
       "    </tr>\n",
       "    <tr>\n",
       "      <th>Actual - Survived</th>\n",
       "      <td>40</td>\n",
       "      <td>85</td>\n",
       "    </tr>\n",
       "  </tbody>\n",
       "</table>\n",
       "</div>"
      ],
      "text/plain": [
       "                          Predicted - Did not survive  Predicted - Survived\n",
       "Actual - Did not survive                          179                    24\n",
       "Actual - Survived                                  40                    85"
      ]
     },
     "metadata": {},
     "output_type": "display_data"
    },
    {
     "name": "stdout",
     "output_type": "stream",
     "text": [
      "\n",
      "\n",
      "                 precision    recall  f1-score   support\n",
      "\n",
      "Did not survive       0.82      0.88      0.85       203\n",
      "       Survived       0.78      0.68      0.73       125\n",
      "\n",
      "       accuracy                           0.80       328\n",
      "      macro avg       0.80      0.78      0.79       328\n",
      "   weighted avg       0.80      0.80      0.80       328\n",
      "\n"
     ]
    }
   ],
   "source": [
    "# Confusion matrix\n",
    "cm = confusion_matrix(y_test, predictions)\n",
    "cm_df = pd.DataFrame(\n",
    "    cm, index=['Actual - Did not survive', 'Actual - Survived'], columns=['Predicted - Did not survive', 'Predicted - Survived']\n",
    ")\n",
    "\n",
    "# Classification report\n",
    "target_names = [\"Did not survive\", \"Survived\"]\n",
    "\n",
    "# Print the evaluation\n",
    "print(f\"The balanced accuracy score of the model is {balanced_accuracy_score(y_test, predictions)}\")\n",
    "print(f\"\")\n",
    "print(f\"\")\n",
    "display(cm_df)\n",
    "print(f\"\")\n",
    "print(f\"\")\n",
    "print(classification_report(y_test, predictions, target_names=target_names))"
   ]
  }
 ],
 "metadata": {
  "kernelspec": {
   "display_name": "PythonData",
   "language": "python",
   "name": "python3"
  },
  "language_info": {
   "codemirror_mode": {
    "name": "ipython",
    "version": 3
   },
   "file_extension": ".py",
   "mimetype": "text/x-python",
   "name": "python",
   "nbconvert_exporter": "python",
   "pygments_lexer": "ipython3",
   "version": "3.7.7"
  },
  "orig_nbformat": 4
 },
 "nbformat": 4,
 "nbformat_minor": 2
}
