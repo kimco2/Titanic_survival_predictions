{
 "cells": [
  {
   "attachments": {},
   "cell_type": "markdown",
   "metadata": {},
   "source": [
    "# Random Forest"
   ]
  },
  {
   "attachments": {},
   "cell_type": "markdown",
   "metadata": {},
   "source": [
    "# Model 1\n",
    "<h7> Using the data columns that produced the best outcome in logistic regression"
   ]
  },
  {
   "cell_type": "code",
   "execution_count": 65,
   "metadata": {},
   "outputs": [],
   "source": [
    "import pandas as pd\n",
    "from pathlib import Path\n",
    "from sklearn.model_selection import train_test_split\n",
    "from sklearn.linear_model import LogisticRegression\n",
    "from sklearn.metrics import balanced_accuracy_score, accuracy_score, confusion_matrix, classification_report\n",
    "from sklearn.preprocessing import StandardScaler\n",
    "from imblearn.over_sampling import RandomOverSampler\n",
    "from sklearn.ensemble import RandomForestClassifier"
   ]
  },
  {
   "cell_type": "code",
   "execution_count": 66,
   "metadata": {},
   "outputs": [
    {
     "data": {
      "text/html": [
       "<div>\n",
       "<style scoped>\n",
       "    .dataframe tbody tr th:only-of-type {\n",
       "        vertical-align: middle;\n",
       "    }\n",
       "\n",
       "    .dataframe tbody tr th {\n",
       "        vertical-align: top;\n",
       "    }\n",
       "\n",
       "    .dataframe thead th {\n",
       "        text-align: right;\n",
       "    }\n",
       "</style>\n",
       "<table border=\"1\" class=\"dataframe\">\n",
       "  <thead>\n",
       "    <tr style=\"text-align: right;\">\n",
       "      <th></th>\n",
       "      <th>passenger_id</th>\n",
       "      <th>survived</th>\n",
       "      <th>name</th>\n",
       "      <th>sex</th>\n",
       "      <th>sibsp</th>\n",
       "      <th>parch</th>\n",
       "      <th>age_updated</th>\n",
       "      <th>embarked_updated</th>\n",
       "      <th>fare_updated</th>\n",
       "      <th>deck</th>\n",
       "      <th>pclass_updated</th>\n",
       "    </tr>\n",
       "  </thead>\n",
       "  <tbody>\n",
       "    <tr>\n",
       "      <th>0</th>\n",
       "      <td>1</td>\n",
       "      <td>1</td>\n",
       "      <td>Allen, Miss. Elisabeth Walton</td>\n",
       "      <td>female</td>\n",
       "      <td>0</td>\n",
       "      <td>0</td>\n",
       "      <td>29.0000</td>\n",
       "      <td>Southampton (UK)</td>\n",
       "      <td>211.3375</td>\n",
       "      <td>B</td>\n",
       "      <td>First class</td>\n",
       "    </tr>\n",
       "    <tr>\n",
       "      <th>1</th>\n",
       "      <td>2</td>\n",
       "      <td>1</td>\n",
       "      <td>Allison, Master. Hudson Trevor</td>\n",
       "      <td>male</td>\n",
       "      <td>1</td>\n",
       "      <td>2</td>\n",
       "      <td>0.9167</td>\n",
       "      <td>Southampton (UK)</td>\n",
       "      <td>151.5500</td>\n",
       "      <td>C</td>\n",
       "      <td>First class</td>\n",
       "    </tr>\n",
       "    <tr>\n",
       "      <th>2</th>\n",
       "      <td>3</td>\n",
       "      <td>0</td>\n",
       "      <td>Allison, Miss. Helen Loraine</td>\n",
       "      <td>female</td>\n",
       "      <td>1</td>\n",
       "      <td>2</td>\n",
       "      <td>2.0000</td>\n",
       "      <td>Southampton (UK)</td>\n",
       "      <td>151.5500</td>\n",
       "      <td>C</td>\n",
       "      <td>First class</td>\n",
       "    </tr>\n",
       "    <tr>\n",
       "      <th>3</th>\n",
       "      <td>4</td>\n",
       "      <td>0</td>\n",
       "      <td>Allison, Mr. Hudson Joshua Creighton</td>\n",
       "      <td>male</td>\n",
       "      <td>1</td>\n",
       "      <td>2</td>\n",
       "      <td>30.0000</td>\n",
       "      <td>Southampton (UK)</td>\n",
       "      <td>151.5500</td>\n",
       "      <td>C</td>\n",
       "      <td>First class</td>\n",
       "    </tr>\n",
       "    <tr>\n",
       "      <th>4</th>\n",
       "      <td>5</td>\n",
       "      <td>0</td>\n",
       "      <td>Allison, Mrs. Hudson J C (Bessie Waldo Daniels)</td>\n",
       "      <td>female</td>\n",
       "      <td>1</td>\n",
       "      <td>2</td>\n",
       "      <td>25.0000</td>\n",
       "      <td>Southampton (UK)</td>\n",
       "      <td>151.5500</td>\n",
       "      <td>C</td>\n",
       "      <td>First class</td>\n",
       "    </tr>\n",
       "  </tbody>\n",
       "</table>\n",
       "</div>"
      ],
      "text/plain": [
       "   passenger_id  survived                                             name  \\\n",
       "0             1         1                    Allen, Miss. Elisabeth Walton   \n",
       "1             2         1                   Allison, Master. Hudson Trevor   \n",
       "2             3         0                     Allison, Miss. Helen Loraine   \n",
       "3             4         0             Allison, Mr. Hudson Joshua Creighton   \n",
       "4             5         0  Allison, Mrs. Hudson J C (Bessie Waldo Daniels)   \n",
       "\n",
       "      sex  sibsp  parch  age_updated  embarked_updated  fare_updated deck  \\\n",
       "0  female      0      0      29.0000  Southampton (UK)      211.3375    B   \n",
       "1    male      1      2       0.9167  Southampton (UK)      151.5500    C   \n",
       "2  female      1      2       2.0000  Southampton (UK)      151.5500    C   \n",
       "3    male      1      2      30.0000  Southampton (UK)      151.5500    C   \n",
       "4  female      1      2      25.0000  Southampton (UK)      151.5500    C   \n",
       "\n",
       "  pclass_updated  \n",
       "0    First class  \n",
       "1    First class  \n",
       "2    First class  \n",
       "3    First class  \n",
       "4    First class  "
      ]
     },
     "execution_count": 66,
     "metadata": {},
     "output_type": "execute_result"
    }
   ],
   "source": [
    "# Read in the csv file\n",
    "titanic_df = pd.read_csv(Path(\"data_files/titanic_cleaned.csv\"))\n",
    "titanic_df.head() # Reviewing dataframe"
   ]
  },
  {
   "attachments": {},
   "cell_type": "markdown",
   "metadata": {},
   "source": [
    "### Preparing the data"
   ]
  },
  {
   "cell_type": "code",
   "execution_count": 67,
   "metadata": {},
   "outputs": [],
   "source": [
    "# Create a copy of the dataframe\n",
    "titanic_rf_one = titanic_df.copy()"
   ]
  },
  {
   "attachments": {},
   "cell_type": "markdown",
   "metadata": {},
   "source": [
    "<h7> Extracting tile from name"
   ]
  },
  {
   "cell_type": "code",
   "execution_count": 68,
   "metadata": {},
   "outputs": [],
   "source": [
    "# Extracting titles from passenger name and assigning them to a new column\n",
    "name_split = titanic_rf_one['name'].str.split(',', expand=True)[1] # splitting name in two based on the ',' and taking the second column which contains the title\n",
    "title = name_split.str.split('.', expand=True)[0] # splitting name in two based on the full stop and taking the first column that contains only the title\n",
    "title = title.str.strip() # removing the additional space at the start of the title\n",
    "titanic_rf_one['title'] = title # adding title as a new column in the data frame"
   ]
  },
  {
   "cell_type": "code",
   "execution_count": 69,
   "metadata": {},
   "outputs": [],
   "source": [
    "# Creating a function to classify the titles into different groups\n",
    "def title_grouped(title):\n",
    "        if title == 'Miss' or title == 'Mlle' or title == 'Ms':\n",
    "            return \"Miss\"\n",
    "        elif title == 'Mrs' or title =='Mme':\n",
    "            return \"Mrs\"\n",
    "        elif title == \"Mr\" or title == 'Dr' or title == 'Rev':\n",
    "            return \"Mr\"\n",
    "        elif title == \"Master\":\n",
    "            return \"male_child\"\n",
    "        elif title == \"Col\" or title == \"Major\" or title == \"Capt\":\n",
    "            return \"Military\"\n",
    "        elif title == \"Don\" or title == \"Jonkheer\" or title == \"Sir\":\n",
    "            return \"Noblility\"\n",
    "        elif title == \"the Countess\" or title == \"Lady\" or title == \"Dona\":\n",
    "            return \"Noblility\"\n",
    "        else:\n",
    "            return title"
   ]
  },
  {
   "cell_type": "code",
   "execution_count": 70,
   "metadata": {},
   "outputs": [
    {
     "data": {
      "text/html": [
       "<div>\n",
       "<style scoped>\n",
       "    .dataframe tbody tr th:only-of-type {\n",
       "        vertical-align: middle;\n",
       "    }\n",
       "\n",
       "    .dataframe tbody tr th {\n",
       "        vertical-align: top;\n",
       "    }\n",
       "\n",
       "    .dataframe thead th {\n",
       "        text-align: right;\n",
       "    }\n",
       "</style>\n",
       "<table border=\"1\" class=\"dataframe\">\n",
       "  <thead>\n",
       "    <tr style=\"text-align: right;\">\n",
       "      <th></th>\n",
       "      <th>passenger_id</th>\n",
       "      <th>survived</th>\n",
       "      <th>sex</th>\n",
       "      <th>sibsp</th>\n",
       "      <th>parch</th>\n",
       "      <th>age_updated</th>\n",
       "      <th>embarked_updated</th>\n",
       "      <th>fare_updated</th>\n",
       "      <th>deck</th>\n",
       "      <th>pclass_updated</th>\n",
       "      <th>title_grouped</th>\n",
       "    </tr>\n",
       "  </thead>\n",
       "  <tbody>\n",
       "    <tr>\n",
       "      <th>0</th>\n",
       "      <td>1</td>\n",
       "      <td>1</td>\n",
       "      <td>female</td>\n",
       "      <td>0</td>\n",
       "      <td>0</td>\n",
       "      <td>29.0000</td>\n",
       "      <td>Southampton (UK)</td>\n",
       "      <td>211.3375</td>\n",
       "      <td>B</td>\n",
       "      <td>First class</td>\n",
       "      <td>Miss</td>\n",
       "    </tr>\n",
       "    <tr>\n",
       "      <th>1</th>\n",
       "      <td>2</td>\n",
       "      <td>1</td>\n",
       "      <td>male</td>\n",
       "      <td>1</td>\n",
       "      <td>2</td>\n",
       "      <td>0.9167</td>\n",
       "      <td>Southampton (UK)</td>\n",
       "      <td>151.5500</td>\n",
       "      <td>C</td>\n",
       "      <td>First class</td>\n",
       "      <td>male_child</td>\n",
       "    </tr>\n",
       "    <tr>\n",
       "      <th>2</th>\n",
       "      <td>3</td>\n",
       "      <td>0</td>\n",
       "      <td>female</td>\n",
       "      <td>1</td>\n",
       "      <td>2</td>\n",
       "      <td>2.0000</td>\n",
       "      <td>Southampton (UK)</td>\n",
       "      <td>151.5500</td>\n",
       "      <td>C</td>\n",
       "      <td>First class</td>\n",
       "      <td>Miss</td>\n",
       "    </tr>\n",
       "    <tr>\n",
       "      <th>3</th>\n",
       "      <td>4</td>\n",
       "      <td>0</td>\n",
       "      <td>male</td>\n",
       "      <td>1</td>\n",
       "      <td>2</td>\n",
       "      <td>30.0000</td>\n",
       "      <td>Southampton (UK)</td>\n",
       "      <td>151.5500</td>\n",
       "      <td>C</td>\n",
       "      <td>First class</td>\n",
       "      <td>Mr</td>\n",
       "    </tr>\n",
       "    <tr>\n",
       "      <th>4</th>\n",
       "      <td>5</td>\n",
       "      <td>0</td>\n",
       "      <td>female</td>\n",
       "      <td>1</td>\n",
       "      <td>2</td>\n",
       "      <td>25.0000</td>\n",
       "      <td>Southampton (UK)</td>\n",
       "      <td>151.5500</td>\n",
       "      <td>C</td>\n",
       "      <td>First class</td>\n",
       "      <td>Mrs</td>\n",
       "    </tr>\n",
       "  </tbody>\n",
       "</table>\n",
       "</div>"
      ],
      "text/plain": [
       "   passenger_id  survived     sex  sibsp  parch  age_updated  \\\n",
       "0             1         1  female      0      0      29.0000   \n",
       "1             2         1    male      1      2       0.9167   \n",
       "2             3         0  female      1      2       2.0000   \n",
       "3             4         0    male      1      2      30.0000   \n",
       "4             5         0  female      1      2      25.0000   \n",
       "\n",
       "   embarked_updated  fare_updated deck pclass_updated title_grouped  \n",
       "0  Southampton (UK)      211.3375    B    First class          Miss  \n",
       "1  Southampton (UK)      151.5500    C    First class    male_child  \n",
       "2  Southampton (UK)      151.5500    C    First class          Miss  \n",
       "3  Southampton (UK)      151.5500    C    First class            Mr  \n",
       "4  Southampton (UK)      151.5500    C    First class           Mrs  "
      ]
     },
     "execution_count": 70,
     "metadata": {},
     "output_type": "execute_result"
    }
   ],
   "source": [
    "# Calling that function and assigning results to new column in dataframe\n",
    "titanic_rf_one['title_grouped'] = titanic_rf_one['title'].apply(title_grouped)\n",
    "titanic_rf_one.drop(['title', 'name'], axis=1, inplace=True) # dropping the title and name columns as not required\n",
    "titanic_rf_one.head()"
   ]
  },
  {
   "cell_type": "code",
   "execution_count": 71,
   "metadata": {},
   "outputs": [
    {
     "data": {
      "text/plain": [
       "Mr            773\n",
       "Miss          264\n",
       "Mrs           198\n",
       "male_child     61\n",
       "Military        7\n",
       "Noblility       6\n",
       "Name: title_grouped, dtype: int64"
      ]
     },
     "execution_count": 71,
     "metadata": {},
     "output_type": "execute_result"
    }
   ],
   "source": [
    "titanic_rf_one['title_grouped'].value_counts(dropna=False)"
   ]
  },
  {
   "attachments": {},
   "cell_type": "markdown",
   "metadata": {},
   "source": [
    "<h7> Counting the number of family members travelling with them and assigning it to a new value"
   ]
  },
  {
   "cell_type": "code",
   "execution_count": 72,
   "metadata": {},
   "outputs": [
    {
     "data": {
      "text/html": [
       "<div>\n",
       "<style scoped>\n",
       "    .dataframe tbody tr th:only-of-type {\n",
       "        vertical-align: middle;\n",
       "    }\n",
       "\n",
       "    .dataframe tbody tr th {\n",
       "        vertical-align: top;\n",
       "    }\n",
       "\n",
       "    .dataframe thead th {\n",
       "        text-align: right;\n",
       "    }\n",
       "</style>\n",
       "<table border=\"1\" class=\"dataframe\">\n",
       "  <thead>\n",
       "    <tr style=\"text-align: right;\">\n",
       "      <th></th>\n",
       "      <th>survived</th>\n",
       "      <th>sex</th>\n",
       "      <th>age_updated</th>\n",
       "      <th>embarked_updated</th>\n",
       "      <th>fare_updated</th>\n",
       "      <th>deck</th>\n",
       "      <th>pclass_updated</th>\n",
       "      <th>title_grouped</th>\n",
       "      <th>family_members</th>\n",
       "    </tr>\n",
       "  </thead>\n",
       "  <tbody>\n",
       "    <tr>\n",
       "      <th>0</th>\n",
       "      <td>1</td>\n",
       "      <td>female</td>\n",
       "      <td>29.0000</td>\n",
       "      <td>Southampton (UK)</td>\n",
       "      <td>211.3375</td>\n",
       "      <td>B</td>\n",
       "      <td>First class</td>\n",
       "      <td>Miss</td>\n",
       "      <td>0</td>\n",
       "    </tr>\n",
       "    <tr>\n",
       "      <th>1</th>\n",
       "      <td>1</td>\n",
       "      <td>male</td>\n",
       "      <td>0.9167</td>\n",
       "      <td>Southampton (UK)</td>\n",
       "      <td>151.5500</td>\n",
       "      <td>C</td>\n",
       "      <td>First class</td>\n",
       "      <td>male_child</td>\n",
       "      <td>3</td>\n",
       "    </tr>\n",
       "    <tr>\n",
       "      <th>2</th>\n",
       "      <td>0</td>\n",
       "      <td>female</td>\n",
       "      <td>2.0000</td>\n",
       "      <td>Southampton (UK)</td>\n",
       "      <td>151.5500</td>\n",
       "      <td>C</td>\n",
       "      <td>First class</td>\n",
       "      <td>Miss</td>\n",
       "      <td>3</td>\n",
       "    </tr>\n",
       "    <tr>\n",
       "      <th>3</th>\n",
       "      <td>0</td>\n",
       "      <td>male</td>\n",
       "      <td>30.0000</td>\n",
       "      <td>Southampton (UK)</td>\n",
       "      <td>151.5500</td>\n",
       "      <td>C</td>\n",
       "      <td>First class</td>\n",
       "      <td>Mr</td>\n",
       "      <td>3</td>\n",
       "    </tr>\n",
       "    <tr>\n",
       "      <th>4</th>\n",
       "      <td>0</td>\n",
       "      <td>female</td>\n",
       "      <td>25.0000</td>\n",
       "      <td>Southampton (UK)</td>\n",
       "      <td>151.5500</td>\n",
       "      <td>C</td>\n",
       "      <td>First class</td>\n",
       "      <td>Mrs</td>\n",
       "      <td>3</td>\n",
       "    </tr>\n",
       "  </tbody>\n",
       "</table>\n",
       "</div>"
      ],
      "text/plain": [
       "   survived     sex  age_updated  embarked_updated  fare_updated deck  \\\n",
       "0         1  female      29.0000  Southampton (UK)      211.3375    B   \n",
       "1         1    male       0.9167  Southampton (UK)      151.5500    C   \n",
       "2         0  female       2.0000  Southampton (UK)      151.5500    C   \n",
       "3         0    male      30.0000  Southampton (UK)      151.5500    C   \n",
       "4         0  female      25.0000  Southampton (UK)      151.5500    C   \n",
       "\n",
       "  pclass_updated title_grouped  family_members  \n",
       "0    First class          Miss               0  \n",
       "1    First class    male_child               3  \n",
       "2    First class          Miss               3  \n",
       "3    First class            Mr               3  \n",
       "4    First class           Mrs               3  "
      ]
     },
     "execution_count": 72,
     "metadata": {},
     "output_type": "execute_result"
    }
   ],
   "source": [
    "# Summing the number of family members\n",
    "titanic_rf_one['family_members'] = titanic_rf_one['sibsp'] + titanic_rf_one['parch']\n",
    "\n",
    "# Dropping sibsp and parch columns as they are included in the new column as well as passenger_id\n",
    "titanic_rf_one = titanic_rf_one.drop(['sibsp', 'parch', 'passenger_id'], axis=1) \n",
    "titanic_rf_one.head()"
   ]
  },
  {
   "attachments": {},
   "cell_type": "markdown",
   "metadata": {},
   "source": [
    "<h7> Convert categorical data"
   ]
  },
  {
   "cell_type": "code",
   "execution_count": 73,
   "metadata": {},
   "outputs": [
    {
     "data": {
      "text/html": [
       "<div>\n",
       "<style scoped>\n",
       "    .dataframe tbody tr th:only-of-type {\n",
       "        vertical-align: middle;\n",
       "    }\n",
       "\n",
       "    .dataframe tbody tr th {\n",
       "        vertical-align: top;\n",
       "    }\n",
       "\n",
       "    .dataframe thead th {\n",
       "        text-align: right;\n",
       "    }\n",
       "</style>\n",
       "<table border=\"1\" class=\"dataframe\">\n",
       "  <thead>\n",
       "    <tr style=\"text-align: right;\">\n",
       "      <th></th>\n",
       "      <th>survived</th>\n",
       "      <th>age_updated</th>\n",
       "      <th>fare_updated</th>\n",
       "      <th>family_members</th>\n",
       "      <th>male</th>\n",
       "      <th>Queenstown (IE)</th>\n",
       "      <th>Southampton (UK)</th>\n",
       "      <th>B</th>\n",
       "      <th>C</th>\n",
       "      <th>D</th>\n",
       "      <th>...</th>\n",
       "      <th>G</th>\n",
       "      <th>T</th>\n",
       "      <th>Unknown</th>\n",
       "      <th>Second class</th>\n",
       "      <th>Third class</th>\n",
       "      <th>Miss</th>\n",
       "      <th>Mr</th>\n",
       "      <th>Mrs</th>\n",
       "      <th>Noblility</th>\n",
       "      <th>male_child</th>\n",
       "    </tr>\n",
       "  </thead>\n",
       "  <tbody>\n",
       "    <tr>\n",
       "      <th>0</th>\n",
       "      <td>1</td>\n",
       "      <td>29.0000</td>\n",
       "      <td>211.3375</td>\n",
       "      <td>0</td>\n",
       "      <td>0</td>\n",
       "      <td>0</td>\n",
       "      <td>1</td>\n",
       "      <td>1</td>\n",
       "      <td>0</td>\n",
       "      <td>0</td>\n",
       "      <td>...</td>\n",
       "      <td>0</td>\n",
       "      <td>0</td>\n",
       "      <td>0</td>\n",
       "      <td>0</td>\n",
       "      <td>0</td>\n",
       "      <td>1</td>\n",
       "      <td>0</td>\n",
       "      <td>0</td>\n",
       "      <td>0</td>\n",
       "      <td>0</td>\n",
       "    </tr>\n",
       "    <tr>\n",
       "      <th>1</th>\n",
       "      <td>1</td>\n",
       "      <td>0.9167</td>\n",
       "      <td>151.5500</td>\n",
       "      <td>3</td>\n",
       "      <td>1</td>\n",
       "      <td>0</td>\n",
       "      <td>1</td>\n",
       "      <td>0</td>\n",
       "      <td>1</td>\n",
       "      <td>0</td>\n",
       "      <td>...</td>\n",
       "      <td>0</td>\n",
       "      <td>0</td>\n",
       "      <td>0</td>\n",
       "      <td>0</td>\n",
       "      <td>0</td>\n",
       "      <td>0</td>\n",
       "      <td>0</td>\n",
       "      <td>0</td>\n",
       "      <td>0</td>\n",
       "      <td>1</td>\n",
       "    </tr>\n",
       "    <tr>\n",
       "      <th>2</th>\n",
       "      <td>0</td>\n",
       "      <td>2.0000</td>\n",
       "      <td>151.5500</td>\n",
       "      <td>3</td>\n",
       "      <td>0</td>\n",
       "      <td>0</td>\n",
       "      <td>1</td>\n",
       "      <td>0</td>\n",
       "      <td>1</td>\n",
       "      <td>0</td>\n",
       "      <td>...</td>\n",
       "      <td>0</td>\n",
       "      <td>0</td>\n",
       "      <td>0</td>\n",
       "      <td>0</td>\n",
       "      <td>0</td>\n",
       "      <td>1</td>\n",
       "      <td>0</td>\n",
       "      <td>0</td>\n",
       "      <td>0</td>\n",
       "      <td>0</td>\n",
       "    </tr>\n",
       "    <tr>\n",
       "      <th>3</th>\n",
       "      <td>0</td>\n",
       "      <td>30.0000</td>\n",
       "      <td>151.5500</td>\n",
       "      <td>3</td>\n",
       "      <td>1</td>\n",
       "      <td>0</td>\n",
       "      <td>1</td>\n",
       "      <td>0</td>\n",
       "      <td>1</td>\n",
       "      <td>0</td>\n",
       "      <td>...</td>\n",
       "      <td>0</td>\n",
       "      <td>0</td>\n",
       "      <td>0</td>\n",
       "      <td>0</td>\n",
       "      <td>0</td>\n",
       "      <td>0</td>\n",
       "      <td>1</td>\n",
       "      <td>0</td>\n",
       "      <td>0</td>\n",
       "      <td>0</td>\n",
       "    </tr>\n",
       "    <tr>\n",
       "      <th>4</th>\n",
       "      <td>0</td>\n",
       "      <td>25.0000</td>\n",
       "      <td>151.5500</td>\n",
       "      <td>3</td>\n",
       "      <td>0</td>\n",
       "      <td>0</td>\n",
       "      <td>1</td>\n",
       "      <td>0</td>\n",
       "      <td>1</td>\n",
       "      <td>0</td>\n",
       "      <td>...</td>\n",
       "      <td>0</td>\n",
       "      <td>0</td>\n",
       "      <td>0</td>\n",
       "      <td>0</td>\n",
       "      <td>0</td>\n",
       "      <td>0</td>\n",
       "      <td>0</td>\n",
       "      <td>1</td>\n",
       "      <td>0</td>\n",
       "      <td>0</td>\n",
       "    </tr>\n",
       "  </tbody>\n",
       "</table>\n",
       "<p>5 rows × 22 columns</p>\n",
       "</div>"
      ],
      "text/plain": [
       "   survived  age_updated  fare_updated  family_members  male  Queenstown (IE)  \\\n",
       "0         1      29.0000      211.3375               0     0                0   \n",
       "1         1       0.9167      151.5500               3     1                0   \n",
       "2         0       2.0000      151.5500               3     0                0   \n",
       "3         0      30.0000      151.5500               3     1                0   \n",
       "4         0      25.0000      151.5500               3     0                0   \n",
       "\n",
       "   Southampton (UK)  B  C  D  ...  G  T  Unknown  Second class  Third class  \\\n",
       "0                 1  1  0  0  ...  0  0        0             0            0   \n",
       "1                 1  0  1  0  ...  0  0        0             0            0   \n",
       "2                 1  0  1  0  ...  0  0        0             0            0   \n",
       "3                 1  0  1  0  ...  0  0        0             0            0   \n",
       "4                 1  0  1  0  ...  0  0        0             0            0   \n",
       "\n",
       "   Miss  Mr  Mrs  Noblility  male_child  \n",
       "0     1   0    0          0           0  \n",
       "1     0   0    0          0           1  \n",
       "2     1   0    0          0           0  \n",
       "3     0   1    0          0           0  \n",
       "4     0   0    1          0           0  \n",
       "\n",
       "[5 rows x 22 columns]"
      ]
     },
     "execution_count": 73,
     "metadata": {},
     "output_type": "execute_result"
    }
   ],
   "source": [
    "# converting categorical using get_dummies and dropping the first column so the importance isn't inflated\n",
    "sex_dummies = pd.get_dummies(titanic_rf_one['sex'], drop_first=True) \n",
    "embarked_dummies = pd.get_dummies(titanic_rf_one['embarked_updated'], drop_first=True)\n",
    "deck_dummies = pd.get_dummies(titanic_rf_one['deck'], drop_first=True)\n",
    "pclass_dummies = pd.get_dummies(titanic_rf_one['pclass_updated'], drop_first=True)\n",
    "title_dummies = pd.get_dummies(titanic_rf_one['title_grouped'], drop_first=True)\n",
    "\n",
    "# Concatenate the encoded dummies with the data frame and drop uncessary columns\n",
    "df_titanic_transformed = pd.concat([titanic_rf_one, sex_dummies, embarked_dummies, deck_dummies, pclass_dummies, title_dummies], axis=1)\n",
    "\n",
    "# dropping columns not required\n",
    "df_titanic_transformed = df_titanic_transformed.drop(['sex', 'embarked_updated', 'deck', 'pclass_updated', 'title_grouped'], axis=1) \n",
    "\n",
    "df_titanic_transformed.head()"
   ]
  },
  {
   "attachments": {},
   "cell_type": "markdown",
   "metadata": {},
   "source": [
    "<h7> Separate the data into labels and features"
   ]
  },
  {
   "cell_type": "code",
   "execution_count": 74,
   "metadata": {},
   "outputs": [
    {
     "data": {
      "text/html": [
       "<div>\n",
       "<style scoped>\n",
       "    .dataframe tbody tr th:only-of-type {\n",
       "        vertical-align: middle;\n",
       "    }\n",
       "\n",
       "    .dataframe tbody tr th {\n",
       "        vertical-align: top;\n",
       "    }\n",
       "\n",
       "    .dataframe thead th {\n",
       "        text-align: right;\n",
       "    }\n",
       "</style>\n",
       "<table border=\"1\" class=\"dataframe\">\n",
       "  <thead>\n",
       "    <tr style=\"text-align: right;\">\n",
       "      <th></th>\n",
       "      <th>age_updated</th>\n",
       "      <th>fare_updated</th>\n",
       "      <th>family_members</th>\n",
       "      <th>male</th>\n",
       "      <th>Queenstown (IE)</th>\n",
       "      <th>Southampton (UK)</th>\n",
       "      <th>B</th>\n",
       "      <th>C</th>\n",
       "      <th>D</th>\n",
       "      <th>E</th>\n",
       "      <th>...</th>\n",
       "      <th>G</th>\n",
       "      <th>T</th>\n",
       "      <th>Unknown</th>\n",
       "      <th>Second class</th>\n",
       "      <th>Third class</th>\n",
       "      <th>Miss</th>\n",
       "      <th>Mr</th>\n",
       "      <th>Mrs</th>\n",
       "      <th>Noblility</th>\n",
       "      <th>male_child</th>\n",
       "    </tr>\n",
       "  </thead>\n",
       "  <tbody>\n",
       "    <tr>\n",
       "      <th>0</th>\n",
       "      <td>29.0000</td>\n",
       "      <td>211.3375</td>\n",
       "      <td>0</td>\n",
       "      <td>0</td>\n",
       "      <td>0</td>\n",
       "      <td>1</td>\n",
       "      <td>1</td>\n",
       "      <td>0</td>\n",
       "      <td>0</td>\n",
       "      <td>0</td>\n",
       "      <td>...</td>\n",
       "      <td>0</td>\n",
       "      <td>0</td>\n",
       "      <td>0</td>\n",
       "      <td>0</td>\n",
       "      <td>0</td>\n",
       "      <td>1</td>\n",
       "      <td>0</td>\n",
       "      <td>0</td>\n",
       "      <td>0</td>\n",
       "      <td>0</td>\n",
       "    </tr>\n",
       "    <tr>\n",
       "      <th>1</th>\n",
       "      <td>0.9167</td>\n",
       "      <td>151.5500</td>\n",
       "      <td>3</td>\n",
       "      <td>1</td>\n",
       "      <td>0</td>\n",
       "      <td>1</td>\n",
       "      <td>0</td>\n",
       "      <td>1</td>\n",
       "      <td>0</td>\n",
       "      <td>0</td>\n",
       "      <td>...</td>\n",
       "      <td>0</td>\n",
       "      <td>0</td>\n",
       "      <td>0</td>\n",
       "      <td>0</td>\n",
       "      <td>0</td>\n",
       "      <td>0</td>\n",
       "      <td>0</td>\n",
       "      <td>0</td>\n",
       "      <td>0</td>\n",
       "      <td>1</td>\n",
       "    </tr>\n",
       "    <tr>\n",
       "      <th>2</th>\n",
       "      <td>2.0000</td>\n",
       "      <td>151.5500</td>\n",
       "      <td>3</td>\n",
       "      <td>0</td>\n",
       "      <td>0</td>\n",
       "      <td>1</td>\n",
       "      <td>0</td>\n",
       "      <td>1</td>\n",
       "      <td>0</td>\n",
       "      <td>0</td>\n",
       "      <td>...</td>\n",
       "      <td>0</td>\n",
       "      <td>0</td>\n",
       "      <td>0</td>\n",
       "      <td>0</td>\n",
       "      <td>0</td>\n",
       "      <td>1</td>\n",
       "      <td>0</td>\n",
       "      <td>0</td>\n",
       "      <td>0</td>\n",
       "      <td>0</td>\n",
       "    </tr>\n",
       "    <tr>\n",
       "      <th>3</th>\n",
       "      <td>30.0000</td>\n",
       "      <td>151.5500</td>\n",
       "      <td>3</td>\n",
       "      <td>1</td>\n",
       "      <td>0</td>\n",
       "      <td>1</td>\n",
       "      <td>0</td>\n",
       "      <td>1</td>\n",
       "      <td>0</td>\n",
       "      <td>0</td>\n",
       "      <td>...</td>\n",
       "      <td>0</td>\n",
       "      <td>0</td>\n",
       "      <td>0</td>\n",
       "      <td>0</td>\n",
       "      <td>0</td>\n",
       "      <td>0</td>\n",
       "      <td>1</td>\n",
       "      <td>0</td>\n",
       "      <td>0</td>\n",
       "      <td>0</td>\n",
       "    </tr>\n",
       "    <tr>\n",
       "      <th>4</th>\n",
       "      <td>25.0000</td>\n",
       "      <td>151.5500</td>\n",
       "      <td>3</td>\n",
       "      <td>0</td>\n",
       "      <td>0</td>\n",
       "      <td>1</td>\n",
       "      <td>0</td>\n",
       "      <td>1</td>\n",
       "      <td>0</td>\n",
       "      <td>0</td>\n",
       "      <td>...</td>\n",
       "      <td>0</td>\n",
       "      <td>0</td>\n",
       "      <td>0</td>\n",
       "      <td>0</td>\n",
       "      <td>0</td>\n",
       "      <td>0</td>\n",
       "      <td>0</td>\n",
       "      <td>1</td>\n",
       "      <td>0</td>\n",
       "      <td>0</td>\n",
       "    </tr>\n",
       "  </tbody>\n",
       "</table>\n",
       "<p>5 rows × 21 columns</p>\n",
       "</div>"
      ],
      "text/plain": [
       "   age_updated  fare_updated  family_members  male  Queenstown (IE)  \\\n",
       "0      29.0000      211.3375               0     0                0   \n",
       "1       0.9167      151.5500               3     1                0   \n",
       "2       2.0000      151.5500               3     0                0   \n",
       "3      30.0000      151.5500               3     1                0   \n",
       "4      25.0000      151.5500               3     0                0   \n",
       "\n",
       "   Southampton (UK)  B  C  D  E  ...  G  T  Unknown  Second class  \\\n",
       "0                 1  1  0  0  0  ...  0  0        0             0   \n",
       "1                 1  0  1  0  0  ...  0  0        0             0   \n",
       "2                 1  0  1  0  0  ...  0  0        0             0   \n",
       "3                 1  0  1  0  0  ...  0  0        0             0   \n",
       "4                 1  0  1  0  0  ...  0  0        0             0   \n",
       "\n",
       "   Third class  Miss  Mr  Mrs  Noblility  male_child  \n",
       "0            0     1   0    0          0           0  \n",
       "1            0     0   0    0          0           1  \n",
       "2            0     1   0    0          0           0  \n",
       "3            0     0   1    0          0           0  \n",
       "4            0     0   0    1          0           0  \n",
       "\n",
       "[5 rows x 21 columns]"
      ]
     },
     "execution_count": 74,
     "metadata": {},
     "output_type": "execute_result"
    }
   ],
   "source": [
    "# Separate the features (X) from the target (y)\n",
    "# Define features set\n",
    "X = df_titanic_transformed.copy()\n",
    "X.drop(\"survived\", axis=1, inplace=True)\n",
    "X.head()"
   ]
  },
  {
   "cell_type": "code",
   "execution_count": 75,
   "metadata": {},
   "outputs": [
    {
     "data": {
      "text/plain": [
       "array([1, 1, 0, 0, 0], dtype=int64)"
      ]
     },
     "execution_count": 75,
     "metadata": {},
     "output_type": "execute_result"
    }
   ],
   "source": [
    "# Define target vector\n",
    "y= df_titanic_transformed[\"survived\"].ravel()\n",
    "y[:5]"
   ]
  },
  {
   "attachments": {},
   "cell_type": "markdown",
   "metadata": {},
   "source": [
    "<h7> Split data into training and testing datasets using train_test_split"
   ]
  },
  {
   "cell_type": "code",
   "execution_count": 76,
   "metadata": {},
   "outputs": [
    {
     "data": {
      "text/plain": [
       "(981, 21)"
      ]
     },
     "execution_count": 76,
     "metadata": {},
     "output_type": "execute_result"
    }
   ],
   "source": [
    "# Split data into training and testing\n",
    "X_train, X_test, y_train, y_test = train_test_split(X, \n",
    "                                                    y, \n",
    "                                                    random_state=1, \n",
    "                                                    stratify=y)\n",
    "X_train.shape\n"
   ]
  },
  {
   "attachments": {},
   "cell_type": "markdown",
   "metadata": {},
   "source": [
    "## Apply random over sampler due to the imblanced data"
   ]
  },
  {
   "cell_type": "code",
   "execution_count": 77,
   "metadata": {},
   "outputs": [],
   "source": [
    "# # Instantiate the random oversample model\n",
    "# ros = RandomOverSampler(random_state=1)\n",
    "\n",
    "# # Fit the original training data to the random_oversampler model\n",
    "# X_train_ros, y_train_ros= ros.fit_resample(X_train, y_train)\n"
   ]
  },
  {
   "attachments": {},
   "cell_type": "markdown",
   "metadata": {},
   "source": [
    "### Fitting the Random Forest Model"
   ]
  },
  {
   "cell_type": "code",
   "execution_count": 78,
   "metadata": {},
   "outputs": [],
   "source": [
    "# Create a random forest classifier\n",
    "rf_model = RandomForestClassifier(n_estimators=500, random_state=78)"
   ]
  },
  {
   "cell_type": "code",
   "execution_count": 79,
   "metadata": {},
   "outputs": [],
   "source": [
    "# Fitting the model\n",
    "rf_model = rf_model.fit(X_train, y_train)"
   ]
  },
  {
   "cell_type": "code",
   "execution_count": 80,
   "metadata": {},
   "outputs": [],
   "source": [
    "# Make predictions\n",
    "predictions = rf_model.predict(X_test)"
   ]
  },
  {
   "attachments": {},
   "cell_type": "markdown",
   "metadata": {},
   "source": [
    "### Evaluate the models performance"
   ]
  },
  {
   "cell_type": "code",
   "execution_count": 81,
   "metadata": {},
   "outputs": [],
   "source": [
    "# Confusion matrix\n",
    "cm = confusion_matrix(y_test, predictions)\n",
    "cm_df = pd.DataFrame(\n",
    "    cm, index=['Actual - Did not survive', 'Actual - Survived'], columns=['Predicted - perished', 'Predicted - survived']\n",
    ")\n",
    "\n",
    "# Calculating the accuracy score\n",
    "acc_score = accuracy_score(y_test, predictions)"
   ]
  },
  {
   "cell_type": "code",
   "execution_count": 82,
   "metadata": {},
   "outputs": [
    {
     "name": "stdout",
     "output_type": "stream",
     "text": [
      "The balanced accuracy score of the model is 0.7873497536945813\n",
      "The accuracy score of the model is : 0.8109756097560976\n",
      "\n",
      "Confusion Matrix\n"
     ]
    },
    {
     "data": {
      "text/html": [
       "<div>\n",
       "<style scoped>\n",
       "    .dataframe tbody tr th:only-of-type {\n",
       "        vertical-align: middle;\n",
       "    }\n",
       "\n",
       "    .dataframe tbody tr th {\n",
       "        vertical-align: top;\n",
       "    }\n",
       "\n",
       "    .dataframe thead th {\n",
       "        text-align: right;\n",
       "    }\n",
       "</style>\n",
       "<table border=\"1\" class=\"dataframe\">\n",
       "  <thead>\n",
       "    <tr style=\"text-align: right;\">\n",
       "      <th></th>\n",
       "      <th>Predicted - perished</th>\n",
       "      <th>Predicted - survived</th>\n",
       "    </tr>\n",
       "  </thead>\n",
       "  <tbody>\n",
       "    <tr>\n",
       "      <th>Actual - Did not survive</th>\n",
       "      <td>180</td>\n",
       "      <td>23</td>\n",
       "    </tr>\n",
       "    <tr>\n",
       "      <th>Actual - Survived</th>\n",
       "      <td>39</td>\n",
       "      <td>86</td>\n",
       "    </tr>\n",
       "  </tbody>\n",
       "</table>\n",
       "</div>"
      ],
      "text/plain": [
       "                          Predicted - perished  Predicted - survived\n",
       "Actual - Did not survive                   180                    23\n",
       "Actual - Survived                           39                    86"
      ]
     },
     "metadata": {},
     "output_type": "display_data"
    },
    {
     "name": "stdout",
     "output_type": "stream",
     "text": [
      "Classification Report\n",
      "              precision    recall  f1-score   support\n",
      "\n",
      "           0       0.82      0.89      0.85       203\n",
      "           1       0.79      0.69      0.74       125\n",
      "\n",
      "    accuracy                           0.81       328\n",
      "   macro avg       0.81      0.79      0.79       328\n",
      "weighted avg       0.81      0.81      0.81       328\n",
      "\n"
     ]
    }
   ],
   "source": [
    "# Displaying results\n",
    "print(f\"The balanced accuracy score of the model is {balanced_accuracy_score(y_test, predictions)}\")\n",
    "print(f\"The accuracy score of the model is : {acc_score}\")\n",
    "print(f\"\")\n",
    "print(\"Confusion Matrix\")\n",
    "display(cm_df)\n",
    "print(\"Classification Report\")\n",
    "print(classification_report(y_test, predictions))"
   ]
  },
  {
   "attachments": {},
   "cell_type": "markdown",
   "metadata": {},
   "source": [
    "<h7> Feature Importance"
   ]
  },
  {
   "cell_type": "code",
   "execution_count": 83,
   "metadata": {},
   "outputs": [
    {
     "data": {
      "text/plain": [
       "[(0.23017515218871099, 'fare_updated'),\n",
       " (0.2216026966236659, 'age_updated'),\n",
       " (0.13089319172831612, 'Mr'),\n",
       " (0.1010800564954196, 'male'),\n",
       " (0.07839103128886118, 'family_members'),\n",
       " (0.05079000669666724, 'Third class'),\n",
       " (0.035655285064681415, 'Mrs'),\n",
       " (0.033219266588695805, 'Unknown'),\n",
       " (0.03178822602493409, 'Miss'),\n",
       " (0.02322189713877626, 'Southampton (UK)'),\n",
       " (0.017462090132019794, 'Second class'),\n",
       " (0.00804844641936076, 'Queenstown (IE)'),\n",
       " (0.007520752319373721, 'E'),\n",
       " (0.007131104022120719, 'C'),\n",
       " (0.00676309939609814, 'male_child'),\n",
       " (0.0067142296245753935, 'B'),\n",
       " (0.004909307049994003, 'D'),\n",
       " (0.0027067652257474818, 'F'),\n",
       " (0.00113083096238387, 'Noblility'),\n",
       " (0.0007965650095974122, 'G'),\n",
       " (0.0, 'T')]"
      ]
     },
     "execution_count": 83,
     "metadata": {},
     "output_type": "execute_result"
    }
   ],
   "source": [
    "# Assigning feature imprtorance to a value\n",
    "importances = rf_model.feature_importances_\n",
    "# Sort features by their importance\n",
    "sorted(zip(rf_model.feature_importances_, X.columns), reverse=True)"
   ]
  },
  {
   "cell_type": "code",
   "execution_count": 84,
   "metadata": {},
   "outputs": [
    {
     "data": {
      "text/plain": [
       "<matplotlib.axes._subplots.AxesSubplot at 0x1bd30c7e9c8>"
      ]
     },
     "execution_count": 84,
     "metadata": {},
     "output_type": "execute_result"
    },
    {
     "data": {
      "image/png": "[encoded data removed]",
      "text/plain": [
       "<Figure size 432x288 with 1 Axes>"
      ]
     },
     "metadata": {
      "needs_background": "light"
     },
     "output_type": "display_data"
    }
   ],
   "source": [
    "# Visualize the features by importance\n",
    "importances_df = pd.DataFrame(sorted(zip(rf_model.feature_importances_, X.columns), reverse=True))\n",
    "importances_df.set_index(importances_df[1], inplace=True)\n",
    "importances_df.drop(columns=1, inplace=True)\n",
    "importances_df.rename(columns={0: 'Feature Importances'}, inplace=True)\n",
    "importances_sorted = importances_df.sort_values(by='Feature Importances')\n",
    "importances_sorted.plot(kind='barh', color='lightgreen', title= 'Features Importances', legend=False)"
   ]
  },
  {
   "attachments": {},
   "cell_type": "markdown",
   "metadata": {},
   "source": [
    "# Model 2\n",
    "<h7> Optimising the model by increasing the number of trees in the forest"
   ]
  },
  {
   "attachments": {},
   "cell_type": "markdown",
   "metadata": {},
   "source": [
    "### Fitting the random forest model"
   ]
  },
  {
   "cell_type": "code",
   "execution_count": 85,
   "metadata": {},
   "outputs": [],
   "source": [
    "# Create a random forest classifier\n",
    "rf_model = RandomForestClassifier(n_estimators=1000, random_state=78)"
   ]
  },
  {
   "cell_type": "code",
   "execution_count": 86,
   "metadata": {},
   "outputs": [],
   "source": [
    "# Fitting the model\n",
    "rf_model = rf_model.fit(X_train, y_train)"
   ]
  },
  {
   "cell_type": "code",
   "execution_count": 87,
   "metadata": {},
   "outputs": [],
   "source": [
    "# Make predictions\n",
    "predictions = rf_model.predict(X_test)"
   ]
  },
  {
   "attachments": {},
   "cell_type": "markdown",
   "metadata": {},
   "source": [
    "### Evaluate the models performance"
   ]
  },
  {
   "cell_type": "code",
   "execution_count": 88,
   "metadata": {},
   "outputs": [],
   "source": [
    "# Confusion matrix\n",
    "cm = confusion_matrix(y_test, predictions)\n",
    "cm_df = pd.DataFrame(\n",
    "    cm, index=['Actual - Did not survive', 'Actual - Survived'], columns=['Predicted - perished', 'Predicted - survived']\n",
    ")\n",
    "\n",
    "# Calculating the accuracy score\n",
    "acc_score = accuracy_score(y_test, predictions)"
   ]
  },
  {
   "cell_type": "code",
   "execution_count": 89,
   "metadata": {},
   "outputs": [
    {
     "name": "stdout",
     "output_type": "stream",
     "text": [
      "The balanced accuracy score of the model is 0.7873497536945813\n",
      "The accuracy score of the model is : 0.8109756097560976\n",
      "\n",
      "Confusion Matrix\n"
     ]
    },
    {
     "data": {
      "text/html": [
       "<div>\n",
       "<style scoped>\n",
       "    .dataframe tbody tr th:only-of-type {\n",
       "        vertical-align: middle;\n",
       "    }\n",
       "\n",
       "    .dataframe tbody tr th {\n",
       "        vertical-align: top;\n",
       "    }\n",
       "\n",
       "    .dataframe thead th {\n",
       "        text-align: right;\n",
       "    }\n",
       "</style>\n",
       "<table border=\"1\" class=\"dataframe\">\n",
       "  <thead>\n",
       "    <tr style=\"text-align: right;\">\n",
       "      <th></th>\n",
       "      <th>Predicted - perished</th>\n",
       "      <th>Predicted - survived</th>\n",
       "    </tr>\n",
       "  </thead>\n",
       "  <tbody>\n",
       "    <tr>\n",
       "      <th>Actual - Did not survive</th>\n",
       "      <td>180</td>\n",
       "      <td>23</td>\n",
       "    </tr>\n",
       "    <tr>\n",
       "      <th>Actual - Survived</th>\n",
       "      <td>39</td>\n",
       "      <td>86</td>\n",
       "    </tr>\n",
       "  </tbody>\n",
       "</table>\n",
       "</div>"
      ],
      "text/plain": [
       "                          Predicted - perished  Predicted - survived\n",
       "Actual - Did not survive                   180                    23\n",
       "Actual - Survived                           39                    86"
      ]
     },
     "metadata": {},
     "output_type": "display_data"
    },
    {
     "name": "stdout",
     "output_type": "stream",
     "text": [
      "Classification Report\n",
      "              precision    recall  f1-score   support\n",
      "\n",
      "           0       0.82      0.89      0.85       203\n",
      "           1       0.79      0.69      0.74       125\n",
      "\n",
      "    accuracy                           0.81       328\n",
      "   macro avg       0.81      0.79      0.79       328\n",
      "weighted avg       0.81      0.81      0.81       328\n",
      "\n"
     ]
    }
   ],
   "source": [
    "# Displaying results\n",
    "print(f\"The balanced accuracy score of the model is {balanced_accuracy_score(y_test, predictions)}\")\n",
    "print(f\"The accuracy score of the model is : {acc_score}\")\n",
    "print(f\"\")\n",
    "print(\"Confusion Matrix\")\n",
    "display(cm_df)\n",
    "print(\"Classification Report\")\n",
    "print(classification_report(y_test, predictions))"
   ]
  },
  {
   "attachments": {},
   "cell_type": "markdown",
   "metadata": {},
   "source": [
    "### Feature importance"
   ]
  },
  {
   "cell_type": "code",
   "execution_count": 90,
   "metadata": {},
   "outputs": [
    {
     "data": {
      "text/plain": [
       "<matplotlib.axes._subplots.AxesSubplot at 0x1bd32cddbc8>"
      ]
     },
     "execution_count": 90,
     "metadata": {},
     "output_type": "execute_result"
    },
    {
     "data": {
      "image/png": "[encoded data removed]",
      "text/plain": [
       "<Figure size 432x288 with 1 Axes>"
      ]
     },
     "metadata": {
      "needs_background": "light"
     },
     "output_type": "display_data"
    }
   ],
   "source": [
    "# Visualize the features by importance\n",
    "importances_df = pd.DataFrame(sorted(zip(rf_model.feature_importances_, X.columns), reverse=True))\n",
    "importances_df.set_index(importances_df[1], inplace=True)\n",
    "importances_df.drop(columns=1, inplace=True)\n",
    "importances_df.rename(columns={0: 'Feature Importances'}, inplace=True)\n",
    "importances_sorted = importances_df.sort_values(by='Feature Importances')\n",
    "importances_sorted.plot(kind='barh', color='lightgreen', title= 'Features Importances', legend=False)"
   ]
  },
  {
   "cell_type": "code",
   "execution_count": 91,
   "metadata": {},
   "outputs": [
    {
     "data": {
      "text/plain": [
       "<matplotlib.axes._subplots.AxesSubplot at 0x1bd32cf3e88>"
      ]
     },
     "execution_count": 91,
     "metadata": {},
     "output_type": "execute_result"
    },
    {
     "data": {
      "image/png": "[encoded data removed]",
      "text/plain": [
       "<Figure size 432x288 with 1 Axes>"
      ]
     },
     "metadata": {
      "needs_background": "light"
     },
     "output_type": "display_data"
    }
   ],
   "source": [
    "# Visualize the features by importance\n",
    "importances_df = pd.DataFrame(sorted(zip(rf_model.feature_importances_, X.columns), reverse=True))\n",
    "importances_df.set_index(importances_df[1], inplace=True)\n",
    "importances_df.drop(columns=1, inplace=True)\n",
    "importances_df.rename(columns={0: 'Feature Importances'}, inplace=True)\n",
    "importances_sorted = importances_df.sort_values(by='Feature Importances')\n",
    "importances_sorted.plot(kind='barh', color='lightgreen', title= 'Features Importances', legend=False)"
   ]
  },
  {
   "attachments": {},
   "cell_type": "markdown",
   "metadata": {},
   "source": [
    "# Model 3 \n",
    "<h7> Optomisation includes increasing the number of trees in the forest"
   ]
  },
  {
   "attachments": {},
   "cell_type": "markdown",
   "metadata": {},
   "source": [
    "### Fitting the random forest model"
   ]
  },
  {
   "cell_type": "code",
   "execution_count": 92,
   "metadata": {},
   "outputs": [],
   "source": [
    "# Create a random forest classifier\n",
    "rf_model = RandomForestClassifier(n_estimators=3000, random_state=78)"
   ]
  },
  {
   "cell_type": "code",
   "execution_count": 93,
   "metadata": {},
   "outputs": [],
   "source": [
    "# Fitting the model\n",
    "rf_model = rf_model.fit(X_train, y_train)"
   ]
  },
  {
   "cell_type": "code",
   "execution_count": 94,
   "metadata": {},
   "outputs": [],
   "source": [
    "# Make predictions\n",
    "predictions = rf_model.predict(X_test)"
   ]
  },
  {
   "attachments": {},
   "cell_type": "markdown",
   "metadata": {},
   "source": [
    "### Evaluate the models performance"
   ]
  },
  {
   "cell_type": "code",
   "execution_count": 95,
   "metadata": {},
   "outputs": [],
   "source": [
    "# Confusion matrix\n",
    "cm = confusion_matrix(y_test, predictions)\n",
    "cm_df = pd.DataFrame(\n",
    "    cm, index=['Actual - Did not survive', 'Actual - Survived'], columns=['Predicted - perished', 'Predicted - survived']\n",
    ")\n",
    "\n",
    "# Calculating the accuracy score\n",
    "acc_score = accuracy_score(y_test, predictions)"
   ]
  },
  {
   "cell_type": "code",
   "execution_count": 96,
   "metadata": {},
   "outputs": [
    {
     "name": "stdout",
     "output_type": "stream",
     "text": [
      "The balanced accuracy score of the model is 0.7848866995073891\n",
      "The accuracy score of the model is : 0.8079268292682927\n",
      "\n",
      "Confusion Matrix\n"
     ]
    },
    {
     "data": {
      "text/html": [
       "<div>\n",
       "<style scoped>\n",
       "    .dataframe tbody tr th:only-of-type {\n",
       "        vertical-align: middle;\n",
       "    }\n",
       "\n",
       "    .dataframe tbody tr th {\n",
       "        vertical-align: top;\n",
       "    }\n",
       "\n",
       "    .dataframe thead th {\n",
       "        text-align: right;\n",
       "    }\n",
       "</style>\n",
       "<table border=\"1\" class=\"dataframe\">\n",
       "  <thead>\n",
       "    <tr style=\"text-align: right;\">\n",
       "      <th></th>\n",
       "      <th>Predicted - perished</th>\n",
       "      <th>Predicted - survived</th>\n",
       "    </tr>\n",
       "  </thead>\n",
       "  <tbody>\n",
       "    <tr>\n",
       "      <th>Actual - Did not survive</th>\n",
       "      <td>179</td>\n",
       "      <td>24</td>\n",
       "    </tr>\n",
       "    <tr>\n",
       "      <th>Actual - Survived</th>\n",
       "      <td>39</td>\n",
       "      <td>86</td>\n",
       "    </tr>\n",
       "  </tbody>\n",
       "</table>\n",
       "</div>"
      ],
      "text/plain": [
       "                          Predicted - perished  Predicted - survived\n",
       "Actual - Did not survive                   179                    24\n",
       "Actual - Survived                           39                    86"
      ]
     },
     "metadata": {},
     "output_type": "display_data"
    },
    {
     "name": "stdout",
     "output_type": "stream",
     "text": [
      "Classification Report\n",
      "              precision    recall  f1-score   support\n",
      "\n",
      "           0       0.82      0.88      0.85       203\n",
      "           1       0.78      0.69      0.73       125\n",
      "\n",
      "    accuracy                           0.81       328\n",
      "   macro avg       0.80      0.78      0.79       328\n",
      "weighted avg       0.81      0.81      0.81       328\n",
      "\n"
     ]
    }
   ],
   "source": [
    "# Displaying results\n",
    "print(f\"The balanced accuracy score of the model is {balanced_accuracy_score(y_test, predictions)}\")\n",
    "print(f\"The accuracy score of the model is : {acc_score}\")\n",
    "print(f\"\")\n",
    "print(\"Confusion Matrix\")\n",
    "display(cm_df)\n",
    "print(\"Classification Report\")\n",
    "print(classification_report(y_test, predictions))"
   ]
  },
  {
   "attachments": {},
   "cell_type": "markdown",
   "metadata": {},
   "source": [
    "### Feature importance"
   ]
  },
  {
   "cell_type": "code",
   "execution_count": 97,
   "metadata": {},
   "outputs": [
    {
     "data": {
      "text/plain": [
       "[(0.2312207483370338, 'fare_updated'),\n",
       " (0.22202026906357863, 'age_updated'),\n",
       " (0.1269806485965206, 'Mr'),\n",
       " (0.10505001954510018, 'male'),\n",
       " (0.07762830995933487, 'family_members'),\n",
       " (0.05162462455158283, 'Third class'),\n",
       " (0.03480524850182639, 'Mrs'),\n",
       " (0.032272548945475904, 'Unknown'),\n",
       " (0.031087061142798945, 'Miss'),\n",
       " (0.02294054492836904, 'Southampton (UK)'),\n",
       " (0.017343640337369688, 'Second class'),\n",
       " (0.008201707811481886, 'Queenstown (IE)'),\n",
       " (0.007687332237052479, 'male_child'),\n",
       " (0.007554366767088295, 'C'),\n",
       " (0.007313141842549014, 'E'),\n",
       " (0.006530423829340496, 'B'),\n",
       " (0.0051749850031639925, 'D'),\n",
       " (0.0026296359207904885, 'F'),\n",
       " (0.0011385848757856998, 'Noblility'),\n",
       " (0.0007961578037568161, 'G'),\n",
       " (0.0, 'T')]"
      ]
     },
     "execution_count": 97,
     "metadata": {},
     "output_type": "execute_result"
    }
   ],
   "source": [
    "# Assigning feature imprtorance to a value\n",
    "importances = rf_model.feature_importances_\n",
    "# Sort features by their importance\n",
    "sorted(zip(rf_model.feature_importances_, X.columns), reverse=True)"
   ]
  },
  {
   "cell_type": "code",
   "execution_count": 98,
   "metadata": {},
   "outputs": [
    {
     "data": {
      "text/plain": [
       "<matplotlib.axes._subplots.AxesSubplot at 0x1bd35fabbc8>"
      ]
     },
     "execution_count": 98,
     "metadata": {},
     "output_type": "execute_result"
    },
    {
     "data": {
      "image/png": "[encoded data removed]",
      "text/plain": [
       "<Figure size 432x288 with 1 Axes>"
      ]
     },
     "metadata": {
      "needs_background": "light"
     },
     "output_type": "display_data"
    }
   ],
   "source": [
    "# Visualize the features by importance\n",
    "importances_df = pd.DataFrame(sorted(zip(rf_model.feature_importances_, X.columns), reverse=True))\n",
    "importances_df.set_index(importances_df[1], inplace=True)\n",
    "importances_df.drop(columns=1, inplace=True)\n",
    "importances_df.rename(columns={0: 'Feature Importances'}, inplace=True)\n",
    "importances_sorted = importances_df.sort_values(by='Feature Importances')\n",
    "importances_sorted.plot(kind='barh', color='lightgreen', title= 'Features Importances', legend=False)"
   ]
  }
 ],
 "metadata": {
  "kernelspec": {
   "display_name": "PythonData",
   "language": "python",
   "name": "python3"
  },
  "language_info": {
   "codemirror_mode": {
    "name": "ipython",
    "version": 3
   },
   "file_extension": ".py",
   "mimetype": "text/x-python",
   "name": "python",
   "nbconvert_exporter": "python",
   "pygments_lexer": "ipython3",
   "version": "3.7.7"
  },
  "orig_nbformat": 4
 },
 "nbformat": 4,
 "nbformat_minor": 2
}
